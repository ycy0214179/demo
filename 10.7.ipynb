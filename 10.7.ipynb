{
  "nbformat": 4,
  "nbformat_minor": 0,
  "metadata": {
    "colab": {
      "name": "Untitled0.ipynb",
      "provenance": [],
      "collapsed_sections": [
        "N4-FKyIDJ72d"
      ],
      "toc_visible": true,
      "authorship_tag": "ABX9TyNK/EnaQag6VSYg2WZABl/8",
      "include_colab_link": true
    },
    "kernelspec": {
      "name": "python3",
      "display_name": "Python 3"
    },
    "language_info": {
      "name": "python"
    }
  },
  "cells": [
    {
      "cell_type": "markdown",
      "metadata": {
        "id": "view-in-github",
        "colab_type": "text"
      },
      "source": [
        "<a href=\"https://colab.research.google.com/github/ycy0214179/demo/blob/main/10.7.ipynb\" target=\"_parent\"><img src=\"https://colab.research.google.com/assets/colab-badge.svg\" alt=\"Open In Colab\"/></a>"
      ]
    },
    {
      "cell_type": "markdown",
      "metadata": {
        "id": "GEAg8VyDKSQ3"
      },
      "source": [
        "#第一章"
      ]
    },
    {
      "cell_type": "code",
      "metadata": {
        "colab": {
          "base_uri": "https://localhost:8080/",
          "height": 35
        },
        "id": "rl-j81Mdagbp",
        "outputId": "483e990a-bf72-42de-942e-56a53b93cbad"
      },
      "source": [
        "\"Hello World. You will never see it\""
      ],
      "execution_count": null,
      "outputs": [
        {
          "output_type": "execute_result",
          "data": {
            "application/vnd.google.colaboratory.intrinsic+json": {
              "type": "string"
            },
            "text/plain": [
              "'Hello World. You will never see it'"
            ]
          },
          "metadata": {},
          "execution_count": 3
        }
      ]
    },
    {
      "cell_type": "code",
      "metadata": {
        "colab": {
          "base_uri": "https://localhost:8080/"
        },
        "id": "AduJj3ly1H2z",
        "outputId": "7ed3d33f-a35b-43f3-f321-255251a12b9c"
      },
      "source": [
        "\"This text really won do anything this text do something \""
      ],
      "execution_count": null,
      "outputs": [
        {
          "output_type": "execute_result",
          "data": {
            "application/vnd.google.colaboratory.intrinsic+json": {
              "type": "string"
            },
            "text/plain": [
              "'This text really won do anything this text do something '"
            ]
          },
          "metadata": {},
          "execution_count": 8
        }
      ]
    },
    {
      "cell_type": "code",
      "metadata": {
        "colab": {
          "base_uri": "https://localhost:8080/"
        },
        "id": "58ahmi-f2Prt",
        "outputId": "ce35e69c-00ba-4e0c-9d4a-9236e859777d"
      },
      "source": [
        "\"This text really won do anything this text do something \""
      ],
      "execution_count": null,
      "outputs": [
        {
          "output_type": "execute_result",
          "data": {
            "application/vnd.google.colaboratory.intrinsic+json": {
              "type": "string"
            },
            "text/plain": [
              "'This text really won do anything this text do something '"
            ]
          },
          "metadata": {},
          "execution_count": 10
        }
      ]
    },
    {
      "cell_type": "code",
      "metadata": {
        "colab": {
          "base_uri": "https://localhost:8080/",
          "height": 35
        },
        "id": "CmeVdkHA3cua",
        "outputId": "483e990a-bf72-42de-942e-56a53b93cbad"
      },
      "source": [
        "\"Hello World. You will never see it\""
      ],
      "execution_count": null,
      "outputs": [
        {
          "output_type": "execute_result",
          "data": {
            "application/vnd.google.colaboratory.intrinsic+json": {
              "type": "string"
            },
            "text/plain": [
              "'Hello World. You will never see it'"
            ]
          },
          "metadata": {},
          "execution_count": 3
        }
      ]
    },
    {
      "cell_type": "code",
      "metadata": {
        "colab": {
          "base_uri": "https://localhost:8080/"
        },
        "id": "PZ7GAfJv31MB",
        "outputId": "9a61239b-72e9-4295-aba6-ae82ead18bf2"
      },
      "source": [
        "'hello'"
      ],
      "execution_count": null,
      "outputs": [
        {
          "output_type": "execute_result",
          "data": {
            "application/vnd.google.colaboratory.intrinsic+json": {
              "type": "string"
            },
            "text/plain": [
              "'hello'"
            ]
          },
          "metadata": {},
          "execution_count": 11
        }
      ]
    },
    {
      "cell_type": "code",
      "metadata": {
        "colab": {
          "base_uri": "https://localhost:8080/"
        },
        "id": "O4NokasI35jS",
        "outputId": "8558fbb5-2d62-42c2-a8bb-085ab87d3caa"
      },
      "source": [
        "\"\"\"hello\n",
        "look at \"\"\""
      ],
      "execution_count": null,
      "outputs": [
        {
          "output_type": "execute_result",
          "data": {
            "application/vnd.google.colaboratory.intrinsic+json": {
              "type": "string"
            },
            "text/plain": [
              "'hello\\nlook at '"
            ]
          },
          "metadata": {},
          "execution_count": 12
        }
      ]
    },
    {
      "cell_type": "code",
      "metadata": {
        "colab": {
          "base_uri": "https://localhost:8080/"
        },
        "id": "7PPeprkz6v5c",
        "outputId": "a395d208-0bcd-411f-fc95-72bee09dee82"
      },
      "source": [
        "print(\"hello World\")\n"
      ],
      "execution_count": null,
      "outputs": [
        {
          "output_type": "stream",
          "name": "stdout",
          "text": [
            "hello World\n"
          ]
        }
      ]
    },
    {
      "cell_type": "code",
      "metadata": {
        "colab": {
          "base_uri": "https://localhost:8080/"
        },
        "id": "gLzxQ1TB7PiU",
        "outputId": "87812790-6be6-4c54-f4d6-1381f5f60cf0"
      },
      "source": [
        "print('This is a string using a single quote!')"
      ],
      "execution_count": null,
      "outputs": [
        {
          "output_type": "stream",
          "name": "stdout",
          "text": [
            "This is a string using a single quote!\n"
          ]
        }
      ]
    },
    {
      "cell_type": "code",
      "metadata": {
        "colab": {
          "base_uri": "https://localhost:8080/"
        },
        "id": "NBP-obVR7hIs",
        "outputId": "48969fc1-2f85-486a-8a37-442558df8e9f"
      },
      "source": [
        "print(\"\"\" this is \n",
        "Look at what it can do\"\"\")"
      ],
      "execution_count": null,
      "outputs": [
        {
          "output_type": "stream",
          "name": "stdout",
          "text": [
            " this is \n",
            "Look at what it can do\n"
          ]
        }
      ]
    },
    {
      "cell_type": "code",
      "metadata": {
        "colab": {
          "base_uri": "https://localhost:8080/"
        },
        "id": "Lknnouyp7qOD",
        "outputId": "fdd5e962-d452-45c2-a1d8-20dec64b0d35"
      },
      "source": [
        "print(\"I said, \\\"Don't do it\")"
      ],
      "execution_count": null,
      "outputs": [
        {
          "output_type": "stream",
          "name": "stdout",
          "text": [
            "I said, \"Don't do it\n"
          ]
        }
      ]
    },
    {
      "cell_type": "code",
      "metadata": {
        "colab": {
          "base_uri": "https://localhost:8080/"
        },
        "id": "nZBe3hnr8JYD",
        "outputId": "0a7fc260-ecee-4bb0-83d3-72a9c66d2c6d"
      },
      "source": [
        "print(\"Roses are red \\n Violets are blue \\n I just do\")"
      ],
      "execution_count": null,
      "outputs": [
        {
          "output_type": "stream",
          "name": "stdout",
          "text": [
            "Roses are red \n",
            " Violets are blue \n",
            " I just do\n"
          ]
        }
      ]
    },
    {
      "cell_type": "code",
      "metadata": {
        "colab": {
          "base_uri": "https://localhost:8080/"
        },
        "id": "qZ8_yAw48mcL",
        "outputId": "1c77227c-14da-490f-9920-f0934fc21e9c"
      },
      "source": [
        "\"John\""
      ],
      "execution_count": null,
      "outputs": [
        {
          "output_type": "execute_result",
          "data": {
            "application/vnd.google.colaboratory.intrinsic+json": {
              "type": "string"
            },
            "text/plain": [
              "'John'"
            ]
          },
          "metadata": {},
          "execution_count": 21
        }
      ]
    },
    {
      "cell_type": "code",
      "metadata": {
        "colab": {
          "base_uri": "https://localhost:8080/"
        },
        "id": "mvQHxV-C8p-k",
        "outputId": "ccb6d1b9-aa51-4ce7-8560-947d408ff353"
      },
      "source": [
        "\"John\"\"Everyman\""
      ],
      "execution_count": null,
      "outputs": [
        {
          "output_type": "execute_result",
          "data": {
            "application/vnd.google.colaboratory.intrinsic+json": {
              "type": "string"
            },
            "text/plain": [
              "'JohnEveryman'"
            ]
          },
          "metadata": {},
          "execution_count": 22
        }
      ]
    },
    {
      "cell_type": "code",
      "metadata": {
        "colab": {
          "base_uri": "https://localhost:8080/"
        },
        "id": "Cb0BOn_a8w_T",
        "outputId": "ec1f3f0f-ac04-4c43-a296-b6b8138c9268"
      },
      "source": [
        "\"John \"+\"Everyman\""
      ],
      "execution_count": null,
      "outputs": [
        {
          "output_type": "execute_result",
          "data": {
            "application/vnd.google.colaboratory.intrinsic+json": {
              "type": "string"
            },
            "text/plain": [
              "'John Everyman'"
            ]
          },
          "metadata": {},
          "execution_count": 24
        }
      ]
    },
    {
      "cell_type": "code",
      "metadata": {
        "colab": {
          "base_uri": "https://localhost:8080/"
        },
        "id": "t_wom-FQ8_DE",
        "outputId": "a8a60096-47f3-4d38-dc04-b102c0749e3c"
      },
      "source": [
        "\"John\"+\" \"+ \"Everyman\""
      ],
      "execution_count": null,
      "outputs": [
        {
          "output_type": "execute_result",
          "data": {
            "application/vnd.google.colaboratory.intrinsic+json": {
              "type": "string"
            },
            "text/plain": [
              "'John Everyman'"
            ]
          },
          "metadata": {},
          "execution_count": 25
        }
      ]
    },
    {
      "cell_type": "code",
      "metadata": {
        "colab": {
          "base_uri": "https://localhost:8080/"
        },
        "id": "Iqdfxo5z9OKU",
        "outputId": "a74706fe-bf8d-42c2-f797-1b4bb0077329"
      },
      "source": [
        "print(\"John\",\"Everyman\")"
      ],
      "execution_count": null,
      "outputs": [
        {
          "output_type": "stream",
          "name": "stdout",
          "text": [
            "John Everyman\n"
          ]
        }
      ]
    },
    {
      "cell_type": "code",
      "metadata": {
        "colab": {
          "base_uri": "https://localhost:8080/"
        },
        "id": "BaTx7mNEG_Mm",
        "outputId": "c7de10ad-1581-4ffe-edc9-39c3806a65bd"
      },
      "source": [
        "\"John Q. %s\" %(\"Public\")"
      ],
      "execution_count": null,
      "outputs": [
        {
          "output_type": "execute_result",
          "data": {
            "application/vnd.google.colaboratory.intrinsic+json": {
              "type": "string"
            },
            "text/plain": [
              "'John Q. Public'"
            ]
          },
          "metadata": {},
          "execution_count": 27
        }
      ]
    },
    {
      "cell_type": "code",
      "metadata": {
        "colab": {
          "base_uri": "https://localhost:8080/",
          "height": 35
        },
        "id": "Lxk4I900HcJB",
        "outputId": "c7de10ad-1581-4ffe-edc9-39c3806a65bd"
      },
      "source": [
        "\"John Q. %s\" %(\"Public\")"
      ],
      "execution_count": null,
      "outputs": [
        {
          "output_type": "execute_result",
          "data": {
            "application/vnd.google.colaboratory.intrinsic+json": {
              "type": "string"
            },
            "text/plain": [
              "'John Q. Public'"
            ]
          },
          "metadata": {},
          "execution_count": 27
        }
      ]
    },
    {
      "cell_type": "code",
      "metadata": {
        "colab": {
          "base_uri": "https://localhost:8080/"
        },
        "id": "F_DytAzfHgYk",
        "outputId": "4b526b49-a120-452d-b9be-a6065ea58bdf"
      },
      "source": [
        "\"John Q. %s%s\" %(\"Public\",\"Man\")"
      ],
      "execution_count": null,
      "outputs": [
        {
          "output_type": "execute_result",
          "data": {
            "application/vnd.google.colaboratory.intrinsic+json": {
              "type": "string"
            },
            "text/plain": [
              "'John Q. PublicMan'"
            ]
          },
          "metadata": {},
          "execution_count": 28
        }
      ]
    },
    {
      "cell_type": "code",
      "metadata": {
        "colab": {
          "base_uri": "https://localhost:8080/"
        },
        "id": "5YxCw2zMHxn9",
        "outputId": "eb857539-1c52-4d00-da1a-aadd3a2dfb09"
      },
      "source": [
        "\"%s %s %10s\" %(\"John\", \"Every\" , \"Man\")"
      ],
      "execution_count": null,
      "outputs": [
        {
          "output_type": "execute_result",
          "data": {
            "application/vnd.google.colaboratory.intrinsic+json": {
              "type": "string"
            },
            "text/plain": [
              "'John Every        Man'"
            ]
          },
          "metadata": {},
          "execution_count": 29
        }
      ]
    },
    {
      "cell_type": "code",
      "metadata": {
        "colab": {
          "base_uri": "https://localhost:8080/"
        },
        "id": "i0ROKNP6ICKh",
        "outputId": "d210f120-d190-4122-e23b-a393c5a24b60"
      },
      "source": [
        "\"%s %15s %10s\" %(\"John\", \"Every\" , \"Man\")"
      ],
      "execution_count": null,
      "outputs": [
        {
          "output_type": "execute_result",
          "data": {
            "application/vnd.google.colaboratory.intrinsic+json": {
              "type": "string"
            },
            "text/plain": [
              "'John           Every        Man'"
            ]
          },
          "metadata": {},
          "execution_count": 31
        }
      ]
    },
    {
      "cell_type": "code",
      "metadata": {
        "colab": {
          "base_uri": "https://localhost:8080/"
        },
        "id": "N_2wLD-0IfSu",
        "outputId": "d1e95b7d-6045-40b8-db00-c212e2a0208e"
      },
      "source": [
        "\"Rock a by baby, \\n ton the tree top, \\t\\when the windblows\\n\\t\\t\\t the cradle will drop\""
      ],
      "execution_count": null,
      "outputs": [
        {
          "output_type": "execute_result",
          "data": {
            "application/vnd.google.colaboratory.intrinsic+json": {
              "type": "string"
            },
            "text/plain": [
              "'Rock a by baby, \\n ton the tree top, \\t\\\\when the windblows\\n\\t\\t\\t the cradle will drop'"
            ]
          },
          "metadata": {},
          "execution_count": 33
        }
      ]
    },
    {
      "cell_type": "code",
      "metadata": {
        "colab": {
          "base_uri": "https://localhost:8080/"
        },
        "id": "9Kanc7Z1JHMu",
        "outputId": "0a5bdda8-8305-4082-c745-65b7a81aea2c"
      },
      "source": [
        "\"Rock a by baby, \\t ton\""
      ],
      "execution_count": null,
      "outputs": [
        {
          "output_type": "execute_result",
          "data": {
            "application/vnd.google.colaboratory.intrinsic+json": {
              "type": "string"
            },
            "text/plain": [
              "'Rock a by baby, \\t ton'"
            ]
          },
          "metadata": {},
          "execution_count": 35
        }
      ]
    },
    {
      "cell_type": "code",
      "metadata": {
        "colab": {
          "base_uri": "https://localhost:8080/"
        },
        "id": "XFFkm3o5Jgce",
        "outputId": "52f8b537-6bf0-4bf9-95cb-7a4598a9cbe1"
      },
      "source": [
        "print(\"Rock a by baby, \\n ton the tree top, \\t\\when the windblows\\n\\t\\t\\t the cradle will drop\")"
      ],
      "execution_count": null,
      "outputs": [
        {
          "output_type": "stream",
          "name": "stdout",
          "text": [
            "Rock a by baby, \n",
            " ton the tree top, \t\\when the windblows\n",
            "\t\t\t the cradle will drop\n"
          ]
        }
      ]
    },
    {
      "cell_type": "code",
      "metadata": {
        "colab": {
          "base_uri": "https://localhost:8080/"
        },
        "id": "qrO-2n8LJooW",
        "outputId": "f445db3e-7461-47b4-fbfe-f1d1a01a69ab"
      },
      "source": [
        "print(\"Rock a by baby, \\n\\t ton\")"
      ],
      "execution_count": null,
      "outputs": [
        {
          "output_type": "stream",
          "name": "stdout",
          "text": [
            "Rock a by baby, \n",
            "\t ton\n"
          ]
        }
      ]
    },
    {
      "cell_type": "markdown",
      "metadata": {
        "id": "N4-FKyIDJ72d"
      },
      "source": [
        "# 第二章 数值与运算符"
      ]
    },
    {
      "cell_type": "code",
      "metadata": {
        "colab": {
          "base_uri": "https://localhost:8080/"
        },
        "id": "j1q0O4PrKMzF",
        "outputId": "69a520b9-075b-431c-b04f-aff75c027c50"
      },
      "source": [
        "type(1)"
      ],
      "execution_count": null,
      "outputs": [
        {
          "output_type": "execute_result",
          "data": {
            "text/plain": [
              "int"
            ]
          },
          "metadata": {},
          "execution_count": 39
        }
      ]
    },
    {
      "cell_type": "code",
      "metadata": {
        "colab": {
          "base_uri": "https://localhost:8080/"
        },
        "id": "mSJB-hd6Kx10",
        "outputId": "3baf8c6a-fee8-4211-bef9-388e748c6082"
      },
      "source": [
        "type(1.9)   "
      ],
      "execution_count": null,
      "outputs": [
        {
          "output_type": "execute_result",
          "data": {
            "text/plain": [
              "float"
            ]
          },
          "metadata": {},
          "execution_count": 40
        }
      ]
    },
    {
      "cell_type": "code",
      "metadata": {
        "colab": {
          "base_uri": "https://localhost:8080/"
        },
        "id": "Q2gp-zEQLGft",
        "outputId": "8d1dc439-ab0c-48aa-912d-d239c0c2546a"
      },
      "source": [
        "12j"
      ],
      "execution_count": null,
      "outputs": [
        {
          "output_type": "execute_result",
          "data": {
            "text/plain": [
              "12j"
            ]
          },
          "metadata": {},
          "execution_count": 41
        }
      ]
    },
    {
      "cell_type": "code",
      "metadata": {
        "colab": {
          "base_uri": "https://localhost:8080/"
        },
        "id": "qcv4RfrSK7Em",
        "outputId": "013cf2da-19cb-43f9-b499-e0a6e667ba7d"
      },
      "source": [
        "12j+1"
      ],
      "execution_count": null,
      "outputs": [
        {
          "output_type": "execute_result",
          "data": {
            "text/plain": [
              "(1+12j)"
            ]
          },
          "metadata": {},
          "execution_count": 42
        }
      ]
    },
    {
      "cell_type": "code",
      "metadata": {
        "colab": {
          "base_uri": "https://localhost:8080/"
        },
        "id": "RTqAbPWSLNIm",
        "outputId": "89f7ad7d-d1c1-4146-af2e-50d43fa5b664"
      },
      "source": [
        "type(12j+1)"
      ],
      "execution_count": null,
      "outputs": [
        {
          "output_type": "execute_result",
          "data": {
            "text/plain": [
              "complex"
            ]
          },
          "metadata": {},
          "execution_count": 43
        }
      ]
    },
    {
      "cell_type": "markdown",
      "metadata": {
        "id": "Sh3dJZFpLbv2"
      },
      "source": [
        "print(\"this is a basic string\")\n",
        "\n",
        "\n",
        "\n",
        "\n",
        "\n",
        "\n",
        "\n"
      ]
    },
    {
      "cell_type": "code",
      "metadata": {
        "colab": {
          "base_uri": "https://localhost:8080/"
        },
        "id": "UVSBdKJgw1OO",
        "outputId": "85ad70db-ad72-4621-cc1e-00257d05724b"
      },
      "source": [
        "print(\"This is a basic string\"+ \" the plus operation\")"
      ],
      "execution_count": null,
      "outputs": [
        {
          "output_type": "stream",
          "name": "stdout",
          "text": [
            "This is a basic string the plus operation\n"
          ]
        }
      ]
    },
    {
      "cell_type": "code",
      "metadata": {
        "colab": {
          "base_uri": "https://localhost:8080/"
        },
        "id": "UBIqSrwIymDH",
        "outputId": "bc2848f5-2930-4203-b358-538ab6641852"
      },
      "source": [
        "# 注释写在开头\n",
        "print(\"hello world\")"
      ],
      "execution_count": null,
      "outputs": [
        {
          "output_type": "stream",
          "name": "stdout",
          "text": [
            "hello world\n"
          ]
        }
      ]
    },
    {
      "cell_type": "code",
      "metadata": {
        "colab": {
          "base_uri": "https://localhost:8080/"
        },
        "id": "AS5q6-Ztyxsu",
        "outputId": "84b6554e-34ee-408f-f313-2702bf32179c"
      },
      "source": [
        "a=12\n",
        "b=13\n",
        "c=5\n",
        "a+b\n"
      ],
      "execution_count": null,
      "outputs": [
        {
          "output_type": "execute_result",
          "data": {
            "text/plain": [
              "25"
            ]
          },
          "metadata": {},
          "execution_count": 5
        }
      ]
    },
    {
      "cell_type": "code",
      "metadata": {
        "colab": {
          "base_uri": "https://localhost:8080/"
        },
        "id": "6vu8naUUzJ4m",
        "outputId": "c31fe323-edd8-4192-febf-eb77c066a608"
      },
      "source": [
        "a-b"
      ],
      "execution_count": null,
      "outputs": [
        {
          "output_type": "execute_result",
          "data": {
            "text/plain": [
              "-1"
            ]
          },
          "metadata": {},
          "execution_count": 6
        }
      ]
    },
    {
      "cell_type": "code",
      "metadata": {
        "colab": {
          "base_uri": "https://localhost:8080/"
        },
        "id": "VHqF10hQzMbW",
        "outputId": "ea4e8d46-7e51-4f7a-aa37-4546a0526e40"
      },
      "source": [
        "a*b"
      ],
      "execution_count": null,
      "outputs": [
        {
          "output_type": "execute_result",
          "data": {
            "text/plain": [
              "156"
            ]
          },
          "metadata": {},
          "execution_count": 7
        }
      ]
    },
    {
      "cell_type": "code",
      "metadata": {
        "colab": {
          "base_uri": "https://localhost:8080/"
        },
        "id": "z9xjvkA8zkPf",
        "outputId": "1e2b2d67-b39f-4cea-b55b-8b4f42a40199"
      },
      "source": [
        "world='hello world!'\n",
        "print(world)"
      ],
      "execution_count": null,
      "outputs": [
        {
          "output_type": "stream",
          "name": "stdout",
          "text": [
            "hello world!\n"
          ]
        }
      ]
    },
    {
      "cell_type": "code",
      "metadata": {
        "colab": {
          "base_uri": "https://localhost:8080/"
        },
        "id": "rId880hnzwR3",
        "outputId": "bd16c299-5eed-4325-ad4e-ab52bc7c09ff"
      },
      "source": [
        "name='shixiaolou'\n",
        "print(name)"
      ],
      "execution_count": null,
      "outputs": [
        {
          "output_type": "stream",
          "name": "stdout",
          "text": [
            "shixiaolou\n"
          ]
        }
      ]
    },
    {
      "cell_type": "code",
      "metadata": {
        "colab": {
          "base_uri": "https://localhost:8080/"
        },
        "id": "yL27tFi5z5lg",
        "outputId": "bd4f28a8-869a-4d26-dc3f-8a03aaaa0422"
      },
      "source": [
        "age=input('My age is:')"
      ],
      "execution_count": null,
      "outputs": [
        {
          "name": "stdout",
          "output_type": "stream",
          "text": [
            "My age is:25\n"
          ]
        }
      ]
    },
    {
      "cell_type": "code",
      "metadata": {
        "colab": {
          "base_uri": "https://localhost:8080/"
        },
        "id": "yMxRAQ4x0Kq-",
        "outputId": "f1dbec2c-2a89-4c96-a89d-0075772d50c9"
      },
      "source": [
        "print(age)"
      ],
      "execution_count": null,
      "outputs": [
        {
          "output_type": "stream",
          "name": "stdout",
          "text": [
            "25\n"
          ]
        }
      ]
    },
    {
      "cell_type": "code",
      "metadata": {
        "colab": {
          "base_uri": "https://localhost:8080/"
        },
        "id": "tIBWKAWV0c0f",
        "outputId": "298d87bd-5821-402b-9789-e59812f96514"
      },
      "source": [
        "ID=input('请输入你的ID')"
      ],
      "execution_count": null,
      "outputs": [
        {
          "name": "stdout",
          "output_type": "stream",
          "text": [
            "请输入你的ID12345432\n"
          ]
        }
      ]
    },
    {
      "cell_type": "markdown",
      "metadata": {
        "id": "Girb0-si0mXH"
      },
      "source": [
        "print(ID)"
      ]
    },
    {
      "cell_type": "markdown",
      "metadata": {
        "id": "j6TrSYqX1Are"
      },
      "source": [
        "print('He said \"Today\\'s weather is good\"')"
      ]
    },
    {
      "cell_type": "code",
      "metadata": {
        "colab": {
          "base_uri": "https://localhost:8080/",
          "height": 35
        },
        "id": "oH4LXqlz1c4w",
        "outputId": "546c804c-d988-4155-90f3-3de8c9ecf9de"
      },
      "source": [
        "string='hello_shiyanlou'\n",
        "string[0]\n",
        "string[-1]"
      ],
      "execution_count": null,
      "outputs": [
        {
          "output_type": "execute_result",
          "data": {
            "application/vnd.google.colaboratory.intrinsic+json": {
              "type": "string"
            },
            "text/plain": [
              "'u'"
            ]
          },
          "metadata": {},
          "execution_count": 17
        }
      ]
    },
    {
      "cell_type": "code",
      "metadata": {
        "colab": {
          "base_uri": "https://localhost:8080/"
        },
        "id": "0kP_Shrz2x9Q",
        "outputId": "70a34474-a616-4382-9258-aaf1da84038f"
      },
      "source": [
        "a=int(input(\"please enter a number: \"))\n",
        "if a>10:\n",
        "  print('a>10')\n",
        "elif a==10:\n",
        "  print('a==10')\n",
        "else:\n",
        "  print('a<10')"
      ],
      "execution_count": null,
      "outputs": [
        {
          "output_type": "stream",
          "name": "stdout",
          "text": [
            "please enter a number: 10\n",
            "a==10\n"
          ]
        }
      ]
    },
    {
      "cell_type": "code",
      "metadata": {
        "colab": {
          "base_uri": "https://localhost:8080/"
        },
        "id": "NZuI4Osd4LI_",
        "outputId": "efcb2906-4802-4109-d3c4-b4f2f17b44ba"
      },
      "source": [
        "namelist=['a','b','c','d','d','f','g','h','i','j']\n",
        "for i in namelist:\n",
        "  print(i)"
      ],
      "execution_count": null,
      "outputs": [
        {
          "output_type": "stream",
          "name": "stdout",
          "text": [
            "a\n",
            "b\n",
            "c\n",
            "d\n",
            "d\n",
            "f\n",
            "g\n",
            "h\n",
            "i\n",
            "j\n"
          ]
        }
      ]
    },
    {
      "cell_type": "code",
      "metadata": {
        "colab": {
          "base_uri": "https://localhost:8080/"
        },
        "id": "Y0M5zUYR4nW_",
        "outputId": "0d069478-7568-4aa9-fde9-dd0b5939bd89"
      },
      "source": [
        "for a in range(20):\n",
        "  print(a)"
      ],
      "execution_count": null,
      "outputs": [
        {
          "output_type": "stream",
          "name": "stdout",
          "text": [
            "0\n",
            "1\n",
            "2\n",
            "3\n",
            "4\n",
            "5\n",
            "6\n",
            "7\n",
            "8\n",
            "9\n",
            "10\n",
            "11\n",
            "12\n",
            "13\n",
            "14\n",
            "15\n",
            "16\n",
            "17\n",
            "18\n",
            "19\n"
          ]
        }
      ]
    },
    {
      "cell_type": "code",
      "metadata": {
        "colab": {
          "base_uri": "https://localhost:8080/"
        },
        "id": "O3F5dCFk46bf",
        "outputId": "5e5805d9-089e-4c0d-ad7f-c1470a2c38be"
      },
      "source": [
        "for a in range(1,11):\n",
        "  print(a)"
      ],
      "execution_count": null,
      "outputs": [
        {
          "output_type": "stream",
          "name": "stdout",
          "text": [
            "1\n",
            "2\n",
            "3\n",
            "4\n",
            "5\n",
            "6\n",
            "7\n",
            "8\n",
            "9\n",
            "10\n"
          ]
        }
      ]
    },
    {
      "cell_type": "code",
      "metadata": {
        "colab": {
          "base_uri": "https://localhost:8080/"
        },
        "id": "kJJ0dqDv5F3v",
        "outputId": "b483cf98-5cfc-4927-81c6-66e8ca7d0f61"
      },
      "source": [
        "for i in range(1,11):\n",
        "  print('书恒走的第{}天，想他' .format(i))"
      ],
      "execution_count": null,
      "outputs": [
        {
          "output_type": "stream",
          "name": "stdout",
          "text": [
            "书恒走的第1天，想他\n",
            "书恒走的第2天，想他\n",
            "书恒走的第3天，想他\n",
            "书恒走的第4天，想他\n",
            "书恒走的第5天，想他\n",
            "书恒走的第6天，想他\n",
            "书恒走的第7天，想他\n",
            "书恒走的第8天，想他\n",
            "书恒走的第9天，想他\n",
            "书恒走的第10天，想他\n"
          ]
        }
      ]
    },
    {
      "cell_type": "code",
      "metadata": {
        "colab": {
          "base_uri": "https://localhost:8080/"
        },
        "id": "Nide4PkT7GM5",
        "outputId": "798c71e5-f42d-4797-a615-b1d05c857390"
      },
      "source": [
        "a=1\n",
        "while a<=10:\n",
        "  print(a)\n",
        "  a=a+1"
      ],
      "execution_count": null,
      "outputs": [
        {
          "output_type": "stream",
          "name": "stdout",
          "text": [
            "1\n",
            "2\n",
            "3\n",
            "4\n",
            "5\n",
            "6\n",
            "7\n",
            "8\n",
            "9\n",
            "10\n"
          ]
        }
      ]
    },
    {
      "cell_type": "code",
      "metadata": {
        "colab": {
          "base_uri": "https://localhost:8080/"
        },
        "id": "OAHS4zuV7mY_",
        "outputId": "e2dec7b8-daa0-43c8-c25e-a6f2b7018508"
      },
      "source": [
        "for a in range(10):\n",
        "  if(a==5):\n",
        "    continue\n",
        "  print(a)"
      ],
      "execution_count": null,
      "outputs": [
        {
          "output_type": "stream",
          "name": "stdout",
          "text": [
            "0\n",
            "1\n",
            "2\n",
            "3\n",
            "4\n",
            "6\n",
            "7\n",
            "8\n",
            "9\n"
          ]
        }
      ]
    },
    {
      "cell_type": "code",
      "metadata": {
        "colab": {
          "base_uri": "https://localhost:8080/"
        },
        "id": "Nan8K8GG8cNw",
        "outputId": "e3f9f104-b850-4569-916e-52382dc9e9d1"
      },
      "source": [
        "for i in range(1,101):\n",
        "  if(i%7==0) or i%10==7 or i//10==7:\n",
        "    continue\n",
        "  #elif(i%10==7):\n",
        "  #  continue\n",
        "  #elif(i//10==7)\n",
        "  #  continue\n",
        "  print(i)"
      ],
      "execution_count": null,
      "outputs": [
        {
          "output_type": "stream",
          "name": "stdout",
          "text": [
            "1\n",
            "2\n",
            "3\n",
            "4\n",
            "5\n",
            "6\n",
            "8\n",
            "9\n",
            "10\n",
            "11\n",
            "12\n",
            "13\n",
            "15\n",
            "16\n",
            "18\n",
            "19\n",
            "20\n",
            "22\n",
            "23\n",
            "24\n",
            "25\n",
            "26\n",
            "29\n",
            "30\n",
            "31\n",
            "32\n",
            "33\n",
            "34\n",
            "36\n",
            "38\n",
            "39\n",
            "40\n",
            "41\n",
            "43\n",
            "44\n",
            "45\n",
            "46\n",
            "48\n",
            "50\n",
            "51\n",
            "52\n",
            "53\n",
            "54\n",
            "55\n",
            "58\n",
            "59\n",
            "60\n",
            "61\n",
            "62\n",
            "64\n",
            "65\n",
            "66\n",
            "68\n",
            "69\n",
            "80\n",
            "81\n",
            "82\n",
            "83\n",
            "85\n",
            "86\n",
            "88\n",
            "89\n",
            "90\n",
            "92\n",
            "93\n",
            "94\n",
            "95\n",
            "96\n",
            "99\n",
            "100\n"
          ]
        }
      ]
    },
    {
      "cell_type": "code",
      "metadata": {
        "colab": {
          "base_uri": "https://localhost:8080/"
        },
        "id": "-uQ8QkH_-SrI",
        "outputId": "7ea4d16c-e960-4326-c4d9-48c44ddcd6f2"
      },
      "source": [
        "a=0\n",
        "while a<100:\n",
        "  a=a+1\n",
        "  if a%7==0 or a%10==7 or a//10==7 :\n",
        "    continue\n",
        "  print(a)"
      ],
      "execution_count": null,
      "outputs": [
        {
          "output_type": "stream",
          "name": "stdout",
          "text": [
            "1\n",
            "2\n",
            "3\n",
            "4\n",
            "5\n",
            "6\n",
            "8\n",
            "9\n",
            "10\n",
            "11\n",
            "12\n",
            "13\n",
            "15\n",
            "16\n",
            "18\n",
            "19\n",
            "20\n",
            "22\n",
            "23\n",
            "24\n",
            "25\n",
            "26\n",
            "29\n",
            "30\n",
            "31\n",
            "32\n",
            "33\n",
            "34\n",
            "36\n",
            "38\n",
            "39\n",
            "40\n",
            "41\n",
            "43\n",
            "44\n",
            "45\n",
            "46\n",
            "48\n",
            "50\n",
            "51\n",
            "52\n",
            "53\n",
            "54\n",
            "55\n",
            "58\n",
            "59\n",
            "60\n",
            "61\n",
            "62\n",
            "64\n",
            "65\n",
            "66\n",
            "68\n",
            "69\n",
            "80\n",
            "81\n",
            "82\n",
            "83\n",
            "85\n",
            "86\n",
            "88\n",
            "89\n",
            "90\n",
            "92\n",
            "93\n",
            "94\n",
            "95\n",
            "96\n",
            "99\n",
            "100\n"
          ]
        }
      ]
    },
    {
      "cell_type": "code",
      "metadata": {
        "colab": {
          "base_uri": "https://localhost:8080/"
        },
        "id": "XPQ8fjCEAFiL",
        "outputId": "ef1bb940-fa40-4861-a268-07db8a4b1917"
      },
      "source": [
        "import math\n",
        "print(math.e)"
      ],
      "execution_count": null,
      "outputs": [
        {
          "output_type": "stream",
          "name": "stdout",
          "text": [
            "2.718281828459045\n"
          ]
        }
      ]
    },
    {
      "cell_type": "code",
      "metadata": {
        "id": "7iqZNefHbu4u",
        "colab": {
          "base_uri": "https://localhost:8080/"
        },
        "outputId": "ab5aab04-613e-4bbf-8664-d8a5f570d6e9"
      },
      "source": [
        "\"This is a string\" + str(4)"
      ],
      "execution_count": null,
      "outputs": [
        {
          "output_type": "execute_result",
          "data": {
            "application/vnd.google.colaboratory.intrinsic+json": {
              "type": "string"
            },
            "text/plain": [
              "'This is a string4'"
            ]
          },
          "metadata": {},
          "execution_count": 2
        }
      ]
    },
    {
      "cell_type": "code",
      "metadata": {
        "colab": {
          "base_uri": "https://localhost:8080/"
        },
        "id": "22VIGrsedPmW",
        "outputId": "3ea34382-af76-4513-dc26-17741e7ef16d"
      },
      "source": [
        "5*10"
      ],
      "execution_count": null,
      "outputs": [
        {
          "output_type": "execute_result",
          "data": {
            "text/plain": [
              "50"
            ]
          },
          "metadata": {},
          "execution_count": 3
        }
      ]
    },
    {
      "cell_type": "code",
      "metadata": {
        "colab": {
          "base_uri": "https://localhost:8080/"
        },
        "id": "lqXSd4FSdu9t",
        "outputId": "98d64d65-ee92-42fc-d752-b81a11323b17"
      },
      "source": [
        "print('%o %o %o %o %o %o %o %o %o' %(6,7,8,9,10,11,12,13,14))"
      ],
      "execution_count": null,
      "outputs": [
        {
          "output_type": "stream",
          "name": "stdout",
          "text": [
            "6 7 10 11 12 13 14 15 16\n"
          ]
        }
      ]
    },
    {
      "cell_type": "code",
      "metadata": {
        "colab": {
          "base_uri": "https://localhost:8080/"
        },
        "id": "mg4TCeUMeJ7X",
        "outputId": "e624af2d-78c6-4522-eb88-217a618595f7"
      },
      "source": [
        "print('%x %x %x %x %x %x %x %x %x' %(9,10,11,12,13,14,15,16,17))"
      ],
      "execution_count": null,
      "outputs": [
        {
          "output_type": "stream",
          "name": "stdout",
          "text": [
            "9 a b c d e f 10 11\n"
          ]
        }
      ]
    },
    {
      "cell_type": "code",
      "metadata": {
        "colab": {
          "base_uri": "https://localhost:8080/"
        },
        "id": "wlXkirSYexfW",
        "outputId": "a11a5c5d-7284-44aa-fa2f-8d37c51f6943"
      },
      "source": [
        "first_string=\"This is a string\"\n",
        "second_string=\"This is another string\"\n",
        "first_number=4\n",
        "second_number=5\n",
        "print(\"%s,%s,%d,%d\" %(first_string,second_string,first_number,second_number))\n",
        "print(\"first_string\")"
      ],
      "execution_count": null,
      "outputs": [
        {
          "output_type": "stream",
          "name": "stdout",
          "text": [
            "This is a string,This is another string,4,5\n",
            "first_string\n"
          ]
        }
      ]
    },
    {
      "cell_type": "markdown",
      "metadata": {
        "id": "9fYCgYbmgg7A"
      },
      "source": [
        "# 第三章 4种数据类型 元组、列表、集合和字典"
      ]
    },
    {
      "cell_type": "code",
      "metadata": {
        "colab": {
          "base_uri": "https://localhost:8080/"
        },
        "id": "kS5_T9Mxg65o",
        "outputId": "b581201a-69ae-4c6a-c232-ba93b7833fb6"
      },
      "source": [
        "#都是列表，元组不可更改的数据序列，用圆括号包围；\n",
        "print(\"%s %s %s %s\" %(\"string\",\"filled\",\"by a\",\"tuple\"))"
      ],
      "execution_count": null,
      "outputs": [
        {
          "output_type": "stream",
          "name": "stdout",
          "text": [
            "string filled by a tuple\n"
          ]
        }
      ]
    },
    {
      "cell_type": "code",
      "metadata": {
        "colab": {
          "base_uri": "https://localhost:8080/"
        },
        "id": "yQ-pCgUJh9RW",
        "outputId": "7ff666ad-e782-4186-9a6a-bafb7786839e"
      },
      "source": [
        "a=(\"first\",\"second\",\"third\")\n",
        "print(\"%s\" %a[2])\n",
        "print(\"%d\" %len(a))"
      ],
      "execution_count": null,
      "outputs": [
        {
          "output_type": "stream",
          "name": "stdout",
          "text": [
            "third\n",
            "3\n"
          ]
        }
      ]
    },
    {
      "cell_type": "code",
      "metadata": {
        "colab": {
          "base_uri": "https://localhost:8080/"
        },
        "id": "NVbJ0MbMjIPG",
        "outputId": "5a68b41e-528d-409f-d23a-b0c3d27c69cc"
      },
      "source": [
        "#列表可以更改的数据序列，方括号表示：\n",
        "breakfast = [\"coffee\",\"tea\",\"toast\",\"egg\"]\n",
        "count=0\n",
        "print(\"Today's breakfast is %s\" %breakfast[count])\n",
        "breakfast.append(\"waffles\")\n",
        "count=4\n",
        "print(\"%s\" %breakfast[count])"
      ],
      "execution_count": null,
      "outputs": [
        {
          "output_type": "stream",
          "name": "stdout",
          "text": [
            "Today's breakfast is coffee\n",
            "waffles\n"
          ]
        }
      ]
    },
    {
      "cell_type": "code",
      "metadata": {
        "colab": {
          "base_uri": "https://localhost:8080/"
        },
        "id": "cbI2iCIz0ZdK",
        "outputId": "596023b5-0520-4bcc-8583-6934ee5713ea"
      },
      "source": [
        "breakfast[count]=\"sausages\"\n",
        "print(\"Today's breakfast is %s\" %breakfast[count])\n"
      ],
      "execution_count": null,
      "outputs": [
        {
          "output_type": "stream",
          "name": "stdout",
          "text": [
            "Today's breakfast is sausages\n"
          ]
        }
      ]
    },
    {
      "cell_type": "code",
      "metadata": {
        "colab": {
          "base_uri": "https://localhost:8080/"
        },
        "id": "WbsgiDJe0vxM",
        "outputId": "333e9c84-7d23-4082-83b1-20f7fe131cc0"
      },
      "source": [
        "breakfast.append(\"waffles\")\n",
        "count=5\n",
        "print(\"%s\" %breakfast[count])"
      ],
      "execution_count": null,
      "outputs": [
        {
          "output_type": "stream",
          "name": "stdout",
          "text": [
            "waffles\n"
          ]
        }
      ]
    },
    {
      "cell_type": "code",
      "metadata": {
        "colab": {
          "base_uri": "https://localhost:8080/"
        },
        "id": "7SYBrxBs2OO-",
        "outputId": "8f5de43c-7f38-4a59-c88c-1b40fd2cd235"
      },
      "source": [
        "breakfast.extend([\"juice\",\"decaf\",\"oatmea\"])\n",
        "print(breakfast)"
      ],
      "execution_count": null,
      "outputs": [
        {
          "output_type": "stream",
          "name": "stdout",
          "text": [
            "['coffee', 'tea', 'toast', 'egg', 'sausages', 'waffles', 'waffles', 'juice', 'decaf', 'oatmeal', 'juice', 'decaf', 'oatmea']\n"
          ]
        }
      ]
    },
    {
      "cell_type": "code",
      "metadata": {
        "colab": {
          "base_uri": "https://localhost:8080/"
        },
        "id": "phKEA1F22u6G",
        "outputId": "b5be3460-0c7a-454b-8831-62590b67f2e8"
      },
      "source": [
        "#字典 以名称索引的分组数据 同列表的区别是数字索引 而字典名称索引\n",
        "menus_specials={}\n",
        "menus_specials[\"breakfast\"]=\"ham\"\n",
        "menus_specials[\"lunch\"]=\"tuna surprise\"\n",
        "menus_specials[\"dinner\"]=\"cheese\"\n",
        "print(menus_specials)\n",
        "print(\"%s\" %menus_specials[\"lunch\"])\n",
        "hungry=menus_specials.keys()\n",
        "print(list(hungry))\n",
        "print(menus_specials.keys())\n",
        "print(menus_specials.values())"
      ],
      "execution_count": null,
      "outputs": [
        {
          "output_type": "stream",
          "name": "stdout",
          "text": [
            "{'breakfast': 'ham', 'lunch': 'tuna surprise', 'dinner': 'cheese'}\n",
            "tuna surprise\n",
            "['breakfast', 'lunch', 'dinner']\n",
            "dict_keys(['breakfast', 'lunch', 'dinner'])\n",
            "dict_values(['ham', 'tuna surprise', 'cheese'])\n"
          ]
        }
      ]
    },
    {
      "cell_type": "code",
      "metadata": {
        "colab": {
          "base_uri": "https://localhost:8080/"
        },
        "id": "v-vGkw0E5tDG",
        "outputId": "867fe0d7-b62d-4999-9050-8fbb509ae97d"
      },
      "source": [
        "True\n",
        "True==0"
      ],
      "execution_count": null,
      "outputs": [
        {
          "output_type": "execute_result",
          "data": {
            "text/plain": [
              "False"
            ]
          },
          "metadata": {},
          "execution_count": 36
        }
      ]
    },
    {
      "cell_type": "code",
      "metadata": {
        "colab": {
          "base_uri": "https://localhost:8080/"
        },
        "id": "eu5VKnuN68-n",
        "outputId": "1f8fb9f2-f735-4e28-ae4b-c83da4b55998"
      },
      "source": [
        "todays_temperatures = [23,32,33,31]\n",
        "todays_temperatures.append(29)\n",
        "print(todays_temperatures)\n",
        "morning=todays_temperatures.pop(0)\n",
        "print(morning)\n",
        "print(todays_temperatures)"
      ],
      "execution_count": null,
      "outputs": [
        {
          "output_type": "stream",
          "name": "stdout",
          "text": [
            "[23, 32, 33, 31, 29]\n",
            "23\n",
            "[32, 33, 31, 29]\n"
          ]
        }
      ]
    },
    {
      "cell_type": "code",
      "metadata": {
        "colab": {
          "base_uri": "https://localhost:8080/"
        },
        "id": "ouh-cA1-7q4v",
        "outputId": "23e11a88-2da7-4cf8-b8a5-4c35461b5e0c"
      },
      "source": [
        "#集合不包含重复数字的列表 ，可变集合和不可变集合\n",
        "alphabet=['a','b','a','a']\n",
        "print(alphabet)\n",
        "alph2=set(alphabet)\n",
        "print(alph2)"
      ],
      "execution_count": null,
      "outputs": [
        {
          "output_type": "stream",
          "name": "stdout",
          "text": [
            "['a', 'b', 'a', 'a']\n",
            "{'b', 'a'}\n"
          ]
        }
      ]
    },
    {
      "cell_type": "code",
      "metadata": {
        "colab": {
          "base_uri": "https://localhost:8080/"
        },
        "id": "tPEPjQH28YQ2",
        "outputId": "5b003063-5f9d-4211-d59f-ce81c29cbade"
      },
      "source": [
        "dairy_section=[\"danbai\",\"tang\",\"shui\",\"riqi\"]\n",
        "print(dairy_section)\n",
        "print(dairy_section[-1])"
      ],
      "execution_count": null,
      "outputs": [
        {
          "output_type": "stream",
          "name": "stdout",
          "text": [
            "['danbai', 'tang', 'shui', 'riqi']\n",
            "riqi\n"
          ]
        }
      ]
    },
    {
      "cell_type": "code",
      "metadata": {
        "colab": {
          "base_uri": "https://localhost:8080/"
        },
        "id": "qYX6_-wK82cO",
        "outputId": "832c2d71-4ff2-4711-c820-27073c8d242e"
      },
      "source": [
        "milk_expiration=(\"12\",\"10\",\"2009\")\n",
        "print(milk_expiration)\n",
        "print(\"This milk carton will expire on %s/ %s/ %s\" %(milk_expiration[0],milk_expiration[1],milk_expiration[2]) )\n",
        "#print(\"This milk carton will expire on %s %s %s\" %('milk_expiration[0]','milk_expiration[1]','milk_expiration[2]')"
      ],
      "execution_count": null,
      "outputs": [
        {
          "output_type": "stream",
          "name": "stdout",
          "text": [
            "('12', '10', '2009')\n",
            "This milk carton will expire on 12/ 10/ 2009\n"
          ]
        }
      ]
    },
    {
      "cell_type": "code",
      "metadata": {
        "colab": {
          "base_uri": "https://localhost:8080/"
        },
        "id": "ZHstaLpQ_8mQ",
        "outputId": "d8ff80fc-a7e4-449d-daec-fe9e2c73e02e"
      },
      "source": [
        "milk_carton={}\n",
        "milk_carton[\"fl_oz\"]=\"10\"\n",
        "milk_carton[\"cost\"]=\"20\"\n",
        "milk_carton[\"brand_name\"]=\"yili\"\n",
        "print(milk_carton)\n",
        "print(milk_carton.values())\n",
        "cost=int(milk_carton[\"cost\"])*6\n",
        "print(cost)"
      ],
      "execution_count": null,
      "outputs": [
        {
          "output_type": "stream",
          "name": "stdout",
          "text": [
            "{'fl_oz': '10', 'cost': '20', 'brand_name': 'yili'}\n",
            "dict_values(['10', '20', 'yili'])\n",
            "120\n"
          ]
        }
      ]
    },
    {
      "cell_type": "code",
      "metadata": {
        "id": "pawsm6EyGfG5"
      },
      "source": [
        ""
      ],
      "execution_count": null,
      "outputs": []
    },
    {
      "cell_type": "markdown",
      "metadata": {
        "id": "3_5G4e0SGgZK"
      },
      "source": [
        "# 第四章 循环比较 以及 函数"
      ]
    },
    {
      "cell_type": "code",
      "metadata": {
        "colab": {
          "base_uri": "https://localhost:8080/"
        },
        "id": "V14lzKyrGoz6",
        "outputId": "045a2d48-65a7-4859-c9e9-6b645e1e068d"
      },
      "source": [
        "1==2"
      ],
      "execution_count": null,
      "outputs": [
        {
          "output_type": "execute_result",
          "data": {
            "text/plain": [
              "False"
            ]
          },
          "metadata": {},
          "execution_count": 64
        }
      ]
    },
    {
      "cell_type": "code",
      "metadata": {
        "colab": {
          "base_uri": "https://localhost:8080/"
        },
        "id": "OxzhB_KRHcMQ",
        "outputId": "afecea0d-d51f-4c9f-b03f-a1e167e02ced"
      },
      "source": [
        "not True"
      ],
      "execution_count": null,
      "outputs": [
        {
          "output_type": "execute_result",
          "data": {
            "text/plain": [
              "False"
            ]
          },
          "metadata": {},
          "execution_count": 66
        }
      ]
    },
    {
      "cell_type": "code",
      "metadata": {
        "colab": {
          "base_uri": "https://localhost:8080/"
        },
        "id": "S129WyOAHq74",
        "outputId": "526a13b6-157a-4451-f3de-3e228e341490"
      },
      "source": [
        "if 1<2:\n",
        "  print(\"NO!\")"
      ],
      "execution_count": null,
      "outputs": [
        {
          "output_type": "stream",
          "name": "stdout",
          "text": [
            "NO!\n"
          ]
        }
      ]
    },
    {
      "cell_type": "code",
      "metadata": {
        "colab": {
          "base_uri": "https://localhost:8080/"
        },
        "id": "G8aawz7I9AME",
        "outputId": "87581331-53d6-4816-b8c3-0131ceebfc30"
      },
      "source": [
        "i=0\n",
        "while i<12:\n",
        " print(\"Lift off in : %d\" %i)\n",
        " i=i+1"
      ],
      "execution_count": null,
      "outputs": [
        {
          "output_type": "stream",
          "name": "stdout",
          "text": [
            "Lift off in : 0\n",
            "Lift off in : 1\n",
            "Lift off in : 2\n",
            "Lift off in : 3\n",
            "Lift off in : 4\n",
            "Lift off in : 5\n",
            "Lift off in : 6\n",
            "Lift off in : 7\n",
            "Lift off in : 8\n",
            "Lift off in : 9\n",
            "Lift off in : 10\n",
            "Lift off in : 11\n"
          ]
        }
      ]
    },
    {
      "cell_type": "code",
      "metadata": {
        "colab": {
          "base_uri": "https://localhost:8080/"
        },
        "id": "iNZXvY3793CD",
        "outputId": "c0415578-9b65-48a3-a235-ab3cafce5fdf"
      },
      "source": [
        "for i in range(10):\n",
        "  print(\"T:%d\" %i)"
      ],
      "execution_count": null,
      "outputs": [
        {
          "output_type": "stream",
          "name": "stdout",
          "text": [
            "T:0\n",
            "T:1\n",
            "T:2\n",
            "T:3\n",
            "T:4\n",
            "T:5\n",
            "T:6\n",
            "T:7\n",
            "T:8\n",
            "T:9\n"
          ]
        }
      ]
    },
    {
      "cell_type": "code",
      "metadata": {
        "id": "ok9H33hi-mst"
      },
      "source": [
        "while True:\n",
        "   print(\"You're very good!\")"
      ],
      "execution_count": null,
      "outputs": []
    },
    {
      "cell_type": "code",
      "metadata": {
        "colab": {
          "base_uri": "https://localhost:8080/"
        },
        "id": "cnNtUakZ_-Xt",
        "outputId": "1af49c05-2756-4321-fa8f-894afa0a609c"
      },
      "source": [
        "\n",
        "while True:\n",
        "   how_old=input(\"Enter your age:\")\n",
        "   if how_old==\"No\":\n",
        "       print(\"Don't be ashamed of your age:\")\n",
        "       break\n",
        "   #num=int(how_old)\n",
        "   print(\"Your age is: %d\" %int(how_old))\n",
        "  "
      ],
      "execution_count": null,
      "outputs": [
        {
          "output_type": "stream",
          "name": "stdout",
          "text": [
            "Enter your age:10\n",
            "Your age is: 10\n",
            "Enter your age:25\n",
            "Your age is: 25\n",
            "Enter your age:30\n",
            "Your age is: 30\n",
            "Enter your age:No\n",
            "Don't be ashamed of your age:\n"
          ]
        }
      ]
    },
    {
      "cell_type": "code",
      "metadata": {
        "colab": {
          "base_uri": "https://localhost:8080/"
        },
        "id": "v6wbV1c_PY43",
        "outputId": "910a76ac-d00e-41f1-a63d-0d2d009d0a8b"
      },
      "source": [
        "for food in(\"pate\",\"cheese\",\"crackers\",\"yogurt\"):\n",
        "  if food==\"crackers\":\n",
        "    print(\"yes\")\n",
        "    break\n",
        "    \n",
        "  else:\n",
        "    print(\"There is no yogurt\")"
      ],
      "execution_count": null,
      "outputs": [
        {
          "output_type": "stream",
          "name": "stdout",
          "text": [
            "There is no yogurt\n",
            "There is no yogurt\n",
            "yes\n"
          ]
        }
      ]
    },
    {
      "cell_type": "code",
      "metadata": {
        "colab": {
          "base_uri": "https://localhost:8080/"
        },
        "id": "tE2kyXiwQa0v",
        "outputId": "d3a8d425-0a5f-43f3-c699-0d43749aba79"
      },
      "source": [
        "for food in(\"pate\",\"cheese\",\"crackers\",\"yogurt\",\"tomato soup\"):\n",
        "  print (\"%s\" %food[0:6])\n",
        "  if food ==\"crackers\":\n",
        "    #print(\"you can eat %s\" %food)\n",
        "    continue\n",
        "  #print(\"you can eat %s\" %food)\n",
        "#print(\"you can eat %s\" %food)"
      ],
      "execution_count": null,
      "outputs": [
        {
          "output_type": "stream",
          "name": "stdout",
          "text": [
            "pate\n",
            "cheese\n",
            "cracke\n",
            "yogurt\n",
            "tomato\n"
          ]
        }
      ]
    },
    {
      "cell_type": "code",
      "metadata": {
        "colab": {
          "base_uri": "https://localhost:8080/"
        },
        "id": "mPU4_EDC161z",
        "outputId": "79c20398-398c-4a4a-818e-641634c455de"
      },
      "source": [
        "fridge_contents={\"egg\":8, \"mushroom\":20,\"pepper\":3,\"cheese\":2,\"tomato\":4,\"milk\":13}\n",
        "try:\n",
        "  if fridge_contents[\"orange jucie\"]>3:\n",
        "    print(\"Sure\")\n",
        "except (KeyError) as error:\n",
        "  print(\"there is no %s!\" %error)"
      ],
      "execution_count": null,
      "outputs": [
        {
          "output_type": "stream",
          "name": "stdout",
          "text": [
            "there is no 'orange jucie'!\n"
          ]
        }
      ]
    },
    {
      "cell_type": "code",
      "metadata": {
        "colab": {
          "base_uri": "https://localhost:8080/"
        },
        "id": "MAw5DOA5hP4J",
        "outputId": "864bf79b-f389-49ea-ad3c-bba193bac0c0"
      },
      "source": [
        "if 0==False:\n",
        "  print(\"OK\")\n",
        "if 1==True:\n",
        "  print(\"YES\")\n",
        "if 2==1:\n",
        "  print(\"No\")\n",
        "if 1+3<=4:\n",
        "  print(\"Very good\")"
      ],
      "execution_count": null,
      "outputs": [
        {
          "output_type": "stream",
          "name": "stdout",
          "text": [
            "OK\n",
            "YES\n",
            "Very good\n"
          ]
        }
      ]
    },
    {
      "cell_type": "code",
      "metadata": {
        "colab": {
          "base_uri": "https://localhost:8080/"
        },
        "id": "DBLTJ_Ccivy5",
        "outputId": "0c68811b-b919-4a26-f9b2-21213830f280"
      },
      "source": [
        "while True:\n",
        "  var=4\n",
        "  input(\"input your number:\")\n",
        " \n",
        "  if var== \"No\":\n",
        "    print(\"tiao chu xunhuan!\")\n",
        "    break\n",
        "  print(\"Your input nmuber is %d\" %int(var))"
      ],
      "execution_count": null,
      "outputs": [
        {
          "output_type": "stream",
          "name": "stdout",
          "text": [
            "input your number:0\n",
            "Your input nmuber is 0\n",
            "input your number:1\n",
            "Your input nmuber is 1\n",
            "input your number:9\n",
            "Your input nmuber is 9\n",
            "input your number:8\n",
            "Your input nmuber is 8\n",
            "input your number:7\n",
            "Your input nmuber is 7\n",
            "input your number:5\n",
            "Your input nmuber is 5\n",
            "input your number:3\n",
            "Your input nmuber is 3\n",
            "input your number:0\n",
            "Your input nmuber is 0\n",
            "input your number:No\n",
            "tiao chu xunhuan!\n"
          ]
        }
      ]
    },
    {
      "cell_type": "code",
      "metadata": {
        "colab": {
          "base_uri": "https://localhost:8080/"
        },
        "id": "lecH0xCmi6LG",
        "outputId": "ebcfb272-94b1-49d9-82c2-015f829ee0c7"
      },
      "source": [
        "xulie=(\"abd\",\"cde\",\"efd\",\"hdg\")\n",
        "var=\"cdf\"\n",
        "if var==xulie[0]:\n",
        "  print(\"It's in it\")\n",
        "elif var==xulie[1]:\n",
        "  print(\"It's in two of it\")\n",
        "else:\n",
        "  print(\"No in it\")"
      ],
      "execution_count": null,
      "outputs": [
        {
          "output_type": "stream",
          "name": "stdout",
          "text": [
            "No in it\n"
          ]
        }
      ]
    },
    {
      "cell_type": "code",
      "metadata": {
        "colab": {
          "base_uri": "https://localhost:8080/"
        },
        "id": "dXTnlDUukZ5D",
        "outputId": "827534c2-cb47-4cce-fdfb-fdcbd8dd691c"
      },
      "source": [
        "\n",
        "fridge={\"egg\":2, \"mushroom\":5, \"pepper\":1, \"cheese\":1, \"milk\":12}\n",
        "food_sought=\"milk\"\n",
        "hungry=fridge.keys()\n",
        "print(hungry)\n",
        "for food in hungry:\n",
        "  if food==\"123\":\n",
        "    print(\"%s\" %fridge[\"milk\"])\n",
        "    break\n",
        "  else:\n",
        "    print(\"It's no food\")\n",
        "\n"
      ],
      "execution_count": null,
      "outputs": [
        {
          "output_type": "stream",
          "name": "stdout",
          "text": [
            "dict_keys(['egg', 'mushroom', 'pepper', 'cheese', 'milk'])\n",
            "It's no food\n",
            "It's no food\n",
            "It's no food\n",
            "It's no food\n",
            "It's no food\n"
          ]
        }
      ]
    },
    {
      "cell_type": "code",
      "metadata": {
        "colab": {
          "base_uri": "https://localhost:8080/"
        },
        "id": "6GG8WCa9_3IK",
        "outputId": "705c7d52-0de4-4d04-b1a6-fe29b32f8ecd"
      },
      "source": [
        "fridge_contents={\"egg\":8, \"mushroom\":20,\"pepper\":3,\"cheese\":2,\"tomato\":4,\"milk\":13}\n",
        "try:\n",
        "  if fridge_contents[\"orange jucie\"]>3:\n",
        "    print(\"Sure\")\n",
        "except KeyError:\n",
        "    print(\"There is no it\")\n",
        "    "
      ],
      "execution_count": null,
      "outputs": [
        {
          "output_type": "stream",
          "name": "stdout",
          "text": [
            "There is no it\n"
          ]
        }
      ]
    },
    {
      "cell_type": "markdown",
      "metadata": {
        "id": "l2ZqxPlXA6zG"
      },
      "source": [
        "# 第五章 函数和对象"
      ]
    },
    {
      "cell_type": "code",
      "metadata": {
        "colab": {
          "base_uri": "https://localhost:8080/"
        },
        "id": "0hw26bv9BDbG",
        "outputId": "4a4c4fc7-fc2e-4ddc-8922-725113780050"
      },
      "source": [
        "#将一些代码聚集在一个名称中，使用名称来使用代码功能，而不需要重复写,现代程序的核心\n",
        "def in_fridge():\n",
        "  \"\"\"this is a function to see if the fridge has a food.\n",
        "  fridge has a dictionary defined outside of the function.\n",
        "  the food to be searched for is in the string wanted_food\"\"\"\n",
        "  try:\n",
        "    count=fridge[wanted_food]\n",
        "  except KeyError:\n",
        "    count=0\n",
        "  return count\n",
        "fridge={\"apples\":10, \"oranges\":3, \"milk\":2}\n",
        "wanted_food=\"milk\"\n",
        "in_fridge()\n",
        "#print(\"%s\" %in_fridge.__doc__)"
      ],
      "execution_count": null,
      "outputs": [
        {
          "output_type": "execute_result",
          "data": {
            "text/plain": [
              "2"
            ]
          },
          "metadata": {},
          "execution_count": 35
        }
      ]
    },
    {
      "cell_type": "code",
      "metadata": {
        "id": "DIJFHk6kaE8_"
      },
      "source": [
        "dir(in_fridge)"
      ],
      "execution_count": null,
      "outputs": []
    },
    {
      "cell_type": "code",
      "metadata": {
        "colab": {
          "base_uri": "https://localhost:8080/"
        },
        "id": "Eq33Ee4BbR3u",
        "outputId": "c413baf6-13db-4954-b55f-9764b8c3b062"
      },
      "source": [
        "special_sauce=[\"ke\",\"mayonnaise\",\"french dressing\"]\n",
        "def make_new_sauce():\n",
        "  \"\"\"This function makes a new special sauce all its own\"\"\"\n",
        "  special_sauce=[\"mustard\",\"yogurt\"]\n",
        "  return special_sauce\n",
        "yy=make_new_sauce()\n",
        "print(\"aa=\\t\", yy)"
      ],
      "execution_count": null,
      "outputs": [
        {
          "output_type": "stream",
          "name": "stdout",
          "text": [
            "aa=\t ['mustard', 'yogurt']\n"
          ]
        }
      ]
    },
    {
      "cell_type": "code",
      "metadata": {
        "colab": {
          "base_uri": "https://localhost:8080/",
          "height": 340
        },
        "id": "_FD8Jy2fnZZp",
        "outputId": "cf955cc6-21a1-4922-f519-ccb271ac53e1"
      },
      "source": [
        "def in_fridge(some_fridge, desired_item):\n",
        "  \"\"\"This is a function to see if the fridge has a food.\n",
        "  fridge has to be a dictionary defined outside of the function.\n",
        "  the food to be searched for is in the string wanted_food\"\"\"\n",
        "  try:\n",
        "    count=some_fridge[desired_item]\n",
        "  except KeyError:\n",
        "    count=0\n",
        "  return count\n",
        "fridge={'apples':10, 'oranges':3, 'milk':2}\n",
        "wanted_food=\"oranges\"\n",
        "in_fridge(fridge, wanted_food)\n",
        "in_fridge({'cookies':10, 'broccoli':3, 'milk':2},\"broccoli\")\n",
        "in_fridge(3,\"broccoli\")"
      ],
      "execution_count": null,
      "outputs": [
        {
          "output_type": "error",
          "ename": "TypeError",
          "evalue": "ignored",
          "traceback": [
            "\u001b[0;31m---------------------------------------------------------------------------\u001b[0m",
            "\u001b[0;31mTypeError\u001b[0m                                 Traceback (most recent call last)",
            "\u001b[0;32m<ipython-input-32-7a6734a3433f>\u001b[0m in \u001b[0;36m<module>\u001b[0;34m()\u001b[0m\n\u001b[1;32m     12\u001b[0m \u001b[0min_fridge\u001b[0m\u001b[0;34m(\u001b[0m\u001b[0mfridge\u001b[0m\u001b[0;34m,\u001b[0m \u001b[0mwanted_food\u001b[0m\u001b[0;34m)\u001b[0m\u001b[0;34m\u001b[0m\u001b[0;34m\u001b[0m\u001b[0m\n\u001b[1;32m     13\u001b[0m \u001b[0min_fridge\u001b[0m\u001b[0;34m(\u001b[0m\u001b[0;34m{\u001b[0m\u001b[0;34m'cookies'\u001b[0m\u001b[0;34m:\u001b[0m\u001b[0;36m10\u001b[0m\u001b[0;34m,\u001b[0m \u001b[0;34m'broccoli'\u001b[0m\u001b[0;34m:\u001b[0m\u001b[0;36m3\u001b[0m\u001b[0;34m,\u001b[0m \u001b[0;34m'milk'\u001b[0m\u001b[0;34m:\u001b[0m\u001b[0;36m2\u001b[0m\u001b[0;34m}\u001b[0m\u001b[0;34m,\u001b[0m\u001b[0;34m\"broccoli\"\u001b[0m\u001b[0;34m)\u001b[0m\u001b[0;34m\u001b[0m\u001b[0;34m\u001b[0m\u001b[0m\n\u001b[0;32m---> 14\u001b[0;31m \u001b[0min_fridge\u001b[0m\u001b[0;34m(\u001b[0m\u001b[0;36m3\u001b[0m\u001b[0;34m,\u001b[0m\u001b[0;34m\"broccoli\"\u001b[0m\u001b[0;34m)\u001b[0m\u001b[0;34m\u001b[0m\u001b[0;34m\u001b[0m\u001b[0m\n\u001b[0m",
            "\u001b[0;32m<ipython-input-32-7a6734a3433f>\u001b[0m in \u001b[0;36min_fridge\u001b[0;34m(some_fridge, desired_item)\u001b[0m\n\u001b[1;32m      4\u001b[0m   the food to be searched for is in the string wanted_food\"\"\"\n\u001b[1;32m      5\u001b[0m   \u001b[0;32mtry\u001b[0m\u001b[0;34m:\u001b[0m\u001b[0;34m\u001b[0m\u001b[0;34m\u001b[0m\u001b[0m\n\u001b[0;32m----> 6\u001b[0;31m     \u001b[0mcount\u001b[0m\u001b[0;34m=\u001b[0m\u001b[0msome_fridge\u001b[0m\u001b[0;34m[\u001b[0m\u001b[0mdesired_item\u001b[0m\u001b[0;34m]\u001b[0m\u001b[0;34m\u001b[0m\u001b[0;34m\u001b[0m\u001b[0m\n\u001b[0m\u001b[1;32m      7\u001b[0m   \u001b[0;32mexcept\u001b[0m \u001b[0mKeyError\u001b[0m\u001b[0;34m:\u001b[0m\u001b[0;34m\u001b[0m\u001b[0;34m\u001b[0m\u001b[0m\n\u001b[1;32m      8\u001b[0m     \u001b[0mcount\u001b[0m\u001b[0;34m=\u001b[0m\u001b[0;36m0\u001b[0m\u001b[0;34m\u001b[0m\u001b[0;34m\u001b[0m\u001b[0m\n",
            "\u001b[0;31mTypeError\u001b[0m: 'int' object is not subscriptable"
          ]
        }
      ]
    },
    {
      "cell_type": "code",
      "metadata": {
        "id": "t4n7uCvK8svB"
      },
      "source": [
        ""
      ],
      "execution_count": null,
      "outputs": []
    },
    {
      "cell_type": "code",
      "metadata": {
        "colab": {
          "base_uri": "https://localhost:8080/"
        },
        "id": "Sllhy9FeBqqq",
        "outputId": "5b19a9e3-ef3f-4c9f-ce80-be6fc4e75711"
      },
      "source": [
        "def get_omelet_ingredients(omelet_name):\n",
        "  ingredients={\"eggs\":2,\"milk\":1}\n",
        "  if omelet_name==\"cheese\":\n",
        "    ingredients[\"cheddar\"]=2\n",
        "  elif omelet_name==\"western\":\n",
        "    #print(\"Yes\")\n",
        "    ingredients[\"jack_cheese\"]=2\n",
        "    ingredients[\"ham\"]    =1\n",
        "    ingredients[\"pepper\"]  =1\n",
        "    ingredients[\"onion\"]  =1\n",
        "  elif omelet_name==\"greek\":\n",
        "    ingredients[\"feta_cheese\"]=2\n",
        "    ingredients[\"spinach\"] =2\n",
        "  else:\n",
        "    print(\"That's not on the menu, sorry!\")\n",
        "    return None\n",
        "  return ingredients\n",
        "\n",
        "\n",
        "wanted_food=\"western\"\n",
        "get_omelet_ingredients(\"western\")\n"
      ],
      "execution_count": null,
      "outputs": [
        {
          "output_type": "stream",
          "name": "stdout",
          "text": [
            "Yes\n"
          ]
        },
        {
          "output_type": "execute_result",
          "data": {
            "text/plain": [
              "{'eggs': 2, 'ham': 1, 'jack_cheese': 2, 'milk': 1, 'onion': 1, 'pepper': 1}"
            ]
          },
          "metadata": {},
          "execution_count": 35
        }
      ]
    },
    {
      "cell_type": "code",
      "metadata": {
        "id": "FqeI6nCXJy0z"
      },
      "source": [
        ""
      ],
      "execution_count": null,
      "outputs": []
    },
    {
      "cell_type": "code",
      "metadata": {
        "id": "50nRFvusGoc6",
        "colab": {
          "base_uri": "https://localhost:8080/",
          "height": 109
        },
        "outputId": "4dbe59f2-65bf-4c45-d0d7-922466f92eab"
      },
      "source": [
        "def make_food(ingredients_needed, food_name):\n",
        "  for ingredient in ingredients_needed.keys():\n",
        "    print(\"Adding %d of %s to make a %s\" %(ingredients_needed[ingredient],ingredient,food_name))\n",
        "  print(\"Made %s\" %food_name)\n",
        "  return food_name\n",
        " \n",
        "\n",
        "def get_omelet_ingredients(omelet_name): #返回字典 材料和数量\n",
        "  ingredients={\"eggs\":2,\"milk\":1}\n",
        "  if omelet_name==\"cheese\":\n",
        "    ingredients[\"cheddar\"]=2\n",
        "  elif omelet_name==\"western\":\n",
        "    #print(\"Yes\")\n",
        "    ingredients[\"jack_cheese\"]=2\n",
        "    ingredients[\"ham\"]    =1\n",
        "    ingredients[\"pepper\"]  =1\n",
        "    ingredients[\"onion\"]  =1\n",
        "  elif omelet_name==\"greek\":\n",
        "    ingredients[\"feta_cheese\"]=2\n",
        "    ingredients[\"spinach\"] =2\n",
        "  else:\n",
        "    print(\"That's not on the menu, sorry!\")\n",
        "    return None\n",
        "  return ingredients\n",
        "\n",
        "def make_omelet(omelet_type):\n",
        "  if type(omelet_type)==type({}):\n",
        "    print(\"omelet_type is a dictionary with ingredients\")\n",
        "    return make_food(omelet_type,\"omelet\")\n",
        "  elif type(omelet_type)==type(\"\"): #获取字典的材料和数量\n",
        "    omelet_ingredients=get_omelet_ingredients(omelet_type)\n",
        "    return make_food(omelet_ingredients,omelet_type)\n",
        "  else:\n",
        "    raise TypeError(\"No such omelet type :%s\" %omelet_type)\n",
        "\n",
        "make_omelet(\"cheese\")\n",
        "\n",
        "#make_omelet({\"egg\":2,\"jack_cheese\":2,\"milk\":1,\"mushrooms\":2}) #直接输入字典"
      ],
      "execution_count": null,
      "outputs": [
        {
          "output_type": "stream",
          "name": "stdout",
          "text": [
            "Adding 2 of eggs to make a cheese\n",
            "Adding 1 of milk to make a cheese\n",
            "Adding 2 of cheddar to make a cheese\n",
            "Made cheese\n"
          ]
        },
        {
          "output_type": "execute_result",
          "data": {
            "application/vnd.google.colaboratory.intrinsic+json": {
              "type": "string"
            },
            "text/plain": [
              "'cheese'"
            ]
          },
          "metadata": {},
          "execution_count": 15
        }
      ]
    },
    {
      "cell_type": "code",
      "metadata": {
        "colab": {
          "base_uri": "https://localhost:8080/"
        },
        "id": "cClc_VQSr8Ps",
        "outputId": "bbe25a13-1274-4d19-b863-4a9ea65969d5"
      },
      "source": [
        "\n",
        "def do_plus(a,b):\n",
        "  y=a+b\n",
        "  return y\n",
        "\n",
        "do_plus(555,5)"
      ],
      "execution_count": null,
      "outputs": [
        {
          "output_type": "execute_result",
          "data": {
            "text/plain": [
              "560"
            ]
          },
          "metadata": {},
          "execution_count": 11
        }
      ]
    },
    {
      "cell_type": "code",
      "metadata": {
        "colab": {
          "base_uri": "https://localhost:8080/"
        },
        "id": "E5mD0RHQtRJs",
        "outputId": "9aa42819-bc7a-45ef-8767-a8145df639bb"
      },
      "source": [
        "def power(x):\n",
        "   return x*x\n",
        "\n",
        "power(25)"
      ],
      "execution_count": null,
      "outputs": [
        {
          "output_type": "execute_result",
          "data": {
            "text/plain": [
              "625"
            ]
          },
          "metadata": {},
          "execution_count": 4
        }
      ]
    },
    {
      "cell_type": "code",
      "metadata": {
        "id": "hO3Tq7XIyRqc"
      },
      "source": [
        "def make_omelet(omelet_type):\n",
        "  if type(omelet_type)==type({}):\n",
        "    print(\"omelet_type is a dictionary with ingredients\")\n",
        "    return make_food(omelet_type,\"omelet\")\n",
        "  elif type(omelet_type)==type(\"\"): #获取字典的材料和数量\n",
        "    omelet_ingredients=get_omelet_ingredients(omelet_type)\n",
        "    return make_food(omelet_ingredients,omelet_type)\n",
        "  else:\n",
        "    raise TypeError(\"No such omelet type :%s\" %omelet_type)"
      ],
      "execution_count": null,
      "outputs": []
    },
    {
      "cell_type": "code",
      "metadata": {
        "id": "A-LaCIx_y2cs"
      },
      "source": [
        "def in_fridge():\n",
        "  \"\"\"this is a function to see if the fridge has a food.\n",
        "  fridge has a dictionary defined outside of the function.\n",
        "  the food to be searched for is in the string wanted_food\"\"\"\n",
        "  try:\n",
        "    count=fridge[wanted_food]\n",
        "  except KeyError:\n",
        "    count=0\n",
        "  return count\n",
        "fridge={\"apples\":10, \"oranges\":3, \"milk\":2}\n",
        "wanted_food=\"milk\"\n",
        "\n",
        "\n",
        "def make_food(ingredients_needed, food_name):\n",
        "  for ingredient in ingredients_needed.keys():\n",
        "    print(\"Adding %d of %s to make a %s\" %(ingredients_needed[ingredient],ingredient,food_name))\n",
        "  print(\"Made %s\" %food_name)\n",
        "  return food_name"
      ],
      "execution_count": null,
      "outputs": []
    },
    {
      "cell_type": "code",
      "metadata": {
        "colab": {
          "base_uri": "https://localhost:8080/"
        },
        "id": "4QNyEy0S0H-u",
        "outputId": "200d3607-8be9-4a70-b217-bb972f0d440c"
      },
      "source": [
        "\n",
        "omelet_type=\"Cheese\"\n",
        "omelet_type.lower()\n",
        "omelet_type.expandtabs()\n",
        "type(omelet_type.__len__)\n",
        "omelet_type.__len__()"
      ],
      "execution_count": null,
      "outputs": [
        {
          "output_type": "execute_result",
          "data": {
            "text/plain": [
              "6"
            ]
          },
          "metadata": {},
          "execution_count": 11
        }
      ]
    },
    {
      "cell_type": "code",
      "metadata": {
        "colab": {
          "base_uri": "https://localhost:8080/"
        },
        "id": "FBgZcABO0utE",
        "outputId": "28fdfbea-e420-492a-f0be-45a0ad08bb53"
      },
      "source": [
        "fridge={\"cheese\":1,\"tomato\":2,\"milk\":4}\n",
        "for x in fridge.keys():\n",
        "  print(x)\n",
        "dir(fridge)"
      ],
      "execution_count": null,
      "outputs": [
        {
          "output_type": "stream",
          "name": "stdout",
          "text": [
            "cheese\n",
            "tomato\n",
            "milk\n"
          ]
        },
        {
          "output_type": "execute_result",
          "data": {
            "text/plain": [
              "['__class__',\n",
              " '__contains__',\n",
              " '__delattr__',\n",
              " '__delitem__',\n",
              " '__dir__',\n",
              " '__doc__',\n",
              " '__eq__',\n",
              " '__format__',\n",
              " '__ge__',\n",
              " '__getattribute__',\n",
              " '__getitem__',\n",
              " '__gt__',\n",
              " '__hash__',\n",
              " '__init__',\n",
              " '__init_subclass__',\n",
              " '__iter__',\n",
              " '__le__',\n",
              " '__len__',\n",
              " '__lt__',\n",
              " '__ne__',\n",
              " '__new__',\n",
              " '__reduce__',\n",
              " '__reduce_ex__',\n",
              " '__repr__',\n",
              " '__setattr__',\n",
              " '__setitem__',\n",
              " '__sizeof__',\n",
              " '__str__',\n",
              " '__subclasshook__',\n",
              " 'clear',\n",
              " 'copy',\n",
              " 'fromkeys',\n",
              " 'get',\n",
              " 'items',\n",
              " 'keys',\n",
              " 'pop',\n",
              " 'popitem',\n",
              " 'setdefault',\n",
              " 'update',\n",
              " 'values']"
            ]
          },
          "metadata": {},
          "execution_count": 6
        }
      ]
    },
    {
      "cell_type": "code",
      "metadata": {
        "colab": {
          "base_uri": "https://localhost:8080/",
          "height": 194
        },
        "id": "5j4iCOpP1Uad",
        "outputId": "f14e20f0-48e7-467e-a94e-a9aa433c4606"
      },
      "source": [
        "o1=Omelet()\n",
        "o1.show_kind()"
      ],
      "execution_count": null,
      "outputs": [
        {
          "output_type": "error",
          "ename": "NameError",
          "evalue": "ignored",
          "traceback": [
            "\u001b[0;31m---------------------------------------------------------------------------\u001b[0m",
            "\u001b[0;31mNameError\u001b[0m                                 Traceback (most recent call last)",
            "\u001b[0;32m<ipython-input-12-bb8b02ce33eb>\u001b[0m in \u001b[0;36m<module>\u001b[0;34m()\u001b[0m\n\u001b[0;32m----> 1\u001b[0;31m \u001b[0mo1\u001b[0m\u001b[0;34m=\u001b[0m\u001b[0mOmelet\u001b[0m\u001b[0;34m(\u001b[0m\u001b[0;34m)\u001b[0m\u001b[0;34m\u001b[0m\u001b[0;34m\u001b[0m\u001b[0m\n\u001b[0m\u001b[1;32m      2\u001b[0m \u001b[0mo1\u001b[0m\u001b[0;34m.\u001b[0m\u001b[0mshow_kind\u001b[0m\u001b[0;34m(\u001b[0m\u001b[0;34m)\u001b[0m\u001b[0;34m\u001b[0m\u001b[0;34m\u001b[0m\u001b[0m\n",
            "\u001b[0;31mNameError\u001b[0m: name 'Omelet' is not defined"
          ]
        }
      ]
    },
    {
      "cell_type": "code",
      "metadata": {
        "colab": {
          "base_uri": "https://localhost:8080/"
        },
        "id": "5mX6VIy32y3s",
        "outputId": "94fac2e4-4603-40d6-cfe9-ad80385ffa0b"
      },
      "source": [
        "#编写类时，先确定功能\n",
        "class Fridge:\n",
        "  #has(food_name [,quantity])\n",
        "  #def has_various(foods)\n",
        "  #def add_one(food_name)\n",
        "  #def add_many(food_dict)\n",
        "  #def get_one(food_name)\n",
        "  #def get_many(food_dict)\n",
        "  #def get_ingredients(food)\n",
        "\n",
        "  def  __add_multi(self,food_name,quantity):\n",
        "      if (not food_name in self.items):\n",
        "        self.items[food_name]=0\n",
        "      self.items[food_name]=self.items[food_name]+quantity\n",
        "  def __init__(self,items={}):\n",
        "    if type(items)!=type({}):\n",
        "      raise TypeError(\"Fridge requires a dictionary but was given %s\" %type(items))\n",
        "    self.items=items\n",
        "    return\n",
        "  def add_one(self,food_name):\n",
        "    if type(food_name)!=type(\"\"):\n",
        "      raise TypeError(\"add_one requires a string ,given a %s\" %type(food_name))\n",
        "    else:\n",
        "      self.__add_multi(food_name,1)\n",
        "    return True\n",
        "  def add_many(self,food_dict):\n",
        "    if type(food_dict)!=type({}):\n",
        "      raise TypeError(\"add_many requires a dictionary ,got a %s\" %food_dict)\n",
        "    for item in food_dict.keys():\n",
        "      self.__add_multi(item,food_dict[item])\n",
        "    return \n",
        "\n",
        "f=Fridge({\"eggs\":6,\"milk\":4,\"cheese\":3})\n",
        "f.items\n",
        "f.add_one(\"grape\")\n",
        "\n",
        "f.add_many({\"mushroom\":5,\"tomato\":4})\n",
        "f.items\n"
      ],
      "execution_count": null,
      "outputs": [
        {
          "output_type": "execute_result",
          "data": {
            "text/plain": [
              "{'cheese': 3, 'eggs': 6, 'grape': 1, 'milk': 4, 'mushroom': 5, 'tomato': 4}"
            ]
          },
          "metadata": {},
          "execution_count": 12
        }
      ]
    },
    {
      "cell_type": "code",
      "metadata": {
        "colab": {
          "base_uri": "https://localhost:8080/"
        },
        "id": "sMPHkpNjJeJN",
        "outputId": "31c0b0ab-06cd-44c3-b64b-1597e0e3b4c8"
      },
      "source": [
        "class Circle(object):\n",
        "  pi=3.14\n",
        "  def __init__(self,r): #self表示类对象，初始化时必须提供self以外的参数\n",
        "    self.r=r\n",
        "  \n",
        "  def get_area(self):   #类中函数同函数不同点是类函数第一个参数必须为self表示类的对象\n",
        "    return self.r**2*self.pi\n",
        " \n",
        "circle1=Circle(3)\n",
        "print(circle1.get_area())\n",
        "#circle2=Circle(2)\n",
        "#circle1.r=1\n",
        "#circle2.r=2\n",
        "#print(circle1.r)\n",
        "#print(circle2.r)\n",
        "#print(\"--未修改前—\")\n",
        "#print(\"pi=\\t\",Circle.pi)\n",
        "#print(\"circle1.pi=\\t\",circle1.pi)\n",
        "#print(\"circle2.pi=\\t\",circle2.pi)"
      ],
      "execution_count": null,
      "outputs": [
        {
          "output_type": "stream",
          "name": "stdout",
          "text": [
            "28.26\n"
          ]
        }
      ]
    },
    {
      "cell_type": "code",
      "metadata": {
        "id": "-cWrBWszQDnN"
      },
      "source": [
        ""
      ],
      "execution_count": null,
      "outputs": []
    },
    {
      "cell_type": "code",
      "metadata": {
        "colab": {
          "base_uri": "https://localhost:8080/"
        },
        "id": "m-N7xKnBPVye",
        "outputId": "5e1fc2ae-2107-4231-aa5d-bfcc9a34d9c4"
      },
      "source": [
        "class Circle(): #object\n",
        "  pi=3.14\n",
        "  def __init__(self,r): #self表示类对象，初始化时必须提供self以外的参数\n",
        "    self.r=r\n",
        "\n",
        "  def get_area(self):\n",
        "    # s=self.r**2*self.pi\n",
        "    return self.r**2*self.pi\n",
        "\"\"\"类中函数同函数不同点是类函数第一个参数必须为self表示类的对象\"\"\"      \n",
        "circle1=Circle(4)\n",
        "print(circle1.get_area()) #调用方法self不需要传入参数。"
      ],
      "execution_count": null,
      "outputs": [
        {
          "output_type": "stream",
          "name": "stdout",
          "text": [
            "50.24\n"
          ]
        }
      ]
    },
    {
      "cell_type": "code",
      "metadata": {
        "colab": {
          "base_uri": "https://localhost:8080/"
        },
        "id": "jFAiXl15hnSZ",
        "outputId": "b58f8695-6bc1-4248-b070-4f61133b2887"
      },
      "source": [
        "#制作一个机器，可以批量制作鸭子形状的玩具\n",
        "def makeDuckMoth():\n",
        "  print(\"鸭子嘴巴制作完成\")\n",
        "def makeDuckEar():\n",
        "  print(\"鸭子耳朵制作完成\")\n",
        "def makeDuckEye():\n",
        "  print(\"鸭眼睛制作完成\")\n",
        "def makeDuckHead():\n",
        "  print(\"鸭头制作完成\")\n",
        "def makeDuckBody():\n",
        "  print(\"鸭身体制作完毕\")\n",
        "def makeDuckFoot():\n",
        "  print(\"鸭脚制作完毕\")\n",
        "def makeDuckMerge():\n",
        "  print(\"鸭子组装完毕\")\n",
        "makeDuckMoth()\n",
        "makeDuckEar()\n",
        "makeDuckEye()\n",
        "makeDuckHead()\n",
        "makeDuckBody()\n",
        "makeDuckFoot()\n",
        "makeDuckMerge()"
      ],
      "execution_count": null,
      "outputs": [
        {
          "output_type": "stream",
          "name": "stdout",
          "text": [
            "鸭子嘴巴制作完成\n",
            "鸭子耳朵制作完成\n",
            "鸭眼睛制作完成\n",
            "鸭头制作完成\n",
            "鸭身体制作完毕\n",
            "鸭脚制作完毕\n",
            "鸭子组装完毕\n"
          ]
        }
      ]
    },
    {
      "cell_type": "code",
      "metadata": {
        "colab": {
          "base_uri": "https://localhost:8080/"
        },
        "id": "LhUcnETrjSwB",
        "outputId": "1a42303e-a663-488a-af65-5e4ea0affcad"
      },
      "source": [
        "#制作一个机器，可以批量制作猪形状的玩具\n",
        "def makePigMoth():\n",
        "  print(\"猪嘴巴制作完成\")\n",
        "def makePigEar():\n",
        "  print(\"猪耳朵制作完成\")\n",
        "def makePigEye():\n",
        "  print(\"猪眼睛制作完成\")\n",
        "def makePigHead():\n",
        "  print(\"猪头制作完成\")\n",
        "def makePigBody():\n",
        "  print(\"猪身体制作完毕\")\n",
        "def makePigFoot():\n",
        "  print(\"猪脚制作完毕\")\n",
        "def makePigMerge():\n",
        "  print(\"猪组装完毕\")\n",
        "makePigMoth()\n",
        "makePigEar()\n",
        "makePigEye()\n",
        "makePigHead()\n",
        "makePigBody()\n",
        "makePigFoot()\n",
        "makePigMerge()"
      ],
      "execution_count": null,
      "outputs": [
        {
          "output_type": "stream",
          "name": "stdout",
          "text": [
            "猪嘴巴制作完成\n",
            "猪耳朵制作完成\n",
            "猪眼睛制作完成\n",
            "猪头制作完成\n",
            "猪身体制作完毕\n",
            "猪脚制作完毕\n",
            "猪组装完毕\n"
          ]
        }
      ]
    },
    {
      "cell_type": "code",
      "metadata": {
        "colab": {
          "base_uri": "https://localhost:8080/"
        },
        "id": "b-J_UvP_kxFi",
        "outputId": "e1f1a4ba-60da-403e-8a75-f56a95eb5a61"
      },
      "source": [
        "class Animal(object):\n",
        "  def __init__(self,name):\n",
        "    self.name=name\n",
        "  def makeMoth(self):\n",
        "    print(self.name+\"的嘴巴 制作完成\")\n",
        "  def makeEar(self):\n",
        "    print(self.name+\"的耳朵 制作完成\")\n",
        "  def makeEye(self):\n",
        "    print(self.name+\"的眼睛 制作完成\")\n",
        "  def makeHead(self):\n",
        "    print(self.name+\"的头 制作完成\")\n",
        "  def makeBody(self):\n",
        "    print(self.name+\"的身体 制作完成\")\n",
        "  def makeMerge(self):\n",
        "    print(self.name+\"合并完成\")\n",
        "  def makeAll(self):\n",
        "    self.makeMoth()\n",
        "    self.makeEar()\n",
        "    self.makeEye()\n",
        "    self.makeHead()\n",
        "    self.makeBody()\n",
        "    self.makeMerge()\n",
        "\n",
        "Pig=Animal(\"鸭\")\n",
        "Pig.makeAll()"
      ],
      "execution_count": null,
      "outputs": [
        {
          "output_type": "stream",
          "name": "stdout",
          "text": [
            "鸭的嘴巴 制作完成\n",
            "鸭的耳朵 制作完成\n",
            "鸭的眼睛 制作完成\n",
            "鸭的头 制作完成\n",
            "鸭的身体 制作完成\n",
            "鸭合并完成\n"
          ]
        }
      ]
    },
    {
      "cell_type": "code",
      "metadata": {
        "colab": {
          "base_uri": "https://localhost:8080/"
        },
        "id": "p_BJMd7Uswtl",
        "outputId": "ee4eec97-1ecd-4198-a1c8-7d0d19aa510c"
      },
      "source": [
        "class Duck(Animal):\n",
        "  def makeMoth(self):\n",
        "    print(self.name+\"的嘴巴 制作完成\")\n",
        "  def makeEar(self):\n",
        "    print(self.name+\"的耳朵 制作完成\")\n",
        "  def makeEye(self):\n",
        "    print(self.name+\"的眼睛 制作完成\")\n",
        "  def makeHead(self):\n",
        "    print(self.name+\"的头 制作完成\")\n",
        "  def makeFoot(self):\n",
        "    print(self.name+\"的脚 制作完成\")\n",
        "  def makeMerge(self):\n",
        "    print(self.name+\"合并完成\")\n",
        "  def makeWing(self):\n",
        "    print(self.name+\"的翅膀 制作完成\")\n",
        "  def makeAll(self):\n",
        "    self.makeMoth()\n",
        "    self.makeEar()\n",
        "    self.makeEye()\n",
        "    self.makeHead()\n",
        "    self.makeFoot()\n",
        "    self.makeMerge()\n",
        "    self.makeWing()\n",
        "\n",
        "duck1=Duck(\"Duck\")\n",
        "duck1.makeAll()   #以后要制作狗/鸡/牛/企鹅都可以从Animal继承"
      ],
      "execution_count": null,
      "outputs": [
        {
          "output_type": "stream",
          "name": "stdout",
          "text": [
            "Duck的嘴巴 制作完成\n",
            "Duck的耳朵 制作完成\n",
            "Duck的眼睛 制作完成\n",
            "Duck的头 制作完成\n",
            "Duck的脚 制作完成\n",
            "Duck合并完成\n",
            "Duck的翅膀 制作完成\n"
          ]
        }
      ]
    },
    {
      "cell_type": "code",
      "metadata": {
        "colab": {
          "base_uri": "https://localhost:8080/"
        },
        "id": "JAz4xn3Fuiir",
        "outputId": "f572b2ea-b159-439e-f970-5872adaa346e"
      },
      "source": [
        "#如果要做个别的，建立一个足够通用基类，慢慢扩展\n",
        "class Weishengwu(object):\n",
        "  def __init__(self,name):\n",
        "    self.name=name\n",
        "  def eat(self):\n",
        "    print(\"吃东西\")\n",
        "\n",
        "class Fish(Weishengwu):\n",
        "  def move(self):\n",
        "    print(self.name+\"会移动\")\n",
        "    \n",
        "\n",
        "class Monkey(Fish):\n",
        "  def __init__(self,name,love):\n",
        "    self.name=name\n",
        "    self.love=love\n",
        "  def eat(self):\n",
        "    print(self.name+\"牙齿吃东西\")\n",
        "    print(self.love+\"会爱\")\n",
        "  def move(self):\n",
        "    print(self.name+\"脚移动\")\n",
        "  def Pashu(self):\n",
        "    print(self.name+\"会爬树\")\n",
        "\n",
        "\n",
        "#fish=Fish(\"鱼\")\n",
        "#fish.move()\n",
        "\n",
        "monkey1=Monkey(\"猴子的\",\"love\")\n",
        "monkey1.eat()\n"
      ],
      "execution_count": null,
      "outputs": [
        {
          "output_type": "stream",
          "name": "stdout",
          "text": [
            "猴子的牙齿吃东西\n",
            "love会爱\n"
          ]
        }
      ]
    },
    {
      "cell_type": "code",
      "metadata": {
        "colab": {
          "base_uri": "https://localhost:8080/"
        },
        "id": "dOJTgvQyoGdU",
        "outputId": "ee3cf51d-1e69-4683-e6bf-e2d6c7bc10f2"
      },
      "source": [
        "class TestSelf:\n",
        "  def self_id(self):\n",
        "    return self\n",
        "\n",
        "t1=TestSelf()\n",
        "print(t1)\n",
        "print(t1.self_id())"
      ],
      "execution_count": null,
      "outputs": [
        {
          "output_type": "stream",
          "name": "stdout",
          "text": [
            "<__main__.TestSelf object at 0x7fb2d7071850>\n",
            "<__main__.TestSelf object at 0x7fb2d7071850>\n"
          ]
        }
      ]
    },
    {
      "cell_type": "code",
      "metadata": {
        "colab": {
          "base_uri": "https://localhost:8080/"
        },
        "id": "itdtz-6lsYls",
        "outputId": "35592844-534f-46d3-d44d-3f26a47088bd"
      },
      "source": [
        "class 人:\n",
        "  age=10\n",
        "  def 变老一岁(对象自己):\n",
        "    对象自己.age=对象自己.age+1\n",
        "    return 对象自己.age\n",
        "\n",
        "张三=人()\n",
        "李四=人()\n",
        "print(张三.变老一岁())\n",
        "print(李四.变老一岁())"
      ],
      "execution_count": null,
      "outputs": [
        {
          "output_type": "stream",
          "name": "stdout",
          "text": [
            "11\n",
            "11\n"
          ]
        }
      ]
    },
    {
      "cell_type": "code",
      "metadata": {
        "id": "65u80leOzJcu"
      },
      "source": [
        "\"\"\"Python中为什么要使用类，编程语言和人类语言一样，通过最简单高效的语言告诉电脑，要做什么，\n",
        "换句话说，你是上帝，用编程语言从无到有创造一个世界。我们肯定是一类一类创造，应该有人类、鸟类、鱼类，而不是\n",
        "一个一个创造. 类有属性 身高等，另一个具备的功能如会说话，会数学\"\"\""
      ],
      "execution_count": null,
      "outputs": []
    },
    {
      "cell_type": "code",
      "metadata": {
        "colab": {
          "base_uri": "https://localhost:8080/"
        },
        "id": "pBSerNfyzz6V",
        "outputId": "00068327-80fe-4372-c3f5-60ccee95bc35"
      },
      "source": [
        "class Person(object):\n",
        "  class_name=\"人类\"\n",
        "\n",
        "  def __init__(self,name,birth):\n",
        "    self.name=name\n",
        "    self.birth=birth\n",
        "    self.height=170\n",
        "    self.legs=2\n",
        "  \n",
        "  def say(self):\n",
        "    print(\"我的姓名：\",self.name)\n",
        "    print(\"我出生于:\",self.birth)\n",
        "  def jiafa(self,x,y):\n",
        "    return x+y\n",
        "\n",
        "print(Person.class_name)\n",
        "\n",
        "\n",
        "\n",
        "zhangsan=Person(\"张三\",\"1980-11-21\")\n",
        "\n",
        "print(zhangsan.class_name)\n",
        "zhangsan.say()\n",
        "print(zhangsan.jiafa(1,2))"
      ],
      "execution_count": null,
      "outputs": [
        {
          "output_type": "stream",
          "name": "stdout",
          "text": [
            "人类\n",
            "人类\n",
            "我的姓名： 张三\n",
            "我出生于: 1980-11-21\n",
            "3\n"
          ]
        }
      ]
    },
    {
      "cell_type": "code",
      "metadata": {
        "colab": {
          "base_uri": "https://localhost:8080/"
        },
        "id": "jylDLRQ-Dfw_",
        "outputId": "bd0cf10d-949c-4e1d-ce93-5343a2da2410"
      },
      "source": [
        "a=2\n",
        "print(type(2))\n",
        "dir(a)\n",
        "print(a.numerator)"
      ],
      "execution_count": null,
      "outputs": [
        {
          "output_type": "stream",
          "name": "stdout",
          "text": [
            "<class 'int'>\n",
            "2\n"
          ]
        }
      ]
    },
    {
      "cell_type": "markdown",
      "metadata": {
        "id": "2ZO1mdKcP2zh"
      },
      "source": [
        ""
      ]
    },
    {
      "cell_type": "markdown",
      "metadata": {
        "id": "abJz6_GUP3_u"
      },
      "source": [
        "# Python 解题实例"
      ]
    },
    {
      "cell_type": "code",
      "metadata": {
        "colab": {
          "base_uri": "https://localhost:8080/"
        },
        "id": "2_jqR_RbQA0w",
        "outputId": "31630beb-8ee7-46ca-a8c3-570b6b553929"
      },
      "source": [
        "num=0\n",
        "for a in range(1,5):\n",
        "  for b in range(1,5):\n",
        "    for c in range(1,5):\n",
        "      if(a!=b)and(a!=c)and(b!=c):\n",
        "        print(a,b,c)\n",
        "        num+=1\n",
        "print(\"总数目为：%d\" %num)\n"
      ],
      "execution_count": null,
      "outputs": [
        {
          "output_type": "stream",
          "name": "stdout",
          "text": [
            "1 2 3\n",
            "1 2 4\n",
            "1 3 2\n",
            "1 3 4\n",
            "1 4 2\n",
            "1 4 3\n",
            "2 1 3\n",
            "2 1 4\n",
            "2 3 1\n",
            "2 3 4\n",
            "2 4 1\n",
            "2 4 3\n",
            "3 1 2\n",
            "3 1 4\n",
            "3 2 1\n",
            "3 2 4\n",
            "3 4 1\n",
            "3 4 2\n",
            "4 1 2\n",
            "4 1 3\n",
            "4 2 1\n",
            "4 2 3\n",
            "4 3 1\n",
            "4 3 2\n",
            "总数目为：24\n"
          ]
        }
      ]
    },
    {
      "cell_type": "code",
      "metadata": {
        "colab": {
          "base_uri": "https://localhost:8080/"
        },
        "id": "AwOhkrnqRf4Z",
        "outputId": "75b06c9a-b3d2-4c8e-eb3c-4ee9e6394c45"
      },
      "source": [
        "probit=int(input(\"当月利润：\\n\"))\n",
        "if(probit<=100000):\n",
        "  jiangjin=probit*0.1\n",
        "elif (100000<probit<200000):\n",
        "  jiangjin=100000*0.1+(probit-100000)*0.075\n",
        "elif (200000<=probit<400000):\n",
        "  jiangjin=100000*0.1+100000*0.075+(probit-200000)*0.05\n",
        "elif (400000<=probit<600000):\n",
        "  jiangjin=100000*0.1+100000*0.075+200000*0.05+(probit-400000)*0.03\n",
        "elif (600000<=probit<1000000):\n",
        "  jiangjin=100000*0.1+100000*0.075+200000*0.05+200000*0.03+(probit-600000)*0.015\n",
        "else :\n",
        "  jiangjin=100000*0.1+100000*0.075+200000*0.05+200000*0.03+400000*0.015+(probit-1000000)*0.01\n",
        "\n",
        "print(\"获取的奖金总数目为：%d\" %jiangjin)"
      ],
      "execution_count": null,
      "outputs": [
        {
          "output_type": "stream",
          "name": "stdout",
          "text": [
            "当月利润：\n",
            "2000000\n",
            "获取的奖金总数目为：49500\n"
          ]
        }
      ]
    },
    {
      "cell_type": "code",
      "metadata": {
        "colab": {
          "base_uri": "https://localhost:8080/"
        },
        "id": "PvYxknj_VNLq",
        "outputId": "8be17fb7-7272-477c-aa09-c23f814ea3da"
      },
      "source": [
        "n=0\n",
        "while (n+1)**2-n*n<=168:\n",
        "  n+=1\n",
        "\n",
        "print(n)\n",
        "\n",
        "for i in range((n+1)**2):\n",
        "  if i**0.5==int(i**0.5) and (i+168)**0.5==int((i+168)**0.5) :\n",
        "    print(i-100)\n"
      ],
      "execution_count": null,
      "outputs": [
        {
          "output_type": "stream",
          "name": "stdout",
          "text": [
            "84\n",
            "-99\n",
            "21\n",
            "261\n",
            "1581\n",
            "17.0\n"
          ]
        }
      ]
    },
    {
      "cell_type": "code",
      "metadata": {
        "colab": {
          "base_uri": "https://localhost:8080/"
        },
        "id": "_sT_azJMZgMS",
        "outputId": "9ed6fa6d-ebe6-4780-9732-13515e9cb847"
      },
      "source": [
        "a=int(input(\"输入第1个数:\\n\"))\n",
        "b=int(input(\"输入第2个数:\\n\"))\n",
        "c=int(input(\"输入第3个数:\\n\"))\n",
        "if(a<b)and(a<c)and(b<c):\n",
        "  print(a,b,c)\n",
        "elif(a<b)and(a<c)and(c<b):\n",
        "  print(a,c,b)\n",
        "elif(b<a)and(b<c)and(a<c):\n",
        "  print(b,a,c)\n",
        "elif(b<a)and(b<c)and(c<a):\n",
        "  print(b,c,a)\n",
        "elif(c<a)and(c<b)and(a<b):\n",
        "  print(c,a,b)\n",
        "else:\n",
        "  print(c,b,a)"
      ],
      "execution_count": null,
      "outputs": [
        {
          "output_type": "stream",
          "name": "stdout",
          "text": [
            "输入第1个数:\n",
            "500\n",
            "输入第2个数:\n",
            "20\n",
            "输入第3个数:\n",
            "30\n",
            "20 30 500\n"
          ]
        }
      ]
    },
    {
      "cell_type": "code",
      "metadata": {
        "colab": {
          "base_uri": "https://localhost:8080/"
        },
        "id": "aHmEwV3icCZm",
        "outputId": "7b85bca5-9250-4a95-f828-dc8691183105"
      },
      "source": [
        "raw=[]\n",
        "for i in range(3):\n",
        "  x=int(input(\"输入的数为:\\n\" ))\n",
        "  raw.append(x)\n",
        "print(sorted(raw))"
      ],
      "execution_count": null,
      "outputs": [
        {
          "output_type": "stream",
          "name": "stdout",
          "text": [
            "输入的数为:\n",
            "11\n",
            "输入的数为:\n",
            "25\n",
            "输入的数为:\n",
            "9\n",
            "[9, 11, 25]\n"
          ]
        }
      ]
    },
    {
      "cell_type": "code",
      "metadata": {
        "colab": {
          "base_uri": "https://localhost:8080/"
        },
        "id": "YHGiMJpr6emw",
        "outputId": "60ac7f09-d827-4e11-d51c-074fcb9012b1"
      },
      "source": [
        "n=int(input(\"输入的数为：\"))\n",
        "for i in range(1,n):\n",
        "  b=i+1\n",
        "  a=b+i\n",
        "  #i=i+1\n",
        "  print(a)"
      ],
      "execution_count": null,
      "outputs": [
        {
          "output_type": "stream",
          "name": "stdout",
          "text": [
            "输入的数为：12\n",
            "3\n",
            "5\n",
            "7\n",
            "9\n",
            "11\n",
            "13\n",
            "15\n",
            "17\n",
            "19\n",
            "21\n",
            "23\n"
          ]
        }
      ]
    },
    {
      "cell_type": "code",
      "metadata": {
        "colab": {
          "base_uri": "https://localhost:8080/"
        },
        "id": "YwJYHPeo86Y2",
        "outputId": "dcdc7a4a-8ff6-40f9-c6ac-45f90ad6f270"
      },
      "source": [
        "raw=[]\n",
        "for i in range(3):\n",
        "  x=input()\n",
        "  raw.append(x)\n",
        "\n",
        "print(raw)\n",
        "b=raw\n",
        "print(b)\n",
        "c=raw[:]\n",
        "print(c)"
      ],
      "execution_count": null,
      "outputs": [
        {
          "output_type": "stream",
          "name": "stdout",
          "text": [
            "2\n",
            "3\n",
            "1\n",
            "['2', '3', '1']\n",
            "['2', '3', '1']\n",
            "['2', '3', '1']\n"
          ]
        }
      ]
    },
    {
      "cell_type": "code",
      "metadata": {
        "colab": {
          "base_uri": "https://localhost:8080/"
        },
        "id": "06nh1uo9-1Ke",
        "outputId": "988ee37d-7795-4af7-e82d-df696d2a175c"
      },
      "source": [
        "for i in range(1,10):\n",
        "  for j in range(1,i+1):\n",
        "    print(\"%dX%d=%d\\t\" %(j,i,i*j),end='')\n",
        "  print(\"\\n\")"
      ],
      "execution_count": 9,
      "outputs": [
        {
          "output_type": "stream",
          "name": "stdout",
          "text": [
            "1X1=1\t\n",
            "\n",
            "1X2=2\t2X2=4\t\n",
            "\n",
            "1X3=3\t2X3=6\t3X3=9\t\n",
            "\n",
            "1X4=4\t2X4=8\t3X4=12\t4X4=16\t\n",
            "\n",
            "1X5=5\t2X5=10\t3X5=15\t4X5=20\t5X5=25\t\n",
            "\n",
            "1X6=6\t2X6=12\t3X6=18\t4X6=24\t5X6=30\t6X6=36\t\n",
            "\n",
            "1X7=7\t2X7=14\t3X7=21\t4X7=28\t5X7=35\t6X7=42\t7X7=49\t\n",
            "\n",
            "1X8=8\t2X8=16\t3X8=24\t4X8=32\t5X8=40\t6X8=48\t7X8=56\t8X8=64\t\n",
            "\n",
            "1X9=9\t2X9=18\t3X9=27\t4X9=36\t5X9=45\t6X9=54\t7X9=63\t8X9=72\t9X9=81\t\n",
            "\n"
          ]
        }
      ]
    },
    {
      "cell_type": "code",
      "metadata": {
        "colab": {
          "base_uri": "https://localhost:8080/"
        },
        "id": "RUstaeXqOv-9",
        "outputId": "7012614a-6bbc-4509-8801-af955e780914"
      },
      "source": [
        "tuzi_1=1\n",
        "tuzi_2=0\n",
        "tuzi_3=0\n",
        "tuzi_ender=0\n",
        "month=int(input(\"繁殖的月份数为：\"))\n",
        "for i in range(month):\n",
        "  #tuzi_1=tuzi_ender+tuzi_3\n",
        "  #tuzi_2=tuzi_1\n",
        "  #tuzi_3=tuzi_2\n",
        "  #tuzi_ender=tuzi_ender+tuzi_3 平衡加法和顺序加法的区别\n",
        "  tuzi_1,tuzi_2,tuzi_3,tuzi_ender=tuzi_ender+tuzi_3,tuzi_1,tuzi_2,tuzi_ender+tuzi_3\n",
        "print(\"第%d个月共:\"%(i+1),tuzi_1+tuzi_2+tuzi_3+tuzi_ender,\"对兔子\")\n",
        "print(\"其中1月兔有：\",tuzi_1)\n",
        "print(\"其中2月兔有：\",tuzi_2)\n",
        "print(\"其中3月兔有：\",tuzi_3)\n",
        "print(\"其中4月兔有：\",tuzi_ender)\n",
        "\n"
      ],
      "execution_count": 15,
      "outputs": [
        {
          "output_type": "stream",
          "name": "stdout",
          "text": [
            "繁殖的月份数为：100\n",
            "第100个月共: 24382819596721629 对兔子\n",
            "其中1月兔有： 7745743850155768\n",
            "其中2月兔有： 5285136390291172\n",
            "其中3月兔有： 3606195506118921\n",
            "其中4月兔有： 7745743850155768\n"
          ]
        }
      ]
    },
    {
      "cell_type": "code",
      "metadata": {
        "id": "9CrpMqnCY5a3"
      },
      "source": [
        "\n",
        "#j=int (200**0.5) #跳出循环的用法\n",
        "\n",
        "for i in range(101,200):\n",
        "  flag=0\n",
        "  for j in range(2,int (200**0.5)):\n",
        "    if i%j==0:\n",
        "      flag=1\n",
        "      break\n",
        "  if flag:\n",
        "    continue\n",
        "  print(i)"
      ],
      "execution_count": null,
      "outputs": []
    },
    {
      "cell_type": "code",
      "metadata": {
        "colab": {
          "base_uri": "https://localhost:8080/"
        },
        "id": "tR20XkUm2unB",
        "outputId": "3e3cf967-f21e-41d3-97ad-44f191408805"
      },
      "source": [
        "for i in range(101,200):\n",
        "  \n",
        "  for j in range(2,int (200**0.5)):\n",
        "    if i%j==0:\n",
        "      \n",
        "      break\n",
        "  else:\n",
        "    print(i)"
      ],
      "execution_count": 9,
      "outputs": [
        {
          "output_type": "stream",
          "name": "stdout",
          "text": [
            "101\n",
            "103\n",
            "107\n",
            "109\n",
            "113\n",
            "127\n",
            "131\n",
            "137\n",
            "139\n",
            "149\n",
            "151\n",
            "157\n",
            "163\n",
            "167\n",
            "173\n",
            "179\n",
            "181\n",
            "191\n",
            "193\n",
            "197\n",
            "199\n"
          ]
        }
      ]
    },
    {
      "cell_type": "code",
      "metadata": {
        "colab": {
          "base_uri": "https://localhost:8080/"
        },
        "id": "FiDChpms3MJy",
        "outputId": "d5fc23c6-db12-4a2c-fbf8-6c96200e7992"
      },
      "source": [
        "for i in range(100,1000):\n",
        "  x=i//100\n",
        "  y=(i//10)%10\n",
        "  z=i%10\n",
        "  if x**3+y**3+z**3==i :\n",
        "    print(i)\n"
      ],
      "execution_count": 12,
      "outputs": [
        {
          "output_type": "stream",
          "name": "stdout",
          "text": [
            "153\n",
            "370\n",
            "371\n",
            "407\n"
          ]
        }
      ]
    }
  ]
}