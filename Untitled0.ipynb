{
  "nbformat": 4,
  "nbformat_minor": 0,
  "metadata": {
    "colab": {
      "name": "Untitled0.ipynb",
      "provenance": [],
      "collapsed_sections": [
        "GEAg8VyDKSQ3"
      ],
      "toc_visible": true,
      "authorship_tag": "ABX9TyMwm2ks08e6Mn1cbzmxfjf7",
      "include_colab_link": true
    },
    "kernelspec": {
      "name": "python3",
      "display_name": "Python 3"
    },
    "language_info": {
      "name": "python"
    }
  },
  "cells": [
    {
      "cell_type": "markdown",
      "metadata": {
        "id": "view-in-github",
        "colab_type": "text"
      },
      "source": [
        "<a href=\"https://colab.research.google.com/github/ycy0214179/demo/blob/main/Untitled0.ipynb\" target=\"_parent\"><img src=\"https://colab.research.google.com/assets/colab-badge.svg\" alt=\"Open In Colab\"/></a>"
      ]
    },
    {
      "cell_type": "markdown",
      "metadata": {
        "id": "GEAg8VyDKSQ3"
      },
      "source": [
        "#第一章"
      ]
    },
    {
      "cell_type": "code",
      "metadata": {
        "colab": {
          "base_uri": "https://localhost:8080/",
          "height": 35
        },
        "id": "rl-j81Mdagbp",
        "outputId": "483e990a-bf72-42de-942e-56a53b93cbad"
      },
      "source": [
        "\"Hello World. You will never see it\""
      ],
      "execution_count": null,
      "outputs": [
        {
          "output_type": "execute_result",
          "data": {
            "application/vnd.google.colaboratory.intrinsic+json": {
              "type": "string"
            },
            "text/plain": [
              "'Hello World. You will never see it'"
            ]
          },
          "metadata": {},
          "execution_count": 3
        }
      ]
    },
    {
      "cell_type": "code",
      "metadata": {
        "colab": {
          "base_uri": "https://localhost:8080/",
          "height": 0
        },
        "id": "AduJj3ly1H2z",
        "outputId": "7ed3d33f-a35b-43f3-f321-255251a12b9c"
      },
      "source": [
        "\"This text really won do anything this text do something \""
      ],
      "execution_count": 8,
      "outputs": [
        {
          "output_type": "execute_result",
          "data": {
            "application/vnd.google.colaboratory.intrinsic+json": {
              "type": "string"
            },
            "text/plain": [
              "'This text really won do anything this text do something '"
            ]
          },
          "metadata": {},
          "execution_count": 8
        }
      ]
    },
    {
      "cell_type": "code",
      "metadata": {
        "colab": {
          "base_uri": "https://localhost:8080/",
          "height": 0
        },
        "id": "58ahmi-f2Prt",
        "outputId": "ce35e69c-00ba-4e0c-9d4a-9236e859777d"
      },
      "source": [
        "\"This text really won do anything this text do something \""
      ],
      "execution_count": 10,
      "outputs": [
        {
          "output_type": "execute_result",
          "data": {
            "application/vnd.google.colaboratory.intrinsic+json": {
              "type": "string"
            },
            "text/plain": [
              "'This text really won do anything this text do something '"
            ]
          },
          "metadata": {},
          "execution_count": 10
        }
      ]
    },
    {
      "cell_type": "code",
      "metadata": {
        "colab": {
          "base_uri": "https://localhost:8080/",
          "height": 35
        },
        "id": "CmeVdkHA3cua",
        "outputId": "483e990a-bf72-42de-942e-56a53b93cbad"
      },
      "source": [
        "\"Hello World. You will never see it\""
      ],
      "execution_count": null,
      "outputs": [
        {
          "output_type": "execute_result",
          "data": {
            "application/vnd.google.colaboratory.intrinsic+json": {
              "type": "string"
            },
            "text/plain": [
              "'Hello World. You will never see it'"
            ]
          },
          "metadata": {},
          "execution_count": 3
        }
      ]
    },
    {
      "cell_type": "code",
      "metadata": {
        "colab": {
          "base_uri": "https://localhost:8080/",
          "height": 0
        },
        "id": "PZ7GAfJv31MB",
        "outputId": "9a61239b-72e9-4295-aba6-ae82ead18bf2"
      },
      "source": [
        "'hello'"
      ],
      "execution_count": 11,
      "outputs": [
        {
          "output_type": "execute_result",
          "data": {
            "application/vnd.google.colaboratory.intrinsic+json": {
              "type": "string"
            },
            "text/plain": [
              "'hello'"
            ]
          },
          "metadata": {},
          "execution_count": 11
        }
      ]
    },
    {
      "cell_type": "code",
      "metadata": {
        "colab": {
          "base_uri": "https://localhost:8080/",
          "height": 0
        },
        "id": "O4NokasI35jS",
        "outputId": "8558fbb5-2d62-42c2-a8bb-085ab87d3caa"
      },
      "source": [
        "\"\"\"hello\n",
        "look at \"\"\""
      ],
      "execution_count": 12,
      "outputs": [
        {
          "output_type": "execute_result",
          "data": {
            "application/vnd.google.colaboratory.intrinsic+json": {
              "type": "string"
            },
            "text/plain": [
              "'hello\\nlook at '"
            ]
          },
          "metadata": {},
          "execution_count": 12
        }
      ]
    },
    {
      "cell_type": "code",
      "metadata": {
        "colab": {
          "base_uri": "https://localhost:8080/"
        },
        "id": "7PPeprkz6v5c",
        "outputId": "a395d208-0bcd-411f-fc95-72bee09dee82"
      },
      "source": [
        "print(\"hello World\")\n"
      ],
      "execution_count": 13,
      "outputs": [
        {
          "output_type": "stream",
          "name": "stdout",
          "text": [
            "hello World\n"
          ]
        }
      ]
    },
    {
      "cell_type": "code",
      "metadata": {
        "colab": {
          "base_uri": "https://localhost:8080/"
        },
        "id": "gLzxQ1TB7PiU",
        "outputId": "87812790-6be6-4c54-f4d6-1381f5f60cf0"
      },
      "source": [
        "print('This is a string using a single quote!')"
      ],
      "execution_count": 15,
      "outputs": [
        {
          "output_type": "stream",
          "name": "stdout",
          "text": [
            "This is a string using a single quote!\n"
          ]
        }
      ]
    },
    {
      "cell_type": "code",
      "metadata": {
        "colab": {
          "base_uri": "https://localhost:8080/"
        },
        "id": "NBP-obVR7hIs",
        "outputId": "48969fc1-2f85-486a-8a37-442558df8e9f"
      },
      "source": [
        "print(\"\"\" this is \n",
        "Look at what it can do\"\"\")"
      ],
      "execution_count": 16,
      "outputs": [
        {
          "output_type": "stream",
          "name": "stdout",
          "text": [
            " this is \n",
            "Look at what it can do\n"
          ]
        }
      ]
    },
    {
      "cell_type": "code",
      "metadata": {
        "colab": {
          "base_uri": "https://localhost:8080/"
        },
        "id": "Lknnouyp7qOD",
        "outputId": "fdd5e962-d452-45c2-a1d8-20dec64b0d35"
      },
      "source": [
        "print(\"I said, \\\"Don't do it\")"
      ],
      "execution_count": 18,
      "outputs": [
        {
          "output_type": "stream",
          "name": "stdout",
          "text": [
            "I said, \"Don't do it\n"
          ]
        }
      ]
    },
    {
      "cell_type": "code",
      "metadata": {
        "colab": {
          "base_uri": "https://localhost:8080/"
        },
        "id": "nZBe3hnr8JYD",
        "outputId": "0a7fc260-ecee-4bb0-83d3-72a9c66d2c6d"
      },
      "source": [
        "print(\"Roses are red \\n Violets are blue \\n I just do\")"
      ],
      "execution_count": 20,
      "outputs": [
        {
          "output_type": "stream",
          "name": "stdout",
          "text": [
            "Roses are red \n",
            " Violets are blue \n",
            " I just do\n"
          ]
        }
      ]
    },
    {
      "cell_type": "code",
      "metadata": {
        "colab": {
          "base_uri": "https://localhost:8080/",
          "height": 0
        },
        "id": "qZ8_yAw48mcL",
        "outputId": "1c77227c-14da-490f-9920-f0934fc21e9c"
      },
      "source": [
        "\"John\""
      ],
      "execution_count": 21,
      "outputs": [
        {
          "output_type": "execute_result",
          "data": {
            "application/vnd.google.colaboratory.intrinsic+json": {
              "type": "string"
            },
            "text/plain": [
              "'John'"
            ]
          },
          "metadata": {},
          "execution_count": 21
        }
      ]
    },
    {
      "cell_type": "code",
      "metadata": {
        "colab": {
          "base_uri": "https://localhost:8080/",
          "height": 0
        },
        "id": "mvQHxV-C8p-k",
        "outputId": "ccb6d1b9-aa51-4ce7-8560-947d408ff353"
      },
      "source": [
        "\"John\"\"Everyman\""
      ],
      "execution_count": 22,
      "outputs": [
        {
          "output_type": "execute_result",
          "data": {
            "application/vnd.google.colaboratory.intrinsic+json": {
              "type": "string"
            },
            "text/plain": [
              "'JohnEveryman'"
            ]
          },
          "metadata": {},
          "execution_count": 22
        }
      ]
    },
    {
      "cell_type": "code",
      "metadata": {
        "colab": {
          "base_uri": "https://localhost:8080/",
          "height": 0
        },
        "id": "Cb0BOn_a8w_T",
        "outputId": "ec1f3f0f-ac04-4c43-a296-b6b8138c9268"
      },
      "source": [
        "\"John \"+\"Everyman\""
      ],
      "execution_count": 24,
      "outputs": [
        {
          "output_type": "execute_result",
          "data": {
            "application/vnd.google.colaboratory.intrinsic+json": {
              "type": "string"
            },
            "text/plain": [
              "'John Everyman'"
            ]
          },
          "metadata": {},
          "execution_count": 24
        }
      ]
    },
    {
      "cell_type": "code",
      "metadata": {
        "colab": {
          "base_uri": "https://localhost:8080/",
          "height": 0
        },
        "id": "t_wom-FQ8_DE",
        "outputId": "a8a60096-47f3-4d38-dc04-b102c0749e3c"
      },
      "source": [
        "\"John\"+\" \"+ \"Everyman\""
      ],
      "execution_count": 25,
      "outputs": [
        {
          "output_type": "execute_result",
          "data": {
            "application/vnd.google.colaboratory.intrinsic+json": {
              "type": "string"
            },
            "text/plain": [
              "'John Everyman'"
            ]
          },
          "metadata": {},
          "execution_count": 25
        }
      ]
    },
    {
      "cell_type": "code",
      "metadata": {
        "colab": {
          "base_uri": "https://localhost:8080/"
        },
        "id": "Iqdfxo5z9OKU",
        "outputId": "a74706fe-bf8d-42c2-f797-1b4bb0077329"
      },
      "source": [
        "print(\"John\",\"Everyman\")"
      ],
      "execution_count": 26,
      "outputs": [
        {
          "output_type": "stream",
          "name": "stdout",
          "text": [
            "John Everyman\n"
          ]
        }
      ]
    },
    {
      "cell_type": "code",
      "metadata": {
        "colab": {
          "base_uri": "https://localhost:8080/",
          "height": 0
        },
        "id": "BaTx7mNEG_Mm",
        "outputId": "c7de10ad-1581-4ffe-edc9-39c3806a65bd"
      },
      "source": [
        "\"John Q. %s\" %(\"Public\")"
      ],
      "execution_count": 27,
      "outputs": [
        {
          "output_type": "execute_result",
          "data": {
            "application/vnd.google.colaboratory.intrinsic+json": {
              "type": "string"
            },
            "text/plain": [
              "'John Q. Public'"
            ]
          },
          "metadata": {},
          "execution_count": 27
        }
      ]
    },
    {
      "cell_type": "code",
      "metadata": {
        "colab": {
          "base_uri": "https://localhost:8080/",
          "height": 35
        },
        "id": "Lxk4I900HcJB",
        "outputId": "c7de10ad-1581-4ffe-edc9-39c3806a65bd"
      },
      "source": [
        "\"John Q. %s\" %(\"Public\")"
      ],
      "execution_count": null,
      "outputs": [
        {
          "output_type": "execute_result",
          "data": {
            "application/vnd.google.colaboratory.intrinsic+json": {
              "type": "string"
            },
            "text/plain": [
              "'John Q. Public'"
            ]
          },
          "metadata": {},
          "execution_count": 27
        }
      ]
    },
    {
      "cell_type": "code",
      "metadata": {
        "colab": {
          "base_uri": "https://localhost:8080/",
          "height": 0
        },
        "id": "F_DytAzfHgYk",
        "outputId": "4b526b49-a120-452d-b9be-a6065ea58bdf"
      },
      "source": [
        "\"John Q. %s%s\" %(\"Public\",\"Man\")"
      ],
      "execution_count": 28,
      "outputs": [
        {
          "output_type": "execute_result",
          "data": {
            "application/vnd.google.colaboratory.intrinsic+json": {
              "type": "string"
            },
            "text/plain": [
              "'John Q. PublicMan'"
            ]
          },
          "metadata": {},
          "execution_count": 28
        }
      ]
    },
    {
      "cell_type": "code",
      "metadata": {
        "colab": {
          "base_uri": "https://localhost:8080/",
          "height": 0
        },
        "id": "5YxCw2zMHxn9",
        "outputId": "eb857539-1c52-4d00-da1a-aadd3a2dfb09"
      },
      "source": [
        "\"%s %s %10s\" %(\"John\", \"Every\" , \"Man\")"
      ],
      "execution_count": 29,
      "outputs": [
        {
          "output_type": "execute_result",
          "data": {
            "application/vnd.google.colaboratory.intrinsic+json": {
              "type": "string"
            },
            "text/plain": [
              "'John Every        Man'"
            ]
          },
          "metadata": {},
          "execution_count": 29
        }
      ]
    },
    {
      "cell_type": "code",
      "metadata": {
        "colab": {
          "base_uri": "https://localhost:8080/",
          "height": 0
        },
        "id": "i0ROKNP6ICKh",
        "outputId": "d210f120-d190-4122-e23b-a393c5a24b60"
      },
      "source": [
        "\"%s %15s %10s\" %(\"John\", \"Every\" , \"Man\")"
      ],
      "execution_count": 31,
      "outputs": [
        {
          "output_type": "execute_result",
          "data": {
            "application/vnd.google.colaboratory.intrinsic+json": {
              "type": "string"
            },
            "text/plain": [
              "'John           Every        Man'"
            ]
          },
          "metadata": {},
          "execution_count": 31
        }
      ]
    },
    {
      "cell_type": "code",
      "metadata": {
        "colab": {
          "base_uri": "https://localhost:8080/",
          "height": 0
        },
        "id": "N_2wLD-0IfSu",
        "outputId": "d1e95b7d-6045-40b8-db00-c212e2a0208e"
      },
      "source": [
        "\"Rock a by baby, \\n ton the tree top, \\t\\when the windblows\\n\\t\\t\\t the cradle will drop\""
      ],
      "execution_count": 33,
      "outputs": [
        {
          "output_type": "execute_result",
          "data": {
            "application/vnd.google.colaboratory.intrinsic+json": {
              "type": "string"
            },
            "text/plain": [
              "'Rock a by baby, \\n ton the tree top, \\t\\\\when the windblows\\n\\t\\t\\t the cradle will drop'"
            ]
          },
          "metadata": {},
          "execution_count": 33
        }
      ]
    },
    {
      "cell_type": "code",
      "metadata": {
        "colab": {
          "base_uri": "https://localhost:8080/",
          "height": 0
        },
        "id": "9Kanc7Z1JHMu",
        "outputId": "0a5bdda8-8305-4082-c745-65b7a81aea2c"
      },
      "source": [
        "\"Rock a by baby, \\t ton\""
      ],
      "execution_count": 35,
      "outputs": [
        {
          "output_type": "execute_result",
          "data": {
            "application/vnd.google.colaboratory.intrinsic+json": {
              "type": "string"
            },
            "text/plain": [
              "'Rock a by baby, \\t ton'"
            ]
          },
          "metadata": {},
          "execution_count": 35
        }
      ]
    },
    {
      "cell_type": "code",
      "metadata": {
        "colab": {
          "base_uri": "https://localhost:8080/"
        },
        "id": "XFFkm3o5Jgce",
        "outputId": "52f8b537-6bf0-4bf9-95cb-7a4598a9cbe1"
      },
      "source": [
        "print(\"Rock a by baby, \\n ton the tree top, \\t\\when the windblows\\n\\t\\t\\t the cradle will drop\")"
      ],
      "execution_count": 36,
      "outputs": [
        {
          "output_type": "stream",
          "name": "stdout",
          "text": [
            "Rock a by baby, \n",
            " ton the tree top, \t\\when the windblows\n",
            "\t\t\t the cradle will drop\n"
          ]
        }
      ]
    },
    {
      "cell_type": "code",
      "metadata": {
        "colab": {
          "base_uri": "https://localhost:8080/"
        },
        "id": "qrO-2n8LJooW",
        "outputId": "f445db3e-7461-47b4-fbfe-f1d1a01a69ab"
      },
      "source": [
        "print(\"Rock a by baby, \\n\\t ton\")"
      ],
      "execution_count": 38,
      "outputs": [
        {
          "output_type": "stream",
          "name": "stdout",
          "text": [
            "Rock a by baby, \n",
            "\t ton\n"
          ]
        }
      ]
    },
    {
      "cell_type": "markdown",
      "metadata": {
        "id": "N4-FKyIDJ72d"
      },
      "source": [
        "# 第二章 数值与运算符"
      ]
    },
    {
      "cell_type": "code",
      "metadata": {
        "colab": {
          "base_uri": "https://localhost:8080/"
        },
        "id": "j1q0O4PrKMzF",
        "outputId": "69a520b9-075b-431c-b04f-aff75c027c50"
      },
      "source": [
        "type(1)"
      ],
      "execution_count": 39,
      "outputs": [
        {
          "output_type": "execute_result",
          "data": {
            "text/plain": [
              "int"
            ]
          },
          "metadata": {},
          "execution_count": 39
        }
      ]
    },
    {
      "cell_type": "code",
      "metadata": {
        "colab": {
          "base_uri": "https://localhost:8080/"
        },
        "id": "mSJB-hd6Kx10",
        "outputId": "3baf8c6a-fee8-4211-bef9-388e748c6082"
      },
      "source": [
        "type(1.9)   "
      ],
      "execution_count": 40,
      "outputs": [
        {
          "output_type": "execute_result",
          "data": {
            "text/plain": [
              "float"
            ]
          },
          "metadata": {},
          "execution_count": 40
        }
      ]
    },
    {
      "cell_type": "code",
      "metadata": {
        "colab": {
          "base_uri": "https://localhost:8080/"
        },
        "id": "Q2gp-zEQLGft",
        "outputId": "8d1dc439-ab0c-48aa-912d-d239c0c2546a"
      },
      "source": [
        "12j"
      ],
      "execution_count": 41,
      "outputs": [
        {
          "output_type": "execute_result",
          "data": {
            "text/plain": [
              "12j"
            ]
          },
          "metadata": {},
          "execution_count": 41
        }
      ]
    },
    {
      "cell_type": "code",
      "metadata": {
        "colab": {
          "base_uri": "https://localhost:8080/"
        },
        "id": "qcv4RfrSK7Em",
        "outputId": "013cf2da-19cb-43f9-b499-e0a6e667ba7d"
      },
      "source": [
        "12j+1"
      ],
      "execution_count": 42,
      "outputs": [
        {
          "output_type": "execute_result",
          "data": {
            "text/plain": [
              "(1+12j)"
            ]
          },
          "metadata": {},
          "execution_count": 42
        }
      ]
    },
    {
      "cell_type": "code",
      "metadata": {
        "colab": {
          "base_uri": "https://localhost:8080/"
        },
        "id": "RTqAbPWSLNIm",
        "outputId": "89f7ad7d-d1c1-4146-af2e-50d43fa5b664"
      },
      "source": [
        "type(12j+1)"
      ],
      "execution_count": 43,
      "outputs": [
        {
          "output_type": "execute_result",
          "data": {
            "text/plain": [
              "complex"
            ]
          },
          "metadata": {},
          "execution_count": 43
        }
      ]
    },
    {
      "cell_type": "markdown",
      "metadata": {
        "id": "Sh3dJZFpLbv2"
      },
      "source": [
        "print(\"this is a basic string\")\n",
        "\n",
        "\n",
        "\n",
        "\n",
        "\n",
        "\n",
        "\n"
      ]
    },
    {
      "cell_type": "code",
      "metadata": {
        "colab": {
          "base_uri": "https://localhost:8080/"
        },
        "id": "UVSBdKJgw1OO",
        "outputId": "85ad70db-ad72-4621-cc1e-00257d05724b"
      },
      "source": [
        "print(\"This is a basic string\"+ \" the plus operation\")"
      ],
      "execution_count": 3,
      "outputs": [
        {
          "output_type": "stream",
          "name": "stdout",
          "text": [
            "This is a basic string the plus operation\n"
          ]
        }
      ]
    },
    {
      "cell_type": "code",
      "metadata": {
        "colab": {
          "base_uri": "https://localhost:8080/"
        },
        "id": "UBIqSrwIymDH",
        "outputId": "bc2848f5-2930-4203-b358-538ab6641852"
      },
      "source": [
        "# 注释写在开头\n",
        "print(\"hello world\")"
      ],
      "execution_count": 1,
      "outputs": [
        {
          "output_type": "stream",
          "name": "stdout",
          "text": [
            "hello world\n"
          ]
        }
      ]
    },
    {
      "cell_type": "code",
      "metadata": {
        "colab": {
          "base_uri": "https://localhost:8080/"
        },
        "id": "AS5q6-Ztyxsu",
        "outputId": "84b6554e-34ee-408f-f313-2702bf32179c"
      },
      "source": [
        "a=12\n",
        "b=13\n",
        "c=5\n",
        "a+b\n"
      ],
      "execution_count": 5,
      "outputs": [
        {
          "output_type": "execute_result",
          "data": {
            "text/plain": [
              "25"
            ]
          },
          "metadata": {},
          "execution_count": 5
        }
      ]
    },
    {
      "cell_type": "code",
      "metadata": {
        "colab": {
          "base_uri": "https://localhost:8080/"
        },
        "id": "6vu8naUUzJ4m",
        "outputId": "c31fe323-edd8-4192-febf-eb77c066a608"
      },
      "source": [
        "a-b"
      ],
      "execution_count": 6,
      "outputs": [
        {
          "output_type": "execute_result",
          "data": {
            "text/plain": [
              "-1"
            ]
          },
          "metadata": {},
          "execution_count": 6
        }
      ]
    },
    {
      "cell_type": "code",
      "metadata": {
        "colab": {
          "base_uri": "https://localhost:8080/"
        },
        "id": "VHqF10hQzMbW",
        "outputId": "ea4e8d46-7e51-4f7a-aa37-4546a0526e40"
      },
      "source": [
        "a*b"
      ],
      "execution_count": 7,
      "outputs": [
        {
          "output_type": "execute_result",
          "data": {
            "text/plain": [
              "156"
            ]
          },
          "metadata": {},
          "execution_count": 7
        }
      ]
    },
    {
      "cell_type": "code",
      "metadata": {
        "colab": {
          "base_uri": "https://localhost:8080/"
        },
        "id": "z9xjvkA8zkPf",
        "outputId": "1e2b2d67-b39f-4cea-b55b-8b4f42a40199"
      },
      "source": [
        "world='hello world!'\n",
        "print(world)"
      ],
      "execution_count": 8,
      "outputs": [
        {
          "output_type": "stream",
          "name": "stdout",
          "text": [
            "hello world!\n"
          ]
        }
      ]
    },
    {
      "cell_type": "code",
      "metadata": {
        "colab": {
          "base_uri": "https://localhost:8080/"
        },
        "id": "rId880hnzwR3",
        "outputId": "bd16c299-5eed-4325-ad4e-ab52bc7c09ff"
      },
      "source": [
        "name='shixiaolou'\n",
        "print(name)"
      ],
      "execution_count": 9,
      "outputs": [
        {
          "output_type": "stream",
          "name": "stdout",
          "text": [
            "shixiaolou\n"
          ]
        }
      ]
    },
    {
      "cell_type": "code",
      "metadata": {
        "colab": {
          "base_uri": "https://localhost:8080/"
        },
        "id": "yL27tFi5z5lg",
        "outputId": "bd4f28a8-869a-4d26-dc3f-8a03aaaa0422"
      },
      "source": [
        "age=input('My age is:')"
      ],
      "execution_count": 10,
      "outputs": [
        {
          "name": "stdout",
          "output_type": "stream",
          "text": [
            "My age is:25\n"
          ]
        }
      ]
    },
    {
      "cell_type": "code",
      "metadata": {
        "colab": {
          "base_uri": "https://localhost:8080/"
        },
        "id": "yMxRAQ4x0Kq-",
        "outputId": "f1dbec2c-2a89-4c96-a89d-0075772d50c9"
      },
      "source": [
        "print(age)"
      ],
      "execution_count": 11,
      "outputs": [
        {
          "output_type": "stream",
          "name": "stdout",
          "text": [
            "25\n"
          ]
        }
      ]
    },
    {
      "cell_type": "code",
      "metadata": {
        "colab": {
          "base_uri": "https://localhost:8080/"
        },
        "id": "tIBWKAWV0c0f",
        "outputId": "298d87bd-5821-402b-9789-e59812f96514"
      },
      "source": [
        "ID=input('请输入你的ID')"
      ],
      "execution_count": 12,
      "outputs": [
        {
          "name": "stdout",
          "output_type": "stream",
          "text": [
            "请输入你的ID12345432\n"
          ]
        }
      ]
    },
    {
      "cell_type": "markdown",
      "metadata": {
        "id": "Girb0-si0mXH"
      },
      "source": [
        "print(ID)"
      ]
    },
    {
      "cell_type": "markdown",
      "metadata": {
        "id": "j6TrSYqX1Are"
      },
      "source": [
        "print('He said \"Today\\'s weather is good\"')"
      ]
    },
    {
      "cell_type": "code",
      "metadata": {
        "colab": {
          "base_uri": "https://localhost:8080/",
          "height": 35
        },
        "id": "oH4LXqlz1c4w",
        "outputId": "546c804c-d988-4155-90f3-3de8c9ecf9de"
      },
      "source": [
        "string='hello_shiyanlou'\n",
        "string[0]\n",
        "string[-1]"
      ],
      "execution_count": 17,
      "outputs": [
        {
          "output_type": "execute_result",
          "data": {
            "application/vnd.google.colaboratory.intrinsic+json": {
              "type": "string"
            },
            "text/plain": [
              "'u'"
            ]
          },
          "metadata": {},
          "execution_count": 17
        }
      ]
    },
    {
      "cell_type": "code",
      "metadata": {
        "colab": {
          "base_uri": "https://localhost:8080/"
        },
        "id": "0kP_Shrz2x9Q",
        "outputId": "70a34474-a616-4382-9258-aaf1da84038f"
      },
      "source": [
        "a=int(input(\"please enter a number: \"))\n",
        "if a>10:\n",
        "  print('a>10')\n",
        "elif a==10:\n",
        "  print('a==10')\n",
        "else:\n",
        "  print('a<10')"
      ],
      "execution_count": 20,
      "outputs": [
        {
          "output_type": "stream",
          "name": "stdout",
          "text": [
            "please enter a number: 10\n",
            "a==10\n"
          ]
        }
      ]
    },
    {
      "cell_type": "code",
      "metadata": {
        "colab": {
          "base_uri": "https://localhost:8080/"
        },
        "id": "NZuI4Osd4LI_",
        "outputId": "efcb2906-4802-4109-d3c4-b4f2f17b44ba"
      },
      "source": [
        "namelist=['a','b','c','d','d','f','g','h','i','j']\n",
        "for i in namelist:\n",
        "  print(i)"
      ],
      "execution_count": 21,
      "outputs": [
        {
          "output_type": "stream",
          "name": "stdout",
          "text": [
            "a\n",
            "b\n",
            "c\n",
            "d\n",
            "d\n",
            "f\n",
            "g\n",
            "h\n",
            "i\n",
            "j\n"
          ]
        }
      ]
    },
    {
      "cell_type": "code",
      "metadata": {
        "colab": {
          "base_uri": "https://localhost:8080/"
        },
        "id": "Y0M5zUYR4nW_",
        "outputId": "0d069478-7568-4aa9-fde9-dd0b5939bd89"
      },
      "source": [
        "for a in range(20):\n",
        "  print(a)"
      ],
      "execution_count": 25,
      "outputs": [
        {
          "output_type": "stream",
          "name": "stdout",
          "text": [
            "0\n",
            "1\n",
            "2\n",
            "3\n",
            "4\n",
            "5\n",
            "6\n",
            "7\n",
            "8\n",
            "9\n",
            "10\n",
            "11\n",
            "12\n",
            "13\n",
            "14\n",
            "15\n",
            "16\n",
            "17\n",
            "18\n",
            "19\n"
          ]
        }
      ]
    },
    {
      "cell_type": "code",
      "metadata": {
        "colab": {
          "base_uri": "https://localhost:8080/"
        },
        "id": "O3F5dCFk46bf",
        "outputId": "5e5805d9-089e-4c0d-ad7f-c1470a2c38be"
      },
      "source": [
        "for a in range(1,11):\n",
        "  print(a)"
      ],
      "execution_count": 26,
      "outputs": [
        {
          "output_type": "stream",
          "name": "stdout",
          "text": [
            "1\n",
            "2\n",
            "3\n",
            "4\n",
            "5\n",
            "6\n",
            "7\n",
            "8\n",
            "9\n",
            "10\n"
          ]
        }
      ]
    },
    {
      "cell_type": "code",
      "metadata": {
        "colab": {
          "base_uri": "https://localhost:8080/"
        },
        "id": "kJJ0dqDv5F3v",
        "outputId": "b483cf98-5cfc-4927-81c6-66e8ca7d0f61"
      },
      "source": [
        "for i in range(1,11):\n",
        "  print('书恒走的第{}天，想他' .format(i))"
      ],
      "execution_count": 28,
      "outputs": [
        {
          "output_type": "stream",
          "name": "stdout",
          "text": [
            "书恒走的第1天，想他\n",
            "书恒走的第2天，想他\n",
            "书恒走的第3天，想他\n",
            "书恒走的第4天，想他\n",
            "书恒走的第5天，想他\n",
            "书恒走的第6天，想他\n",
            "书恒走的第7天，想他\n",
            "书恒走的第8天，想他\n",
            "书恒走的第9天，想他\n",
            "书恒走的第10天，想他\n"
          ]
        }
      ]
    },
    {
      "cell_type": "code",
      "metadata": {
        "colab": {
          "base_uri": "https://localhost:8080/"
        },
        "id": "Nide4PkT7GM5",
        "outputId": "798c71e5-f42d-4797-a615-b1d05c857390"
      },
      "source": [
        "a=1\n",
        "while a<=10:\n",
        "  print(a)\n",
        "  a=a+1"
      ],
      "execution_count": 30,
      "outputs": [
        {
          "output_type": "stream",
          "name": "stdout",
          "text": [
            "1\n",
            "2\n",
            "3\n",
            "4\n",
            "5\n",
            "6\n",
            "7\n",
            "8\n",
            "9\n",
            "10\n"
          ]
        }
      ]
    },
    {
      "cell_type": "code",
      "metadata": {
        "colab": {
          "base_uri": "https://localhost:8080/"
        },
        "id": "OAHS4zuV7mY_",
        "outputId": "e2dec7b8-daa0-43c8-c25e-a6f2b7018508"
      },
      "source": [
        "for a in range(10):\n",
        "  if(a==5):\n",
        "    continue\n",
        "  print(a)"
      ],
      "execution_count": 33,
      "outputs": [
        {
          "output_type": "stream",
          "name": "stdout",
          "text": [
            "0\n",
            "1\n",
            "2\n",
            "3\n",
            "4\n",
            "6\n",
            "7\n",
            "8\n",
            "9\n"
          ]
        }
      ]
    },
    {
      "cell_type": "code",
      "metadata": {
        "colab": {
          "base_uri": "https://localhost:8080/"
        },
        "id": "Nan8K8GG8cNw",
        "outputId": "e3f9f104-b850-4569-916e-52382dc9e9d1"
      },
      "source": [
        "for i in range(1,101):\n",
        "  if(i%7==0) or i%10==7 or i//10==7:\n",
        "    continue\n",
        "  #elif(i%10==7):\n",
        "  #  continue\n",
        "  #elif(i//10==7)\n",
        "  #  continue\n",
        "  print(i)"
      ],
      "execution_count": 40,
      "outputs": [
        {
          "output_type": "stream",
          "name": "stdout",
          "text": [
            "1\n",
            "2\n",
            "3\n",
            "4\n",
            "5\n",
            "6\n",
            "8\n",
            "9\n",
            "10\n",
            "11\n",
            "12\n",
            "13\n",
            "15\n",
            "16\n",
            "18\n",
            "19\n",
            "20\n",
            "22\n",
            "23\n",
            "24\n",
            "25\n",
            "26\n",
            "29\n",
            "30\n",
            "31\n",
            "32\n",
            "33\n",
            "34\n",
            "36\n",
            "38\n",
            "39\n",
            "40\n",
            "41\n",
            "43\n",
            "44\n",
            "45\n",
            "46\n",
            "48\n",
            "50\n",
            "51\n",
            "52\n",
            "53\n",
            "54\n",
            "55\n",
            "58\n",
            "59\n",
            "60\n",
            "61\n",
            "62\n",
            "64\n",
            "65\n",
            "66\n",
            "68\n",
            "69\n",
            "80\n",
            "81\n",
            "82\n",
            "83\n",
            "85\n",
            "86\n",
            "88\n",
            "89\n",
            "90\n",
            "92\n",
            "93\n",
            "94\n",
            "95\n",
            "96\n",
            "99\n",
            "100\n"
          ]
        }
      ]
    },
    {
      "cell_type": "code",
      "metadata": {
        "colab": {
          "base_uri": "https://localhost:8080/"
        },
        "id": "-uQ8QkH_-SrI",
        "outputId": "7ea4d16c-e960-4326-c4d9-48c44ddcd6f2"
      },
      "source": [
        "a=0\n",
        "while a<100:\n",
        "  a=a+1\n",
        "  if a%7==0 or a%10==7 or a//10==7 :\n",
        "    continue\n",
        "  print(a)"
      ],
      "execution_count": 50,
      "outputs": [
        {
          "output_type": "stream",
          "name": "stdout",
          "text": [
            "1\n",
            "2\n",
            "3\n",
            "4\n",
            "5\n",
            "6\n",
            "8\n",
            "9\n",
            "10\n",
            "11\n",
            "12\n",
            "13\n",
            "15\n",
            "16\n",
            "18\n",
            "19\n",
            "20\n",
            "22\n",
            "23\n",
            "24\n",
            "25\n",
            "26\n",
            "29\n",
            "30\n",
            "31\n",
            "32\n",
            "33\n",
            "34\n",
            "36\n",
            "38\n",
            "39\n",
            "40\n",
            "41\n",
            "43\n",
            "44\n",
            "45\n",
            "46\n",
            "48\n",
            "50\n",
            "51\n",
            "52\n",
            "53\n",
            "54\n",
            "55\n",
            "58\n",
            "59\n",
            "60\n",
            "61\n",
            "62\n",
            "64\n",
            "65\n",
            "66\n",
            "68\n",
            "69\n",
            "80\n",
            "81\n",
            "82\n",
            "83\n",
            "85\n",
            "86\n",
            "88\n",
            "89\n",
            "90\n",
            "92\n",
            "93\n",
            "94\n",
            "95\n",
            "96\n",
            "99\n",
            "100\n"
          ]
        }
      ]
    }
  ]
}