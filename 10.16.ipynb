{
  "nbformat": 4,
  "nbformat_minor": 0,
  "metadata": {
    "colab": {
      "name": "Untitled0.ipynb",
      "provenance": [],
      "collapsed_sections": [
        "N4-FKyIDJ72d"
      ],
      "toc_visible": true,
      "authorship_tag": "ABX9TyNXXSEepcVaOfuAWMacmJIs",
      "include_colab_link": true
    },
    "kernelspec": {
      "name": "python3",
      "display_name": "Python 3"
    },
    "language_info": {
      "name": "python"
    }
  },
  "cells": [
    {
      "cell_type": "markdown",
      "metadata": {
        "id": "view-in-github",
        "colab_type": "text"
      },
      "source": [
        "<a href=\"https://colab.research.google.com/github/ycy0214179/demo/blob/main/10.16.ipynb\" target=\"_parent\"><img src=\"https://colab.research.google.com/assets/colab-badge.svg\" alt=\"Open In Colab\"/></a>"
      ]
    },
    {
      "cell_type": "markdown",
      "metadata": {
        "id": "GEAg8VyDKSQ3"
      },
      "source": [
        "#第一章"
      ]
    },
    {
      "cell_type": "code",
      "metadata": {
        "colab": {
          "base_uri": "https://localhost:8080/",
          "height": 35
        },
        "id": "rl-j81Mdagbp",
        "outputId": "483e990a-bf72-42de-942e-56a53b93cbad"
      },
      "source": [
        "\"Hello World. You will never see it\""
      ],
      "execution_count": null,
      "outputs": [
        {
          "output_type": "execute_result",
          "data": {
            "application/vnd.google.colaboratory.intrinsic+json": {
              "type": "string"
            },
            "text/plain": [
              "'Hello World. You will never see it'"
            ]
          },
          "metadata": {},
          "execution_count": 3
        }
      ]
    },
    {
      "cell_type": "code",
      "metadata": {
        "colab": {
          "base_uri": "https://localhost:8080/"
        },
        "id": "AduJj3ly1H2z",
        "outputId": "7ed3d33f-a35b-43f3-f321-255251a12b9c"
      },
      "source": [
        "\"This text really won do anything this text do something \""
      ],
      "execution_count": null,
      "outputs": [
        {
          "output_type": "execute_result",
          "data": {
            "application/vnd.google.colaboratory.intrinsic+json": {
              "type": "string"
            },
            "text/plain": [
              "'This text really won do anything this text do something '"
            ]
          },
          "metadata": {},
          "execution_count": 8
        }
      ]
    },
    {
      "cell_type": "code",
      "metadata": {
        "colab": {
          "base_uri": "https://localhost:8080/"
        },
        "id": "58ahmi-f2Prt",
        "outputId": "ce35e69c-00ba-4e0c-9d4a-9236e859777d"
      },
      "source": [
        "\"This text really won do anything this text do something \""
      ],
      "execution_count": null,
      "outputs": [
        {
          "output_type": "execute_result",
          "data": {
            "application/vnd.google.colaboratory.intrinsic+json": {
              "type": "string"
            },
            "text/plain": [
              "'This text really won do anything this text do something '"
            ]
          },
          "metadata": {},
          "execution_count": 10
        }
      ]
    },
    {
      "cell_type": "code",
      "metadata": {
        "colab": {
          "base_uri": "https://localhost:8080/",
          "height": 35
        },
        "id": "CmeVdkHA3cua",
        "outputId": "483e990a-bf72-42de-942e-56a53b93cbad"
      },
      "source": [
        "\"Hello World. You will never see it\""
      ],
      "execution_count": null,
      "outputs": [
        {
          "output_type": "execute_result",
          "data": {
            "application/vnd.google.colaboratory.intrinsic+json": {
              "type": "string"
            },
            "text/plain": [
              "'Hello World. You will never see it'"
            ]
          },
          "metadata": {},
          "execution_count": 3
        }
      ]
    },
    {
      "cell_type": "code",
      "metadata": {
        "colab": {
          "base_uri": "https://localhost:8080/"
        },
        "id": "PZ7GAfJv31MB",
        "outputId": "9a61239b-72e9-4295-aba6-ae82ead18bf2"
      },
      "source": [
        "'hello'"
      ],
      "execution_count": null,
      "outputs": [
        {
          "output_type": "execute_result",
          "data": {
            "application/vnd.google.colaboratory.intrinsic+json": {
              "type": "string"
            },
            "text/plain": [
              "'hello'"
            ]
          },
          "metadata": {},
          "execution_count": 11
        }
      ]
    },
    {
      "cell_type": "code",
      "metadata": {
        "colab": {
          "base_uri": "https://localhost:8080/"
        },
        "id": "O4NokasI35jS",
        "outputId": "8558fbb5-2d62-42c2-a8bb-085ab87d3caa"
      },
      "source": [
        "\"\"\"hello\n",
        "look at \"\"\""
      ],
      "execution_count": null,
      "outputs": [
        {
          "output_type": "execute_result",
          "data": {
            "application/vnd.google.colaboratory.intrinsic+json": {
              "type": "string"
            },
            "text/plain": [
              "'hello\\nlook at '"
            ]
          },
          "metadata": {},
          "execution_count": 12
        }
      ]
    },
    {
      "cell_type": "code",
      "metadata": {
        "colab": {
          "base_uri": "https://localhost:8080/"
        },
        "id": "7PPeprkz6v5c",
        "outputId": "a395d208-0bcd-411f-fc95-72bee09dee82"
      },
      "source": [
        "print(\"hello World\")\n"
      ],
      "execution_count": null,
      "outputs": [
        {
          "output_type": "stream",
          "name": "stdout",
          "text": [
            "hello World\n"
          ]
        }
      ]
    },
    {
      "cell_type": "code",
      "metadata": {
        "colab": {
          "base_uri": "https://localhost:8080/"
        },
        "id": "gLzxQ1TB7PiU",
        "outputId": "87812790-6be6-4c54-f4d6-1381f5f60cf0"
      },
      "source": [
        "print('This is a string using a single quote!')"
      ],
      "execution_count": null,
      "outputs": [
        {
          "output_type": "stream",
          "name": "stdout",
          "text": [
            "This is a string using a single quote!\n"
          ]
        }
      ]
    },
    {
      "cell_type": "code",
      "metadata": {
        "colab": {
          "base_uri": "https://localhost:8080/"
        },
        "id": "NBP-obVR7hIs",
        "outputId": "48969fc1-2f85-486a-8a37-442558df8e9f"
      },
      "source": [
        "print(\"\"\" this is \n",
        "Look at what it can do\"\"\")"
      ],
      "execution_count": null,
      "outputs": [
        {
          "output_type": "stream",
          "name": "stdout",
          "text": [
            " this is \n",
            "Look at what it can do\n"
          ]
        }
      ]
    },
    {
      "cell_type": "code",
      "metadata": {
        "colab": {
          "base_uri": "https://localhost:8080/"
        },
        "id": "Lknnouyp7qOD",
        "outputId": "fdd5e962-d452-45c2-a1d8-20dec64b0d35"
      },
      "source": [
        "print(\"I said, \\\"Don't do it\")"
      ],
      "execution_count": null,
      "outputs": [
        {
          "output_type": "stream",
          "name": "stdout",
          "text": [
            "I said, \"Don't do it\n"
          ]
        }
      ]
    },
    {
      "cell_type": "code",
      "metadata": {
        "colab": {
          "base_uri": "https://localhost:8080/"
        },
        "id": "nZBe3hnr8JYD",
        "outputId": "0a7fc260-ecee-4bb0-83d3-72a9c66d2c6d"
      },
      "source": [
        "print(\"Roses are red \\n Violets are blue \\n I just do\")"
      ],
      "execution_count": null,
      "outputs": [
        {
          "output_type": "stream",
          "name": "stdout",
          "text": [
            "Roses are red \n",
            " Violets are blue \n",
            " I just do\n"
          ]
        }
      ]
    },
    {
      "cell_type": "code",
      "metadata": {
        "colab": {
          "base_uri": "https://localhost:8080/"
        },
        "id": "qZ8_yAw48mcL",
        "outputId": "1c77227c-14da-490f-9920-f0934fc21e9c"
      },
      "source": [
        "\"John\""
      ],
      "execution_count": null,
      "outputs": [
        {
          "output_type": "execute_result",
          "data": {
            "application/vnd.google.colaboratory.intrinsic+json": {
              "type": "string"
            },
            "text/plain": [
              "'John'"
            ]
          },
          "metadata": {},
          "execution_count": 21
        }
      ]
    },
    {
      "cell_type": "code",
      "metadata": {
        "colab": {
          "base_uri": "https://localhost:8080/"
        },
        "id": "mvQHxV-C8p-k",
        "outputId": "ccb6d1b9-aa51-4ce7-8560-947d408ff353"
      },
      "source": [
        "\"John\"\"Everyman\""
      ],
      "execution_count": null,
      "outputs": [
        {
          "output_type": "execute_result",
          "data": {
            "application/vnd.google.colaboratory.intrinsic+json": {
              "type": "string"
            },
            "text/plain": [
              "'JohnEveryman'"
            ]
          },
          "metadata": {},
          "execution_count": 22
        }
      ]
    },
    {
      "cell_type": "code",
      "metadata": {
        "colab": {
          "base_uri": "https://localhost:8080/"
        },
        "id": "Cb0BOn_a8w_T",
        "outputId": "ec1f3f0f-ac04-4c43-a296-b6b8138c9268"
      },
      "source": [
        "\"John \"+\"Everyman\""
      ],
      "execution_count": null,
      "outputs": [
        {
          "output_type": "execute_result",
          "data": {
            "application/vnd.google.colaboratory.intrinsic+json": {
              "type": "string"
            },
            "text/plain": [
              "'John Everyman'"
            ]
          },
          "metadata": {},
          "execution_count": 24
        }
      ]
    },
    {
      "cell_type": "code",
      "metadata": {
        "colab": {
          "base_uri": "https://localhost:8080/"
        },
        "id": "t_wom-FQ8_DE",
        "outputId": "a8a60096-47f3-4d38-dc04-b102c0749e3c"
      },
      "source": [
        "\"John\"+\" \"+ \"Everyman\""
      ],
      "execution_count": null,
      "outputs": [
        {
          "output_type": "execute_result",
          "data": {
            "application/vnd.google.colaboratory.intrinsic+json": {
              "type": "string"
            },
            "text/plain": [
              "'John Everyman'"
            ]
          },
          "metadata": {},
          "execution_count": 25
        }
      ]
    },
    {
      "cell_type": "code",
      "metadata": {
        "colab": {
          "base_uri": "https://localhost:8080/"
        },
        "id": "Iqdfxo5z9OKU",
        "outputId": "a74706fe-bf8d-42c2-f797-1b4bb0077329"
      },
      "source": [
        "print(\"John\",\"Everyman\")"
      ],
      "execution_count": null,
      "outputs": [
        {
          "output_type": "stream",
          "name": "stdout",
          "text": [
            "John Everyman\n"
          ]
        }
      ]
    },
    {
      "cell_type": "code",
      "metadata": {
        "colab": {
          "base_uri": "https://localhost:8080/"
        },
        "id": "BaTx7mNEG_Mm",
        "outputId": "c7de10ad-1581-4ffe-edc9-39c3806a65bd"
      },
      "source": [
        "\"John Q. %s\" %(\"Public\")"
      ],
      "execution_count": null,
      "outputs": [
        {
          "output_type": "execute_result",
          "data": {
            "application/vnd.google.colaboratory.intrinsic+json": {
              "type": "string"
            },
            "text/plain": [
              "'John Q. Public'"
            ]
          },
          "metadata": {},
          "execution_count": 27
        }
      ]
    },
    {
      "cell_type": "code",
      "metadata": {
        "colab": {
          "base_uri": "https://localhost:8080/",
          "height": 35
        },
        "id": "Lxk4I900HcJB",
        "outputId": "c7de10ad-1581-4ffe-edc9-39c3806a65bd"
      },
      "source": [
        "\"John Q. %s\" %(\"Public\")"
      ],
      "execution_count": null,
      "outputs": [
        {
          "output_type": "execute_result",
          "data": {
            "application/vnd.google.colaboratory.intrinsic+json": {
              "type": "string"
            },
            "text/plain": [
              "'John Q. Public'"
            ]
          },
          "metadata": {},
          "execution_count": 27
        }
      ]
    },
    {
      "cell_type": "code",
      "metadata": {
        "colab": {
          "base_uri": "https://localhost:8080/"
        },
        "id": "F_DytAzfHgYk",
        "outputId": "4b526b49-a120-452d-b9be-a6065ea58bdf"
      },
      "source": [
        "\"John Q. %s%s\" %(\"Public\",\"Man\")"
      ],
      "execution_count": null,
      "outputs": [
        {
          "output_type": "execute_result",
          "data": {
            "application/vnd.google.colaboratory.intrinsic+json": {
              "type": "string"
            },
            "text/plain": [
              "'John Q. PublicMan'"
            ]
          },
          "metadata": {},
          "execution_count": 28
        }
      ]
    },
    {
      "cell_type": "code",
      "metadata": {
        "colab": {
          "base_uri": "https://localhost:8080/"
        },
        "id": "5YxCw2zMHxn9",
        "outputId": "eb857539-1c52-4d00-da1a-aadd3a2dfb09"
      },
      "source": [
        "\"%s %s %10s\" %(\"John\", \"Every\" , \"Man\")"
      ],
      "execution_count": null,
      "outputs": [
        {
          "output_type": "execute_result",
          "data": {
            "application/vnd.google.colaboratory.intrinsic+json": {
              "type": "string"
            },
            "text/plain": [
              "'John Every        Man'"
            ]
          },
          "metadata": {},
          "execution_count": 29
        }
      ]
    },
    {
      "cell_type": "code",
      "metadata": {
        "colab": {
          "base_uri": "https://localhost:8080/"
        },
        "id": "i0ROKNP6ICKh",
        "outputId": "d210f120-d190-4122-e23b-a393c5a24b60"
      },
      "source": [
        "\"%s %15s %10s\" %(\"John\", \"Every\" , \"Man\")"
      ],
      "execution_count": null,
      "outputs": [
        {
          "output_type": "execute_result",
          "data": {
            "application/vnd.google.colaboratory.intrinsic+json": {
              "type": "string"
            },
            "text/plain": [
              "'John           Every        Man'"
            ]
          },
          "metadata": {},
          "execution_count": 31
        }
      ]
    },
    {
      "cell_type": "code",
      "metadata": {
        "colab": {
          "base_uri": "https://localhost:8080/"
        },
        "id": "N_2wLD-0IfSu",
        "outputId": "d1e95b7d-6045-40b8-db00-c212e2a0208e"
      },
      "source": [
        "\"Rock a by baby, \\n ton the tree top, \\t\\when the windblows\\n\\t\\t\\t the cradle will drop\""
      ],
      "execution_count": null,
      "outputs": [
        {
          "output_type": "execute_result",
          "data": {
            "application/vnd.google.colaboratory.intrinsic+json": {
              "type": "string"
            },
            "text/plain": [
              "'Rock a by baby, \\n ton the tree top, \\t\\\\when the windblows\\n\\t\\t\\t the cradle will drop'"
            ]
          },
          "metadata": {},
          "execution_count": 33
        }
      ]
    },
    {
      "cell_type": "code",
      "metadata": {
        "colab": {
          "base_uri": "https://localhost:8080/"
        },
        "id": "9Kanc7Z1JHMu",
        "outputId": "0a5bdda8-8305-4082-c745-65b7a81aea2c"
      },
      "source": [
        "\"Rock a by baby, \\t ton\""
      ],
      "execution_count": null,
      "outputs": [
        {
          "output_type": "execute_result",
          "data": {
            "application/vnd.google.colaboratory.intrinsic+json": {
              "type": "string"
            },
            "text/plain": [
              "'Rock a by baby, \\t ton'"
            ]
          },
          "metadata": {},
          "execution_count": 35
        }
      ]
    },
    {
      "cell_type": "code",
      "metadata": {
        "colab": {
          "base_uri": "https://localhost:8080/"
        },
        "id": "XFFkm3o5Jgce",
        "outputId": "52f8b537-6bf0-4bf9-95cb-7a4598a9cbe1"
      },
      "source": [
        "print(\"Rock a by baby, \\n ton the tree top, \\t\\when the windblows\\n\\t\\t\\t the cradle will drop\")"
      ],
      "execution_count": null,
      "outputs": [
        {
          "output_type": "stream",
          "name": "stdout",
          "text": [
            "Rock a by baby, \n",
            " ton the tree top, \t\\when the windblows\n",
            "\t\t\t the cradle will drop\n"
          ]
        }
      ]
    },
    {
      "cell_type": "code",
      "metadata": {
        "colab": {
          "base_uri": "https://localhost:8080/"
        },
        "id": "qrO-2n8LJooW",
        "outputId": "f445db3e-7461-47b4-fbfe-f1d1a01a69ab"
      },
      "source": [
        "print(\"Rock a by baby, \\n\\t ton\")"
      ],
      "execution_count": null,
      "outputs": [
        {
          "output_type": "stream",
          "name": "stdout",
          "text": [
            "Rock a by baby, \n",
            "\t ton\n"
          ]
        }
      ]
    },
    {
      "cell_type": "markdown",
      "metadata": {
        "id": "N4-FKyIDJ72d"
      },
      "source": [
        "# 第二章 数值与运算符"
      ]
    },
    {
      "cell_type": "code",
      "metadata": {
        "colab": {
          "base_uri": "https://localhost:8080/"
        },
        "id": "j1q0O4PrKMzF",
        "outputId": "69a520b9-075b-431c-b04f-aff75c027c50"
      },
      "source": [
        "type(1)"
      ],
      "execution_count": null,
      "outputs": [
        {
          "output_type": "execute_result",
          "data": {
            "text/plain": [
              "int"
            ]
          },
          "metadata": {},
          "execution_count": 39
        }
      ]
    },
    {
      "cell_type": "code",
      "metadata": {
        "colab": {
          "base_uri": "https://localhost:8080/"
        },
        "id": "mSJB-hd6Kx10",
        "outputId": "3baf8c6a-fee8-4211-bef9-388e748c6082"
      },
      "source": [
        "type(1.9)   "
      ],
      "execution_count": null,
      "outputs": [
        {
          "output_type": "execute_result",
          "data": {
            "text/plain": [
              "float"
            ]
          },
          "metadata": {},
          "execution_count": 40
        }
      ]
    },
    {
      "cell_type": "code",
      "metadata": {
        "colab": {
          "base_uri": "https://localhost:8080/"
        },
        "id": "Q2gp-zEQLGft",
        "outputId": "8d1dc439-ab0c-48aa-912d-d239c0c2546a"
      },
      "source": [
        "12j"
      ],
      "execution_count": null,
      "outputs": [
        {
          "output_type": "execute_result",
          "data": {
            "text/plain": [
              "12j"
            ]
          },
          "metadata": {},
          "execution_count": 41
        }
      ]
    },
    {
      "cell_type": "code",
      "metadata": {
        "colab": {
          "base_uri": "https://localhost:8080/"
        },
        "id": "qcv4RfrSK7Em",
        "outputId": "013cf2da-19cb-43f9-b499-e0a6e667ba7d"
      },
      "source": [
        "12j+1"
      ],
      "execution_count": null,
      "outputs": [
        {
          "output_type": "execute_result",
          "data": {
            "text/plain": [
              "(1+12j)"
            ]
          },
          "metadata": {},
          "execution_count": 42
        }
      ]
    },
    {
      "cell_type": "code",
      "metadata": {
        "colab": {
          "base_uri": "https://localhost:8080/"
        },
        "id": "RTqAbPWSLNIm",
        "outputId": "89f7ad7d-d1c1-4146-af2e-50d43fa5b664"
      },
      "source": [
        "type(12j+1)"
      ],
      "execution_count": null,
      "outputs": [
        {
          "output_type": "execute_result",
          "data": {
            "text/plain": [
              "complex"
            ]
          },
          "metadata": {},
          "execution_count": 43
        }
      ]
    },
    {
      "cell_type": "markdown",
      "metadata": {
        "id": "Sh3dJZFpLbv2"
      },
      "source": [
        "print(\"this is a basic string\")\n",
        "\n",
        "\n",
        "\n",
        "\n",
        "\n",
        "\n",
        "\n"
      ]
    },
    {
      "cell_type": "code",
      "metadata": {
        "colab": {
          "base_uri": "https://localhost:8080/"
        },
        "id": "UVSBdKJgw1OO",
        "outputId": "85ad70db-ad72-4621-cc1e-00257d05724b"
      },
      "source": [
        "print(\"This is a basic string\"+ \" the plus operation\")"
      ],
      "execution_count": null,
      "outputs": [
        {
          "output_type": "stream",
          "name": "stdout",
          "text": [
            "This is a basic string the plus operation\n"
          ]
        }
      ]
    },
    {
      "cell_type": "code",
      "metadata": {
        "colab": {
          "base_uri": "https://localhost:8080/"
        },
        "id": "UBIqSrwIymDH",
        "outputId": "bc2848f5-2930-4203-b358-538ab6641852"
      },
      "source": [
        "# 注释写在开头\n",
        "print(\"hello world\")"
      ],
      "execution_count": null,
      "outputs": [
        {
          "output_type": "stream",
          "name": "stdout",
          "text": [
            "hello world\n"
          ]
        }
      ]
    },
    {
      "cell_type": "code",
      "metadata": {
        "colab": {
          "base_uri": "https://localhost:8080/"
        },
        "id": "AS5q6-Ztyxsu",
        "outputId": "84b6554e-34ee-408f-f313-2702bf32179c"
      },
      "source": [
        "a=12\n",
        "b=13\n",
        "c=5\n",
        "a+b\n"
      ],
      "execution_count": null,
      "outputs": [
        {
          "output_type": "execute_result",
          "data": {
            "text/plain": [
              "25"
            ]
          },
          "metadata": {},
          "execution_count": 5
        }
      ]
    },
    {
      "cell_type": "code",
      "metadata": {
        "colab": {
          "base_uri": "https://localhost:8080/"
        },
        "id": "6vu8naUUzJ4m",
        "outputId": "c31fe323-edd8-4192-febf-eb77c066a608"
      },
      "source": [
        "a-b"
      ],
      "execution_count": null,
      "outputs": [
        {
          "output_type": "execute_result",
          "data": {
            "text/plain": [
              "-1"
            ]
          },
          "metadata": {},
          "execution_count": 6
        }
      ]
    },
    {
      "cell_type": "code",
      "metadata": {
        "colab": {
          "base_uri": "https://localhost:8080/"
        },
        "id": "VHqF10hQzMbW",
        "outputId": "ea4e8d46-7e51-4f7a-aa37-4546a0526e40"
      },
      "source": [
        "a*b"
      ],
      "execution_count": null,
      "outputs": [
        {
          "output_type": "execute_result",
          "data": {
            "text/plain": [
              "156"
            ]
          },
          "metadata": {},
          "execution_count": 7
        }
      ]
    },
    {
      "cell_type": "code",
      "metadata": {
        "colab": {
          "base_uri": "https://localhost:8080/"
        },
        "id": "z9xjvkA8zkPf",
        "outputId": "1e2b2d67-b39f-4cea-b55b-8b4f42a40199"
      },
      "source": [
        "world='hello world!'\n",
        "print(world)"
      ],
      "execution_count": null,
      "outputs": [
        {
          "output_type": "stream",
          "name": "stdout",
          "text": [
            "hello world!\n"
          ]
        }
      ]
    },
    {
      "cell_type": "code",
      "metadata": {
        "colab": {
          "base_uri": "https://localhost:8080/"
        },
        "id": "rId880hnzwR3",
        "outputId": "bd16c299-5eed-4325-ad4e-ab52bc7c09ff"
      },
      "source": [
        "name='shixiaolou'\n",
        "print(name)"
      ],
      "execution_count": null,
      "outputs": [
        {
          "output_type": "stream",
          "name": "stdout",
          "text": [
            "shixiaolou\n"
          ]
        }
      ]
    },
    {
      "cell_type": "code",
      "metadata": {
        "colab": {
          "base_uri": "https://localhost:8080/"
        },
        "id": "yL27tFi5z5lg",
        "outputId": "bd4f28a8-869a-4d26-dc3f-8a03aaaa0422"
      },
      "source": [
        "age=input('My age is:')"
      ],
      "execution_count": null,
      "outputs": [
        {
          "name": "stdout",
          "output_type": "stream",
          "text": [
            "My age is:25\n"
          ]
        }
      ]
    },
    {
      "cell_type": "code",
      "metadata": {
        "colab": {
          "base_uri": "https://localhost:8080/"
        },
        "id": "yMxRAQ4x0Kq-",
        "outputId": "f1dbec2c-2a89-4c96-a89d-0075772d50c9"
      },
      "source": [
        "print(age)"
      ],
      "execution_count": null,
      "outputs": [
        {
          "output_type": "stream",
          "name": "stdout",
          "text": [
            "25\n"
          ]
        }
      ]
    },
    {
      "cell_type": "code",
      "metadata": {
        "colab": {
          "base_uri": "https://localhost:8080/"
        },
        "id": "tIBWKAWV0c0f",
        "outputId": "298d87bd-5821-402b-9789-e59812f96514"
      },
      "source": [
        "ID=input('请输入你的ID')"
      ],
      "execution_count": null,
      "outputs": [
        {
          "name": "stdout",
          "output_type": "stream",
          "text": [
            "请输入你的ID12345432\n"
          ]
        }
      ]
    },
    {
      "cell_type": "markdown",
      "metadata": {
        "id": "Girb0-si0mXH"
      },
      "source": [
        "print(ID)"
      ]
    },
    {
      "cell_type": "markdown",
      "metadata": {
        "id": "j6TrSYqX1Are"
      },
      "source": [
        "print('He said \"Today\\'s weather is good\"')"
      ]
    },
    {
      "cell_type": "code",
      "metadata": {
        "colab": {
          "base_uri": "https://localhost:8080/",
          "height": 35
        },
        "id": "oH4LXqlz1c4w",
        "outputId": "546c804c-d988-4155-90f3-3de8c9ecf9de"
      },
      "source": [
        "string='hello_shiyanlou'\n",
        "string[0]\n",
        "string[-1]"
      ],
      "execution_count": null,
      "outputs": [
        {
          "output_type": "execute_result",
          "data": {
            "application/vnd.google.colaboratory.intrinsic+json": {
              "type": "string"
            },
            "text/plain": [
              "'u'"
            ]
          },
          "metadata": {},
          "execution_count": 17
        }
      ]
    },
    {
      "cell_type": "code",
      "metadata": {
        "colab": {
          "base_uri": "https://localhost:8080/"
        },
        "id": "0kP_Shrz2x9Q",
        "outputId": "70a34474-a616-4382-9258-aaf1da84038f"
      },
      "source": [
        "a=int(input(\"please enter a number: \"))\n",
        "if a>10:\n",
        "  print('a>10')\n",
        "elif a==10:\n",
        "  print('a==10')\n",
        "else:\n",
        "  print('a<10')"
      ],
      "execution_count": null,
      "outputs": [
        {
          "output_type": "stream",
          "name": "stdout",
          "text": [
            "please enter a number: 10\n",
            "a==10\n"
          ]
        }
      ]
    },
    {
      "cell_type": "code",
      "metadata": {
        "colab": {
          "base_uri": "https://localhost:8080/"
        },
        "id": "NZuI4Osd4LI_",
        "outputId": "efcb2906-4802-4109-d3c4-b4f2f17b44ba"
      },
      "source": [
        "namelist=['a','b','c','d','d','f','g','h','i','j']\n",
        "for i in namelist:\n",
        "  print(i)"
      ],
      "execution_count": null,
      "outputs": [
        {
          "output_type": "stream",
          "name": "stdout",
          "text": [
            "a\n",
            "b\n",
            "c\n",
            "d\n",
            "d\n",
            "f\n",
            "g\n",
            "h\n",
            "i\n",
            "j\n"
          ]
        }
      ]
    },
    {
      "cell_type": "code",
      "metadata": {
        "colab": {
          "base_uri": "https://localhost:8080/"
        },
        "id": "Y0M5zUYR4nW_",
        "outputId": "0d069478-7568-4aa9-fde9-dd0b5939bd89"
      },
      "source": [
        "for a in range(20):\n",
        "  print(a)"
      ],
      "execution_count": null,
      "outputs": [
        {
          "output_type": "stream",
          "name": "stdout",
          "text": [
            "0\n",
            "1\n",
            "2\n",
            "3\n",
            "4\n",
            "5\n",
            "6\n",
            "7\n",
            "8\n",
            "9\n",
            "10\n",
            "11\n",
            "12\n",
            "13\n",
            "14\n",
            "15\n",
            "16\n",
            "17\n",
            "18\n",
            "19\n"
          ]
        }
      ]
    },
    {
      "cell_type": "code",
      "metadata": {
        "colab": {
          "base_uri": "https://localhost:8080/"
        },
        "id": "O3F5dCFk46bf",
        "outputId": "5e5805d9-089e-4c0d-ad7f-c1470a2c38be"
      },
      "source": [
        "for a in range(1,11):\n",
        "  print(a)"
      ],
      "execution_count": null,
      "outputs": [
        {
          "output_type": "stream",
          "name": "stdout",
          "text": [
            "1\n",
            "2\n",
            "3\n",
            "4\n",
            "5\n",
            "6\n",
            "7\n",
            "8\n",
            "9\n",
            "10\n"
          ]
        }
      ]
    },
    {
      "cell_type": "code",
      "metadata": {
        "colab": {
          "base_uri": "https://localhost:8080/"
        },
        "id": "kJJ0dqDv5F3v",
        "outputId": "b483cf98-5cfc-4927-81c6-66e8ca7d0f61"
      },
      "source": [
        "for i in range(1,11):\n",
        "  print('书恒走的第{}天，想他' .format(i))"
      ],
      "execution_count": null,
      "outputs": [
        {
          "output_type": "stream",
          "name": "stdout",
          "text": [
            "书恒走的第1天，想他\n",
            "书恒走的第2天，想他\n",
            "书恒走的第3天，想他\n",
            "书恒走的第4天，想他\n",
            "书恒走的第5天，想他\n",
            "书恒走的第6天，想他\n",
            "书恒走的第7天，想他\n",
            "书恒走的第8天，想他\n",
            "书恒走的第9天，想他\n",
            "书恒走的第10天，想他\n"
          ]
        }
      ]
    },
    {
      "cell_type": "code",
      "metadata": {
        "colab": {
          "base_uri": "https://localhost:8080/"
        },
        "id": "Nide4PkT7GM5",
        "outputId": "798c71e5-f42d-4797-a615-b1d05c857390"
      },
      "source": [
        "a=1\n",
        "while a<=10:\n",
        "  print(a)\n",
        "  a=a+1"
      ],
      "execution_count": null,
      "outputs": [
        {
          "output_type": "stream",
          "name": "stdout",
          "text": [
            "1\n",
            "2\n",
            "3\n",
            "4\n",
            "5\n",
            "6\n",
            "7\n",
            "8\n",
            "9\n",
            "10\n"
          ]
        }
      ]
    },
    {
      "cell_type": "code",
      "metadata": {
        "colab": {
          "base_uri": "https://localhost:8080/"
        },
        "id": "OAHS4zuV7mY_",
        "outputId": "e2dec7b8-daa0-43c8-c25e-a6f2b7018508"
      },
      "source": [
        "for a in range(10):\n",
        "  if(a==5):\n",
        "    continue\n",
        "  print(a)"
      ],
      "execution_count": null,
      "outputs": [
        {
          "output_type": "stream",
          "name": "stdout",
          "text": [
            "0\n",
            "1\n",
            "2\n",
            "3\n",
            "4\n",
            "6\n",
            "7\n",
            "8\n",
            "9\n"
          ]
        }
      ]
    },
    {
      "cell_type": "code",
      "metadata": {
        "colab": {
          "base_uri": "https://localhost:8080/"
        },
        "id": "Nan8K8GG8cNw",
        "outputId": "e3f9f104-b850-4569-916e-52382dc9e9d1"
      },
      "source": [
        "for i in range(1,101):\n",
        "  if(i%7==0) or i%10==7 or i//10==7:\n",
        "    continue\n",
        "  #elif(i%10==7):\n",
        "  #  continue\n",
        "  #elif(i//10==7)\n",
        "  #  continue\n",
        "  print(i)"
      ],
      "execution_count": null,
      "outputs": [
        {
          "output_type": "stream",
          "name": "stdout",
          "text": [
            "1\n",
            "2\n",
            "3\n",
            "4\n",
            "5\n",
            "6\n",
            "8\n",
            "9\n",
            "10\n",
            "11\n",
            "12\n",
            "13\n",
            "15\n",
            "16\n",
            "18\n",
            "19\n",
            "20\n",
            "22\n",
            "23\n",
            "24\n",
            "25\n",
            "26\n",
            "29\n",
            "30\n",
            "31\n",
            "32\n",
            "33\n",
            "34\n",
            "36\n",
            "38\n",
            "39\n",
            "40\n",
            "41\n",
            "43\n",
            "44\n",
            "45\n",
            "46\n",
            "48\n",
            "50\n",
            "51\n",
            "52\n",
            "53\n",
            "54\n",
            "55\n",
            "58\n",
            "59\n",
            "60\n",
            "61\n",
            "62\n",
            "64\n",
            "65\n",
            "66\n",
            "68\n",
            "69\n",
            "80\n",
            "81\n",
            "82\n",
            "83\n",
            "85\n",
            "86\n",
            "88\n",
            "89\n",
            "90\n",
            "92\n",
            "93\n",
            "94\n",
            "95\n",
            "96\n",
            "99\n",
            "100\n"
          ]
        }
      ]
    },
    {
      "cell_type": "code",
      "metadata": {
        "colab": {
          "base_uri": "https://localhost:8080/"
        },
        "id": "-uQ8QkH_-SrI",
        "outputId": "7ea4d16c-e960-4326-c4d9-48c44ddcd6f2"
      },
      "source": [
        "a=0\n",
        "while a<100:\n",
        "  a=a+1\n",
        "  if a%7==0 or a%10==7 or a//10==7 :\n",
        "    continue\n",
        "  print(a)"
      ],
      "execution_count": null,
      "outputs": [
        {
          "output_type": "stream",
          "name": "stdout",
          "text": [
            "1\n",
            "2\n",
            "3\n",
            "4\n",
            "5\n",
            "6\n",
            "8\n",
            "9\n",
            "10\n",
            "11\n",
            "12\n",
            "13\n",
            "15\n",
            "16\n",
            "18\n",
            "19\n",
            "20\n",
            "22\n",
            "23\n",
            "24\n",
            "25\n",
            "26\n",
            "29\n",
            "30\n",
            "31\n",
            "32\n",
            "33\n",
            "34\n",
            "36\n",
            "38\n",
            "39\n",
            "40\n",
            "41\n",
            "43\n",
            "44\n",
            "45\n",
            "46\n",
            "48\n",
            "50\n",
            "51\n",
            "52\n",
            "53\n",
            "54\n",
            "55\n",
            "58\n",
            "59\n",
            "60\n",
            "61\n",
            "62\n",
            "64\n",
            "65\n",
            "66\n",
            "68\n",
            "69\n",
            "80\n",
            "81\n",
            "82\n",
            "83\n",
            "85\n",
            "86\n",
            "88\n",
            "89\n",
            "90\n",
            "92\n",
            "93\n",
            "94\n",
            "95\n",
            "96\n",
            "99\n",
            "100\n"
          ]
        }
      ]
    },
    {
      "cell_type": "code",
      "metadata": {
        "colab": {
          "base_uri": "https://localhost:8080/"
        },
        "id": "XPQ8fjCEAFiL",
        "outputId": "ef1bb940-fa40-4861-a268-07db8a4b1917"
      },
      "source": [
        "import math\n",
        "print(math.e)"
      ],
      "execution_count": null,
      "outputs": [
        {
          "output_type": "stream",
          "name": "stdout",
          "text": [
            "2.718281828459045\n"
          ]
        }
      ]
    },
    {
      "cell_type": "code",
      "metadata": {
        "id": "7iqZNefHbu4u",
        "colab": {
          "base_uri": "https://localhost:8080/"
        },
        "outputId": "ab5aab04-613e-4bbf-8664-d8a5f570d6e9"
      },
      "source": [
        "\"This is a string\" + str(4)"
      ],
      "execution_count": null,
      "outputs": [
        {
          "output_type": "execute_result",
          "data": {
            "application/vnd.google.colaboratory.intrinsic+json": {
              "type": "string"
            },
            "text/plain": [
              "'This is a string4'"
            ]
          },
          "metadata": {},
          "execution_count": 2
        }
      ]
    },
    {
      "cell_type": "code",
      "metadata": {
        "colab": {
          "base_uri": "https://localhost:8080/"
        },
        "id": "22VIGrsedPmW",
        "outputId": "3ea34382-af76-4513-dc26-17741e7ef16d"
      },
      "source": [
        "5*10"
      ],
      "execution_count": null,
      "outputs": [
        {
          "output_type": "execute_result",
          "data": {
            "text/plain": [
              "50"
            ]
          },
          "metadata": {},
          "execution_count": 3
        }
      ]
    },
    {
      "cell_type": "code",
      "metadata": {
        "colab": {
          "base_uri": "https://localhost:8080/"
        },
        "id": "lqXSd4FSdu9t",
        "outputId": "98d64d65-ee92-42fc-d752-b81a11323b17"
      },
      "source": [
        "print('%o %o %o %o %o %o %o %o %o' %(6,7,8,9,10,11,12,13,14))"
      ],
      "execution_count": null,
      "outputs": [
        {
          "output_type": "stream",
          "name": "stdout",
          "text": [
            "6 7 10 11 12 13 14 15 16\n"
          ]
        }
      ]
    },
    {
      "cell_type": "code",
      "metadata": {
        "colab": {
          "base_uri": "https://localhost:8080/"
        },
        "id": "mg4TCeUMeJ7X",
        "outputId": "e624af2d-78c6-4522-eb88-217a618595f7"
      },
      "source": [
        "print('%x %x %x %x %x %x %x %x %x' %(9,10,11,12,13,14,15,16,17))"
      ],
      "execution_count": null,
      "outputs": [
        {
          "output_type": "stream",
          "name": "stdout",
          "text": [
            "9 a b c d e f 10 11\n"
          ]
        }
      ]
    },
    {
      "cell_type": "code",
      "metadata": {
        "colab": {
          "base_uri": "https://localhost:8080/"
        },
        "id": "wlXkirSYexfW",
        "outputId": "a11a5c5d-7284-44aa-fa2f-8d37c51f6943"
      },
      "source": [
        "first_string=\"This is a string\"\n",
        "second_string=\"This is another string\"\n",
        "first_number=4\n",
        "second_number=5\n",
        "print(\"%s,%s,%d,%d\" %(first_string,second_string,first_number,second_number))\n",
        "print(\"first_string\")"
      ],
      "execution_count": null,
      "outputs": [
        {
          "output_type": "stream",
          "name": "stdout",
          "text": [
            "This is a string,This is another string,4,5\n",
            "first_string\n"
          ]
        }
      ]
    },
    {
      "cell_type": "markdown",
      "metadata": {
        "id": "9fYCgYbmgg7A"
      },
      "source": [
        "# 第三章 4种数据类型 元组、列表、集合和字典"
      ]
    },
    {
      "cell_type": "code",
      "metadata": {
        "colab": {
          "base_uri": "https://localhost:8080/"
        },
        "id": "kS5_T9Mxg65o",
        "outputId": "b581201a-69ae-4c6a-c232-ba93b7833fb6"
      },
      "source": [
        "#都是列表，元组不可更改的数据序列，用圆括号包围；\n",
        "print(\"%s %s %s %s\" %(\"string\",\"filled\",\"by a\",\"tuple\"))"
      ],
      "execution_count": null,
      "outputs": [
        {
          "output_type": "stream",
          "name": "stdout",
          "text": [
            "string filled by a tuple\n"
          ]
        }
      ]
    },
    {
      "cell_type": "code",
      "metadata": {
        "colab": {
          "base_uri": "https://localhost:8080/"
        },
        "id": "yQ-pCgUJh9RW",
        "outputId": "7ff666ad-e782-4186-9a6a-bafb7786839e"
      },
      "source": [
        "a=(\"first\",\"second\",\"third\")\n",
        "print(\"%s\" %a[2])\n",
        "print(\"%d\" %len(a))"
      ],
      "execution_count": null,
      "outputs": [
        {
          "output_type": "stream",
          "name": "stdout",
          "text": [
            "third\n",
            "3\n"
          ]
        }
      ]
    },
    {
      "cell_type": "code",
      "metadata": {
        "colab": {
          "base_uri": "https://localhost:8080/"
        },
        "id": "NVbJ0MbMjIPG",
        "outputId": "5a68b41e-528d-409f-d23a-b0c3d27c69cc"
      },
      "source": [
        "#列表可以更改的数据序列，方括号表示：\n",
        "breakfast = [\"coffee\",\"tea\",\"toast\",\"egg\"]\n",
        "count=0\n",
        "print(\"Today's breakfast is %s\" %breakfast[count])\n",
        "breakfast.append(\"waffles\")\n",
        "count=4\n",
        "print(\"%s\" %breakfast[count])"
      ],
      "execution_count": null,
      "outputs": [
        {
          "output_type": "stream",
          "name": "stdout",
          "text": [
            "Today's breakfast is coffee\n",
            "waffles\n"
          ]
        }
      ]
    },
    {
      "cell_type": "code",
      "metadata": {
        "colab": {
          "base_uri": "https://localhost:8080/"
        },
        "id": "cbI2iCIz0ZdK",
        "outputId": "596023b5-0520-4bcc-8583-6934ee5713ea"
      },
      "source": [
        "breakfast[count]=\"sausages\"\n",
        "print(\"Today's breakfast is %s\" %breakfast[count])\n"
      ],
      "execution_count": null,
      "outputs": [
        {
          "output_type": "stream",
          "name": "stdout",
          "text": [
            "Today's breakfast is sausages\n"
          ]
        }
      ]
    },
    {
      "cell_type": "code",
      "metadata": {
        "colab": {
          "base_uri": "https://localhost:8080/"
        },
        "id": "WbsgiDJe0vxM",
        "outputId": "333e9c84-7d23-4082-83b1-20f7fe131cc0"
      },
      "source": [
        "breakfast.append(\"waffles\")\n",
        "count=5\n",
        "print(\"%s\" %breakfast[count])"
      ],
      "execution_count": null,
      "outputs": [
        {
          "output_type": "stream",
          "name": "stdout",
          "text": [
            "waffles\n"
          ]
        }
      ]
    },
    {
      "cell_type": "code",
      "metadata": {
        "colab": {
          "base_uri": "https://localhost:8080/"
        },
        "id": "7SYBrxBs2OO-",
        "outputId": "8f5de43c-7f38-4a59-c88c-1b40fd2cd235"
      },
      "source": [
        "breakfast.extend([\"juice\",\"decaf\",\"oatmea\"])\n",
        "print(breakfast)"
      ],
      "execution_count": null,
      "outputs": [
        {
          "output_type": "stream",
          "name": "stdout",
          "text": [
            "['coffee', 'tea', 'toast', 'egg', 'sausages', 'waffles', 'waffles', 'juice', 'decaf', 'oatmeal', 'juice', 'decaf', 'oatmea']\n"
          ]
        }
      ]
    },
    {
      "cell_type": "code",
      "metadata": {
        "colab": {
          "base_uri": "https://localhost:8080/"
        },
        "id": "phKEA1F22u6G",
        "outputId": "b5be3460-0c7a-454b-8831-62590b67f2e8"
      },
      "source": [
        "#字典 以名称索引的分组数据 同列表的区别是数字索引 而字典名称索引\n",
        "menus_specials={}\n",
        "menus_specials[\"breakfast\"]=\"ham\"\n",
        "menus_specials[\"lunch\"]=\"tuna surprise\"\n",
        "menus_specials[\"dinner\"]=\"cheese\"\n",
        "print(menus_specials)\n",
        "print(\"%s\" %menus_specials[\"lunch\"])\n",
        "hungry=menus_specials.keys()\n",
        "print(list(hungry))\n",
        "print(menus_specials.keys())\n",
        "print(menus_specials.values())"
      ],
      "execution_count": null,
      "outputs": [
        {
          "output_type": "stream",
          "name": "stdout",
          "text": [
            "{'breakfast': 'ham', 'lunch': 'tuna surprise', 'dinner': 'cheese'}\n",
            "tuna surprise\n",
            "['breakfast', 'lunch', 'dinner']\n",
            "dict_keys(['breakfast', 'lunch', 'dinner'])\n",
            "dict_values(['ham', 'tuna surprise', 'cheese'])\n"
          ]
        }
      ]
    },
    {
      "cell_type": "code",
      "metadata": {
        "colab": {
          "base_uri": "https://localhost:8080/"
        },
        "id": "v-vGkw0E5tDG",
        "outputId": "867fe0d7-b62d-4999-9050-8fbb509ae97d"
      },
      "source": [
        "True\n",
        "True==0"
      ],
      "execution_count": null,
      "outputs": [
        {
          "output_type": "execute_result",
          "data": {
            "text/plain": [
              "False"
            ]
          },
          "metadata": {},
          "execution_count": 36
        }
      ]
    },
    {
      "cell_type": "code",
      "metadata": {
        "colab": {
          "base_uri": "https://localhost:8080/"
        },
        "id": "eu5VKnuN68-n",
        "outputId": "1f8fb9f2-f735-4e28-ae4b-c83da4b55998"
      },
      "source": [
        "todays_temperatures = [23,32,33,31]\n",
        "todays_temperatures.append(29)\n",
        "print(todays_temperatures)\n",
        "morning=todays_temperatures.pop(0)\n",
        "print(morning)\n",
        "print(todays_temperatures)"
      ],
      "execution_count": null,
      "outputs": [
        {
          "output_type": "stream",
          "name": "stdout",
          "text": [
            "[23, 32, 33, 31, 29]\n",
            "23\n",
            "[32, 33, 31, 29]\n"
          ]
        }
      ]
    },
    {
      "cell_type": "code",
      "metadata": {
        "colab": {
          "base_uri": "https://localhost:8080/"
        },
        "id": "ouh-cA1-7q4v",
        "outputId": "23e11a88-2da7-4cf8-b8a5-4c35461b5e0c"
      },
      "source": [
        "#集合不包含重复数字的列表 ，可变集合和不可变集合\n",
        "alphabet=['a','b','a','a']\n",
        "print(alphabet)\n",
        "alph2=set(alphabet)\n",
        "print(alph2)"
      ],
      "execution_count": null,
      "outputs": [
        {
          "output_type": "stream",
          "name": "stdout",
          "text": [
            "['a', 'b', 'a', 'a']\n",
            "{'b', 'a'}\n"
          ]
        }
      ]
    },
    {
      "cell_type": "code",
      "metadata": {
        "colab": {
          "base_uri": "https://localhost:8080/"
        },
        "id": "tPEPjQH28YQ2",
        "outputId": "5b003063-5f9d-4211-d59f-ce81c29cbade"
      },
      "source": [
        "dairy_section=[\"danbai\",\"tang\",\"shui\",\"riqi\"]\n",
        "print(dairy_section)\n",
        "print(dairy_section[-1])"
      ],
      "execution_count": null,
      "outputs": [
        {
          "output_type": "stream",
          "name": "stdout",
          "text": [
            "['danbai', 'tang', 'shui', 'riqi']\n",
            "riqi\n"
          ]
        }
      ]
    },
    {
      "cell_type": "code",
      "metadata": {
        "colab": {
          "base_uri": "https://localhost:8080/"
        },
        "id": "qYX6_-wK82cO",
        "outputId": "832c2d71-4ff2-4711-c820-27073c8d242e"
      },
      "source": [
        "milk_expiration=(\"12\",\"10\",\"2009\")\n",
        "print(milk_expiration)\n",
        "print(\"This milk carton will expire on %s/ %s/ %s\" %(milk_expiration[0],milk_expiration[1],milk_expiration[2]) )\n",
        "#print(\"This milk carton will expire on %s %s %s\" %('milk_expiration[0]','milk_expiration[1]','milk_expiration[2]')"
      ],
      "execution_count": null,
      "outputs": [
        {
          "output_type": "stream",
          "name": "stdout",
          "text": [
            "('12', '10', '2009')\n",
            "This milk carton will expire on 12/ 10/ 2009\n"
          ]
        }
      ]
    },
    {
      "cell_type": "markdown",
      "metadata": {
        "id": "J5-5BjKWvVLQ"
      },
      "source": [
        "# 新段落"
      ]
    },
    {
      "cell_type": "code",
      "metadata": {
        "colab": {
          "base_uri": "https://localhost:8080/"
        },
        "id": "ZHstaLpQ_8mQ",
        "outputId": "d8ff80fc-a7e4-449d-daec-fe9e2c73e02e"
      },
      "source": [
        "milk_carton={}\n",
        "milk_carton[\"fl_oz\"]=\"10\"\n",
        "milk_carton[\"cost\"]=\"20\"\n",
        "milk_carton[\"brand_name\"]=\"yili\"\n",
        "print(milk_carton)\n",
        "print(milk_carton.values())\n",
        "cost=int(milk_carton[\"cost\"])*6\n",
        "print(cost)"
      ],
      "execution_count": null,
      "outputs": [
        {
          "output_type": "stream",
          "name": "stdout",
          "text": [
            "{'fl_oz': '10', 'cost': '20', 'brand_name': 'yili'}\n",
            "dict_values(['10', '20', 'yili'])\n",
            "120\n"
          ]
        }
      ]
    },
    {
      "cell_type": "code",
      "metadata": {
        "id": "pawsm6EyGfG5"
      },
      "source": [
        ""
      ],
      "execution_count": null,
      "outputs": []
    },
    {
      "cell_type": "markdown",
      "metadata": {
        "id": "3_5G4e0SGgZK"
      },
      "source": [
        "# 第四章 循环比较 以及 函数"
      ]
    },
    {
      "cell_type": "code",
      "metadata": {
        "colab": {
          "base_uri": "https://localhost:8080/"
        },
        "id": "V14lzKyrGoz6",
        "outputId": "045a2d48-65a7-4859-c9e9-6b645e1e068d"
      },
      "source": [
        "1==2"
      ],
      "execution_count": null,
      "outputs": [
        {
          "output_type": "execute_result",
          "data": {
            "text/plain": [
              "False"
            ]
          },
          "metadata": {},
          "execution_count": 64
        }
      ]
    },
    {
      "cell_type": "code",
      "metadata": {
        "colab": {
          "base_uri": "https://localhost:8080/"
        },
        "id": "OxzhB_KRHcMQ",
        "outputId": "afecea0d-d51f-4c9f-b03f-a1e167e02ced"
      },
      "source": [
        "not True"
      ],
      "execution_count": null,
      "outputs": [
        {
          "output_type": "execute_result",
          "data": {
            "text/plain": [
              "False"
            ]
          },
          "metadata": {},
          "execution_count": 66
        }
      ]
    },
    {
      "cell_type": "code",
      "metadata": {
        "colab": {
          "base_uri": "https://localhost:8080/"
        },
        "id": "S129WyOAHq74",
        "outputId": "526a13b6-157a-4451-f3de-3e228e341490"
      },
      "source": [
        "if 1<2:\n",
        "  print(\"NO!\")"
      ],
      "execution_count": null,
      "outputs": [
        {
          "output_type": "stream",
          "name": "stdout",
          "text": [
            "NO!\n"
          ]
        }
      ]
    },
    {
      "cell_type": "code",
      "metadata": {
        "colab": {
          "base_uri": "https://localhost:8080/"
        },
        "id": "G8aawz7I9AME",
        "outputId": "87581331-53d6-4816-b8c3-0131ceebfc30"
      },
      "source": [
        "i=0\n",
        "while i<12:\n",
        " print(\"Lift off in : %d\" %i)\n",
        " i=i+1"
      ],
      "execution_count": null,
      "outputs": [
        {
          "output_type": "stream",
          "name": "stdout",
          "text": [
            "Lift off in : 0\n",
            "Lift off in : 1\n",
            "Lift off in : 2\n",
            "Lift off in : 3\n",
            "Lift off in : 4\n",
            "Lift off in : 5\n",
            "Lift off in : 6\n",
            "Lift off in : 7\n",
            "Lift off in : 8\n",
            "Lift off in : 9\n",
            "Lift off in : 10\n",
            "Lift off in : 11\n"
          ]
        }
      ]
    },
    {
      "cell_type": "code",
      "metadata": {
        "colab": {
          "base_uri": "https://localhost:8080/"
        },
        "id": "iNZXvY3793CD",
        "outputId": "c0415578-9b65-48a3-a235-ab3cafce5fdf"
      },
      "source": [
        "for i in range(10):\n",
        "  print(\"T:%d\" %i)"
      ],
      "execution_count": null,
      "outputs": [
        {
          "output_type": "stream",
          "name": "stdout",
          "text": [
            "T:0\n",
            "T:1\n",
            "T:2\n",
            "T:3\n",
            "T:4\n",
            "T:5\n",
            "T:6\n",
            "T:7\n",
            "T:8\n",
            "T:9\n"
          ]
        }
      ]
    },
    {
      "cell_type": "code",
      "metadata": {
        "id": "ok9H33hi-mst"
      },
      "source": [
        "while True:\n",
        "   print(\"You're very good!\")"
      ],
      "execution_count": null,
      "outputs": []
    },
    {
      "cell_type": "code",
      "metadata": {
        "colab": {
          "base_uri": "https://localhost:8080/"
        },
        "id": "cnNtUakZ_-Xt",
        "outputId": "1af49c05-2756-4321-fa8f-894afa0a609c"
      },
      "source": [
        "\n",
        "while True:\n",
        "   how_old=input(\"Enter your age:\")\n",
        "   if how_old==\"No\":\n",
        "       print(\"Don't be ashamed of your age:\")\n",
        "       break\n",
        "   #num=int(how_old)\n",
        "   print(\"Your age is: %d\" %int(how_old))\n",
        "  "
      ],
      "execution_count": null,
      "outputs": [
        {
          "output_type": "stream",
          "name": "stdout",
          "text": [
            "Enter your age:10\n",
            "Your age is: 10\n",
            "Enter your age:25\n",
            "Your age is: 25\n",
            "Enter your age:30\n",
            "Your age is: 30\n",
            "Enter your age:No\n",
            "Don't be ashamed of your age:\n"
          ]
        }
      ]
    },
    {
      "cell_type": "code",
      "metadata": {
        "colab": {
          "base_uri": "https://localhost:8080/"
        },
        "id": "v6wbV1c_PY43",
        "outputId": "910a76ac-d00e-41f1-a63d-0d2d009d0a8b"
      },
      "source": [
        "for food in(\"pate\",\"cheese\",\"crackers\",\"yogurt\"):\n",
        "  if food==\"crackers\":\n",
        "    print(\"yes\")\n",
        "    break\n",
        "    \n",
        "  else:\n",
        "    print(\"There is no yogurt\")"
      ],
      "execution_count": null,
      "outputs": [
        {
          "output_type": "stream",
          "name": "stdout",
          "text": [
            "There is no yogurt\n",
            "There is no yogurt\n",
            "yes\n"
          ]
        }
      ]
    },
    {
      "cell_type": "code",
      "metadata": {
        "colab": {
          "base_uri": "https://localhost:8080/"
        },
        "id": "tE2kyXiwQa0v",
        "outputId": "d3a8d425-0a5f-43f3-c699-0d43749aba79"
      },
      "source": [
        "for food in(\"pate\",\"cheese\",\"crackers\",\"yogurt\",\"tomato soup\"):\n",
        "  print (\"%s\" %food[0:6])\n",
        "  if food ==\"crackers\":\n",
        "    #print(\"you can eat %s\" %food)\n",
        "    continue\n",
        "  #print(\"you can eat %s\" %food)\n",
        "#print(\"you can eat %s\" %food)"
      ],
      "execution_count": null,
      "outputs": [
        {
          "output_type": "stream",
          "name": "stdout",
          "text": [
            "pate\n",
            "cheese\n",
            "cracke\n",
            "yogurt\n",
            "tomato\n"
          ]
        }
      ]
    },
    {
      "cell_type": "code",
      "metadata": {
        "colab": {
          "base_uri": "https://localhost:8080/"
        },
        "id": "mPU4_EDC161z",
        "outputId": "79c20398-398c-4a4a-818e-641634c455de"
      },
      "source": [
        "fridge_contents={\"egg\":8, \"mushroom\":20,\"pepper\":3,\"cheese\":2,\"tomato\":4,\"milk\":13}\n",
        "try:\n",
        "  if fridge_contents[\"orange jucie\"]>3:\n",
        "    print(\"Sure\")\n",
        "except (KeyError) as error:\n",
        "  print(\"there is no %s!\" %error)"
      ],
      "execution_count": null,
      "outputs": [
        {
          "output_type": "stream",
          "name": "stdout",
          "text": [
            "there is no 'orange jucie'!\n"
          ]
        }
      ]
    },
    {
      "cell_type": "code",
      "metadata": {
        "colab": {
          "base_uri": "https://localhost:8080/"
        },
        "id": "MAw5DOA5hP4J",
        "outputId": "864bf79b-f389-49ea-ad3c-bba193bac0c0"
      },
      "source": [
        "if 0==False:\n",
        "  print(\"OK\")\n",
        "if 1==True:\n",
        "  print(\"YES\")\n",
        "if 2==1:\n",
        "  print(\"No\")\n",
        "if 1+3<=4:\n",
        "  print(\"Very good\")"
      ],
      "execution_count": null,
      "outputs": [
        {
          "output_type": "stream",
          "name": "stdout",
          "text": [
            "OK\n",
            "YES\n",
            "Very good\n"
          ]
        }
      ]
    },
    {
      "cell_type": "code",
      "metadata": {
        "colab": {
          "base_uri": "https://localhost:8080/"
        },
        "id": "DBLTJ_Ccivy5",
        "outputId": "0c68811b-b919-4a26-f9b2-21213830f280"
      },
      "source": [
        "while True:\n",
        "  var=4\n",
        "  input(\"input your number:\")\n",
        " \n",
        "  if var== \"No\":\n",
        "    print(\"tiao chu xunhuan!\")\n",
        "    break\n",
        "  print(\"Your input nmuber is %d\" %int(var))"
      ],
      "execution_count": null,
      "outputs": [
        {
          "output_type": "stream",
          "name": "stdout",
          "text": [
            "input your number:0\n",
            "Your input nmuber is 0\n",
            "input your number:1\n",
            "Your input nmuber is 1\n",
            "input your number:9\n",
            "Your input nmuber is 9\n",
            "input your number:8\n",
            "Your input nmuber is 8\n",
            "input your number:7\n",
            "Your input nmuber is 7\n",
            "input your number:5\n",
            "Your input nmuber is 5\n",
            "input your number:3\n",
            "Your input nmuber is 3\n",
            "input your number:0\n",
            "Your input nmuber is 0\n",
            "input your number:No\n",
            "tiao chu xunhuan!\n"
          ]
        }
      ]
    },
    {
      "cell_type": "code",
      "metadata": {
        "colab": {
          "base_uri": "https://localhost:8080/"
        },
        "id": "lecH0xCmi6LG",
        "outputId": "ebcfb272-94b1-49d9-82c2-015f829ee0c7"
      },
      "source": [
        "xulie=(\"abd\",\"cde\",\"efd\",\"hdg\")\n",
        "var=\"cdf\"\n",
        "if var==xulie[0]:\n",
        "  print(\"It's in it\")\n",
        "elif var==xulie[1]:\n",
        "  print(\"It's in two of it\")\n",
        "else:\n",
        "  print(\"No in it\")"
      ],
      "execution_count": null,
      "outputs": [
        {
          "output_type": "stream",
          "name": "stdout",
          "text": [
            "No in it\n"
          ]
        }
      ]
    },
    {
      "cell_type": "code",
      "metadata": {
        "colab": {
          "base_uri": "https://localhost:8080/"
        },
        "id": "dXTnlDUukZ5D",
        "outputId": "827534c2-cb47-4cce-fdfb-fdcbd8dd691c"
      },
      "source": [
        "\n",
        "fridge={\"egg\":2, \"mushroom\":5, \"pepper\":1, \"cheese\":1, \"milk\":12}\n",
        "food_sought=\"milk\"\n",
        "hungry=fridge.keys()\n",
        "print(hungry)\n",
        "for food in hungry:\n",
        "  if food==\"123\":\n",
        "    print(\"%s\" %fridge[\"milk\"])\n",
        "    break\n",
        "  else:\n",
        "    print(\"It's no food\")\n",
        "\n"
      ],
      "execution_count": null,
      "outputs": [
        {
          "output_type": "stream",
          "name": "stdout",
          "text": [
            "dict_keys(['egg', 'mushroom', 'pepper', 'cheese', 'milk'])\n",
            "It's no food\n",
            "It's no food\n",
            "It's no food\n",
            "It's no food\n",
            "It's no food\n"
          ]
        }
      ]
    },
    {
      "cell_type": "code",
      "metadata": {
        "colab": {
          "base_uri": "https://localhost:8080/"
        },
        "id": "6GG8WCa9_3IK",
        "outputId": "705c7d52-0de4-4d04-b1a6-fe29b32f8ecd"
      },
      "source": [
        "fridge_contents={\"egg\":8, \"mushroom\":20,\"pepper\":3,\"cheese\":2,\"tomato\":4,\"milk\":13}\n",
        "try:\n",
        "  if fridge_contents[\"orange jucie\"]>3:\n",
        "    print(\"Sure\")\n",
        "except KeyError:\n",
        "    print(\"There is no it\")\n",
        "    "
      ],
      "execution_count": null,
      "outputs": [
        {
          "output_type": "stream",
          "name": "stdout",
          "text": [
            "There is no it\n"
          ]
        }
      ]
    },
    {
      "cell_type": "markdown",
      "metadata": {
        "id": "l2ZqxPlXA6zG"
      },
      "source": [
        "# 第五章 函数和对象"
      ]
    },
    {
      "cell_type": "code",
      "metadata": {
        "colab": {
          "base_uri": "https://localhost:8080/"
        },
        "id": "0hw26bv9BDbG",
        "outputId": "4a4c4fc7-fc2e-4ddc-8922-725113780050"
      },
      "source": [
        "#将一些代码聚集在一个名称中，使用名称来使用代码功能，而不需要重复写,现代程序的核心\n",
        "def in_fridge():\n",
        "  \"\"\"this is a function to see if the fridge has a food.\n",
        "  fridge has a dictionary defined outside of the function.\n",
        "  the food to be searched for is in the string wanted_food\"\"\"\n",
        "  try:\n",
        "    count=fridge[wanted_food]\n",
        "  except KeyError:\n",
        "    count=0\n",
        "  return count\n",
        "fridge={\"apples\":10, \"oranges\":3, \"milk\":2}\n",
        "wanted_food=\"milk\"\n",
        "in_fridge()\n",
        "#print(\"%s\" %in_fridge.__doc__)"
      ],
      "execution_count": null,
      "outputs": [
        {
          "output_type": "execute_result",
          "data": {
            "text/plain": [
              "2"
            ]
          },
          "metadata": {},
          "execution_count": 35
        }
      ]
    },
    {
      "cell_type": "code",
      "metadata": {
        "id": "DIJFHk6kaE8_"
      },
      "source": [
        "dir(in_fridge)"
      ],
      "execution_count": null,
      "outputs": []
    },
    {
      "cell_type": "code",
      "metadata": {
        "colab": {
          "base_uri": "https://localhost:8080/"
        },
        "id": "Eq33Ee4BbR3u",
        "outputId": "c413baf6-13db-4954-b55f-9764b8c3b062"
      },
      "source": [
        "special_sauce=[\"ke\",\"mayonnaise\",\"french dressing\"]\n",
        "def make_new_sauce():\n",
        "  \"\"\"This function makes a new special sauce all its own\"\"\"\n",
        "  special_sauce=[\"mustard\",\"yogurt\"]\n",
        "  return special_sauce\n",
        "yy=make_new_sauce()\n",
        "print(\"aa=\\t\", yy)"
      ],
      "execution_count": null,
      "outputs": [
        {
          "output_type": "stream",
          "name": "stdout",
          "text": [
            "aa=\t ['mustard', 'yogurt']\n"
          ]
        }
      ]
    },
    {
      "cell_type": "code",
      "metadata": {
        "colab": {
          "base_uri": "https://localhost:8080/",
          "height": 340
        },
        "id": "_FD8Jy2fnZZp",
        "outputId": "cf955cc6-21a1-4922-f519-ccb271ac53e1"
      },
      "source": [
        "def in_fridge(some_fridge, desired_item):\n",
        "  \"\"\"This is a function to see if the fridge has a food.\n",
        "  fridge has to be a dictionary defined outside of the function.\n",
        "  the food to be searched for is in the string wanted_food\"\"\"\n",
        "  try:\n",
        "    count=some_fridge[desired_item]\n",
        "  except KeyError:\n",
        "    count=0\n",
        "  return count\n",
        "fridge={'apples':10, 'oranges':3, 'milk':2}\n",
        "wanted_food=\"oranges\"\n",
        "in_fridge(fridge, wanted_food)\n",
        "in_fridge({'cookies':10, 'broccoli':3, 'milk':2},\"broccoli\")\n",
        "in_fridge(3,\"broccoli\")"
      ],
      "execution_count": null,
      "outputs": [
        {
          "output_type": "error",
          "ename": "TypeError",
          "evalue": "ignored",
          "traceback": [
            "\u001b[0;31m---------------------------------------------------------------------------\u001b[0m",
            "\u001b[0;31mTypeError\u001b[0m                                 Traceback (most recent call last)",
            "\u001b[0;32m<ipython-input-32-7a6734a3433f>\u001b[0m in \u001b[0;36m<module>\u001b[0;34m()\u001b[0m\n\u001b[1;32m     12\u001b[0m \u001b[0min_fridge\u001b[0m\u001b[0;34m(\u001b[0m\u001b[0mfridge\u001b[0m\u001b[0;34m,\u001b[0m \u001b[0mwanted_food\u001b[0m\u001b[0;34m)\u001b[0m\u001b[0;34m\u001b[0m\u001b[0;34m\u001b[0m\u001b[0m\n\u001b[1;32m     13\u001b[0m \u001b[0min_fridge\u001b[0m\u001b[0;34m(\u001b[0m\u001b[0;34m{\u001b[0m\u001b[0;34m'cookies'\u001b[0m\u001b[0;34m:\u001b[0m\u001b[0;36m10\u001b[0m\u001b[0;34m,\u001b[0m \u001b[0;34m'broccoli'\u001b[0m\u001b[0;34m:\u001b[0m\u001b[0;36m3\u001b[0m\u001b[0;34m,\u001b[0m \u001b[0;34m'milk'\u001b[0m\u001b[0;34m:\u001b[0m\u001b[0;36m2\u001b[0m\u001b[0;34m}\u001b[0m\u001b[0;34m,\u001b[0m\u001b[0;34m\"broccoli\"\u001b[0m\u001b[0;34m)\u001b[0m\u001b[0;34m\u001b[0m\u001b[0;34m\u001b[0m\u001b[0m\n\u001b[0;32m---> 14\u001b[0;31m \u001b[0min_fridge\u001b[0m\u001b[0;34m(\u001b[0m\u001b[0;36m3\u001b[0m\u001b[0;34m,\u001b[0m\u001b[0;34m\"broccoli\"\u001b[0m\u001b[0;34m)\u001b[0m\u001b[0;34m\u001b[0m\u001b[0;34m\u001b[0m\u001b[0m\n\u001b[0m",
            "\u001b[0;32m<ipython-input-32-7a6734a3433f>\u001b[0m in \u001b[0;36min_fridge\u001b[0;34m(some_fridge, desired_item)\u001b[0m\n\u001b[1;32m      4\u001b[0m   the food to be searched for is in the string wanted_food\"\"\"\n\u001b[1;32m      5\u001b[0m   \u001b[0;32mtry\u001b[0m\u001b[0;34m:\u001b[0m\u001b[0;34m\u001b[0m\u001b[0;34m\u001b[0m\u001b[0m\n\u001b[0;32m----> 6\u001b[0;31m     \u001b[0mcount\u001b[0m\u001b[0;34m=\u001b[0m\u001b[0msome_fridge\u001b[0m\u001b[0;34m[\u001b[0m\u001b[0mdesired_item\u001b[0m\u001b[0;34m]\u001b[0m\u001b[0;34m\u001b[0m\u001b[0;34m\u001b[0m\u001b[0m\n\u001b[0m\u001b[1;32m      7\u001b[0m   \u001b[0;32mexcept\u001b[0m \u001b[0mKeyError\u001b[0m\u001b[0;34m:\u001b[0m\u001b[0;34m\u001b[0m\u001b[0;34m\u001b[0m\u001b[0m\n\u001b[1;32m      8\u001b[0m     \u001b[0mcount\u001b[0m\u001b[0;34m=\u001b[0m\u001b[0;36m0\u001b[0m\u001b[0;34m\u001b[0m\u001b[0;34m\u001b[0m\u001b[0m\n",
            "\u001b[0;31mTypeError\u001b[0m: 'int' object is not subscriptable"
          ]
        }
      ]
    },
    {
      "cell_type": "code",
      "metadata": {
        "id": "t4n7uCvK8svB"
      },
      "source": [
        ""
      ],
      "execution_count": null,
      "outputs": []
    },
    {
      "cell_type": "code",
      "metadata": {
        "colab": {
          "base_uri": "https://localhost:8080/"
        },
        "id": "Sllhy9FeBqqq",
        "outputId": "5b19a9e3-ef3f-4c9f-ce80-be6fc4e75711"
      },
      "source": [
        "def get_omelet_ingredients(omelet_name):\n",
        "  ingredients={\"eggs\":2,\"milk\":1}\n",
        "  if omelet_name==\"cheese\":\n",
        "    ingredients[\"cheddar\"]=2\n",
        "  elif omelet_name==\"western\":\n",
        "    #print(\"Yes\")\n",
        "    ingredients[\"jack_cheese\"]=2\n",
        "    ingredients[\"ham\"]    =1\n",
        "    ingredients[\"pepper\"]  =1\n",
        "    ingredients[\"onion\"]  =1\n",
        "  elif omelet_name==\"greek\":\n",
        "    ingredients[\"feta_cheese\"]=2\n",
        "    ingredients[\"spinach\"] =2\n",
        "  else:\n",
        "    print(\"That's not on the menu, sorry!\")\n",
        "    return None\n",
        "  return ingredients\n",
        "\n",
        "\n",
        "wanted_food=\"western\"\n",
        "get_omelet_ingredients(\"western\")\n"
      ],
      "execution_count": null,
      "outputs": [
        {
          "output_type": "stream",
          "name": "stdout",
          "text": [
            "Yes\n"
          ]
        },
        {
          "output_type": "execute_result",
          "data": {
            "text/plain": [
              "{'eggs': 2, 'ham': 1, 'jack_cheese': 2, 'milk': 1, 'onion': 1, 'pepper': 1}"
            ]
          },
          "metadata": {},
          "execution_count": 35
        }
      ]
    },
    {
      "cell_type": "code",
      "metadata": {
        "id": "FqeI6nCXJy0z"
      },
      "source": [
        ""
      ],
      "execution_count": null,
      "outputs": []
    },
    {
      "cell_type": "code",
      "metadata": {
        "id": "50nRFvusGoc6",
        "colab": {
          "base_uri": "https://localhost:8080/",
          "height": 109
        },
        "outputId": "4dbe59f2-65bf-4c45-d0d7-922466f92eab"
      },
      "source": [
        "def make_food(ingredients_needed, food_name):\n",
        "  for ingredient in ingredients_needed.keys():\n",
        "    print(\"Adding %d of %s to make a %s\" %(ingredients_needed[ingredient],ingredient,food_name))\n",
        "  print(\"Made %s\" %food_name)\n",
        "  return food_name\n",
        " \n",
        "\n",
        "def get_omelet_ingredients(omelet_name): #返回字典 材料和数量\n",
        "  ingredients={\"eggs\":2,\"milk\":1}\n",
        "  if omelet_name==\"cheese\":\n",
        "    ingredients[\"cheddar\"]=2\n",
        "  elif omelet_name==\"western\":\n",
        "    #print(\"Yes\")\n",
        "    ingredients[\"jack_cheese\"]=2\n",
        "    ingredients[\"ham\"]    =1\n",
        "    ingredients[\"pepper\"]  =1\n",
        "    ingredients[\"onion\"]  =1\n",
        "  elif omelet_name==\"greek\":\n",
        "    ingredients[\"feta_cheese\"]=2\n",
        "    ingredients[\"spinach\"] =2\n",
        "  else:\n",
        "    print(\"That's not on the menu, sorry!\")\n",
        "    return None\n",
        "  return ingredients\n",
        "\n",
        "def make_omelet(omelet_type):\n",
        "  if type(omelet_type)==type({}):\n",
        "    print(\"omelet_type is a dictionary with ingredients\")\n",
        "    return make_food(omelet_type,\"omelet\")\n",
        "  elif type(omelet_type)==type(\"\"): #获取字典的材料和数量\n",
        "    omelet_ingredients=get_omelet_ingredients(omelet_type)\n",
        "    return make_food(omelet_ingredients,omelet_type)\n",
        "  else:\n",
        "    raise TypeError(\"No such omelet type :%s\" %omelet_type)\n",
        "\n",
        "make_omelet(\"cheese\")\n",
        "\n",
        "#make_omelet({\"egg\":2,\"jack_cheese\":2,\"milk\":1,\"mushrooms\":2}) #直接输入字典"
      ],
      "execution_count": null,
      "outputs": [
        {
          "output_type": "stream",
          "name": "stdout",
          "text": [
            "Adding 2 of eggs to make a cheese\n",
            "Adding 1 of milk to make a cheese\n",
            "Adding 2 of cheddar to make a cheese\n",
            "Made cheese\n"
          ]
        },
        {
          "output_type": "execute_result",
          "data": {
            "application/vnd.google.colaboratory.intrinsic+json": {
              "type": "string"
            },
            "text/plain": [
              "'cheese'"
            ]
          },
          "metadata": {},
          "execution_count": 15
        }
      ]
    },
    {
      "cell_type": "code",
      "metadata": {
        "colab": {
          "base_uri": "https://localhost:8080/"
        },
        "id": "cClc_VQSr8Ps",
        "outputId": "bbe25a13-1274-4d19-b863-4a9ea65969d5"
      },
      "source": [
        "\n",
        "def do_plus(a,b):\n",
        "  y=a+b\n",
        "  return y\n",
        "\n",
        "do_plus(555,5)"
      ],
      "execution_count": null,
      "outputs": [
        {
          "output_type": "execute_result",
          "data": {
            "text/plain": [
              "560"
            ]
          },
          "metadata": {},
          "execution_count": 11
        }
      ]
    },
    {
      "cell_type": "code",
      "metadata": {
        "colab": {
          "base_uri": "https://localhost:8080/"
        },
        "id": "E5mD0RHQtRJs",
        "outputId": "9aa42819-bc7a-45ef-8767-a8145df639bb"
      },
      "source": [
        "def power(x):\n",
        "   return x*x\n",
        "\n",
        "power(25)"
      ],
      "execution_count": null,
      "outputs": [
        {
          "output_type": "execute_result",
          "data": {
            "text/plain": [
              "625"
            ]
          },
          "metadata": {},
          "execution_count": 4
        }
      ]
    },
    {
      "cell_type": "code",
      "metadata": {
        "id": "hO3Tq7XIyRqc"
      },
      "source": [
        "def make_omelet(omelet_type):\n",
        "  if type(omelet_type)==type({}):\n",
        "    print(\"omelet_type is a dictionary with ingredients\")\n",
        "    return make_food(omelet_type,\"omelet\")\n",
        "  elif type(omelet_type)==type(\"\"): #获取字典的材料和数量\n",
        "    omelet_ingredients=get_omelet_ingredients(omelet_type)\n",
        "    return make_food(omelet_ingredients,omelet_type)\n",
        "  else:\n",
        "    raise TypeError(\"No such omelet type :%s\" %omelet_type)"
      ],
      "execution_count": null,
      "outputs": []
    },
    {
      "cell_type": "code",
      "metadata": {
        "id": "A-LaCIx_y2cs"
      },
      "source": [
        "def in_fridge():\n",
        "  \"\"\"this is a function to see if the fridge has a food.\n",
        "  fridge has a dictionary defined outside of the function.\n",
        "  the food to be searched for is in the string wanted_food\"\"\"\n",
        "  try:\n",
        "    count=fridge[wanted_food]\n",
        "  except KeyError:\n",
        "    count=0\n",
        "  return count\n",
        "fridge={\"apples\":10, \"oranges\":3, \"milk\":2}\n",
        "wanted_food=\"milk\"\n",
        "\n",
        "\n",
        "def make_food(ingredients_needed, food_name):\n",
        "  for ingredient in ingredients_needed.keys():\n",
        "    print(\"Adding %d of %s to make a %s\" %(ingredients_needed[ingredient],ingredient,food_name))\n",
        "  print(\"Made %s\" %food_name)\n",
        "  return food_name"
      ],
      "execution_count": null,
      "outputs": []
    },
    {
      "cell_type": "code",
      "metadata": {
        "colab": {
          "base_uri": "https://localhost:8080/"
        },
        "id": "4QNyEy0S0H-u",
        "outputId": "200d3607-8be9-4a70-b217-bb972f0d440c"
      },
      "source": [
        "\n",
        "omelet_type=\"Cheese\"\n",
        "omelet_type.lower()\n",
        "omelet_type.expandtabs()\n",
        "type(omelet_type.__len__)\n",
        "omelet_type.__len__()"
      ],
      "execution_count": null,
      "outputs": [
        {
          "output_type": "execute_result",
          "data": {
            "text/plain": [
              "6"
            ]
          },
          "metadata": {},
          "execution_count": 11
        }
      ]
    },
    {
      "cell_type": "code",
      "metadata": {
        "colab": {
          "base_uri": "https://localhost:8080/"
        },
        "id": "FBgZcABO0utE",
        "outputId": "28fdfbea-e420-492a-f0be-45a0ad08bb53"
      },
      "source": [
        "fridge={\"cheese\":1,\"tomato\":2,\"milk\":4}\n",
        "for x in fridge.keys():\n",
        "  print(x)\n",
        "dir(fridge)"
      ],
      "execution_count": null,
      "outputs": [
        {
          "output_type": "stream",
          "name": "stdout",
          "text": [
            "cheese\n",
            "tomato\n",
            "milk\n"
          ]
        },
        {
          "output_type": "execute_result",
          "data": {
            "text/plain": [
              "['__class__',\n",
              " '__contains__',\n",
              " '__delattr__',\n",
              " '__delitem__',\n",
              " '__dir__',\n",
              " '__doc__',\n",
              " '__eq__',\n",
              " '__format__',\n",
              " '__ge__',\n",
              " '__getattribute__',\n",
              " '__getitem__',\n",
              " '__gt__',\n",
              " '__hash__',\n",
              " '__init__',\n",
              " '__init_subclass__',\n",
              " '__iter__',\n",
              " '__le__',\n",
              " '__len__',\n",
              " '__lt__',\n",
              " '__ne__',\n",
              " '__new__',\n",
              " '__reduce__',\n",
              " '__reduce_ex__',\n",
              " '__repr__',\n",
              " '__setattr__',\n",
              " '__setitem__',\n",
              " '__sizeof__',\n",
              " '__str__',\n",
              " '__subclasshook__',\n",
              " 'clear',\n",
              " 'copy',\n",
              " 'fromkeys',\n",
              " 'get',\n",
              " 'items',\n",
              " 'keys',\n",
              " 'pop',\n",
              " 'popitem',\n",
              " 'setdefault',\n",
              " 'update',\n",
              " 'values']"
            ]
          },
          "metadata": {},
          "execution_count": 6
        }
      ]
    },
    {
      "cell_type": "code",
      "metadata": {
        "colab": {
          "base_uri": "https://localhost:8080/",
          "height": 194
        },
        "id": "5j4iCOpP1Uad",
        "outputId": "f14e20f0-48e7-467e-a94e-a9aa433c4606"
      },
      "source": [
        "o1=Omelet()\n",
        "o1.show_kind()"
      ],
      "execution_count": null,
      "outputs": [
        {
          "output_type": "error",
          "ename": "NameError",
          "evalue": "ignored",
          "traceback": [
            "\u001b[0;31m---------------------------------------------------------------------------\u001b[0m",
            "\u001b[0;31mNameError\u001b[0m                                 Traceback (most recent call last)",
            "\u001b[0;32m<ipython-input-12-bb8b02ce33eb>\u001b[0m in \u001b[0;36m<module>\u001b[0;34m()\u001b[0m\n\u001b[0;32m----> 1\u001b[0;31m \u001b[0mo1\u001b[0m\u001b[0;34m=\u001b[0m\u001b[0mOmelet\u001b[0m\u001b[0;34m(\u001b[0m\u001b[0;34m)\u001b[0m\u001b[0;34m\u001b[0m\u001b[0;34m\u001b[0m\u001b[0m\n\u001b[0m\u001b[1;32m      2\u001b[0m \u001b[0mo1\u001b[0m\u001b[0;34m.\u001b[0m\u001b[0mshow_kind\u001b[0m\u001b[0;34m(\u001b[0m\u001b[0;34m)\u001b[0m\u001b[0;34m\u001b[0m\u001b[0;34m\u001b[0m\u001b[0m\n",
            "\u001b[0;31mNameError\u001b[0m: name 'Omelet' is not defined"
          ]
        }
      ]
    },
    {
      "cell_type": "code",
      "metadata": {
        "colab": {
          "base_uri": "https://localhost:8080/"
        },
        "id": "5mX6VIy32y3s",
        "outputId": "94fac2e4-4603-40d6-cfe9-ad80385ffa0b"
      },
      "source": [
        "#编写类时，先确定功能\n",
        "class Fridge:\n",
        "  #has(food_name [,quantity])\n",
        "  #def has_various(foods)\n",
        "  #def add_one(food_name)\n",
        "  #def add_many(food_dict)\n",
        "  #def get_one(food_name)\n",
        "  #def get_many(food_dict)\n",
        "  #def get_ingredients(food)\n",
        "\n",
        "  def  __add_multi(self,food_name,quantity):\n",
        "      if (not food_name in self.items):\n",
        "        self.items[food_name]=0\n",
        "      self.items[food_name]=self.items[food_name]+quantity\n",
        "  def __init__(self,items={}):\n",
        "    if type(items)!=type({}):\n",
        "      raise TypeError(\"Fridge requires a dictionary but was given %s\" %type(items))\n",
        "    self.items=items\n",
        "    return\n",
        "  def add_one(self,food_name):\n",
        "    if type(food_name)!=type(\"\"):\n",
        "      raise TypeError(\"add_one requires a string ,given a %s\" %type(food_name))\n",
        "    else:\n",
        "      self.__add_multi(food_name,1)\n",
        "    return True\n",
        "  def add_many(self,food_dict):\n",
        "    if type(food_dict)!=type({}):\n",
        "      raise TypeError(\"add_many requires a dictionary ,got a %s\" %food_dict)\n",
        "    for item in food_dict.keys():\n",
        "      self.__add_multi(item,food_dict[item])\n",
        "    return \n",
        "\n",
        "f=Fridge({\"eggs\":6,\"milk\":4,\"cheese\":3})\n",
        "f.items\n",
        "f.add_one(\"grape\")\n",
        "\n",
        "f.add_many({\"mushroom\":5,\"tomato\":4})\n",
        "f.items\n"
      ],
      "execution_count": null,
      "outputs": [
        {
          "output_type": "execute_result",
          "data": {
            "text/plain": [
              "{'cheese': 3, 'eggs': 6, 'grape': 1, 'milk': 4, 'mushroom': 5, 'tomato': 4}"
            ]
          },
          "metadata": {},
          "execution_count": 12
        }
      ]
    },
    {
      "cell_type": "code",
      "metadata": {
        "colab": {
          "base_uri": "https://localhost:8080/"
        },
        "id": "sMPHkpNjJeJN",
        "outputId": "31c0b0ab-06cd-44c3-b64b-1597e0e3b4c8"
      },
      "source": [
        "class Circle(object):\n",
        "  pi=3.14\n",
        "  def __init__(self,r): #self表示类对象，初始化时必须提供self以外的参数\n",
        "    self.r=r\n",
        "  \n",
        "  def get_area(self):   #类中函数同函数不同点是类函数第一个参数必须为self表示类的对象\n",
        "    return self.r**2*self.pi\n",
        " \n",
        "circle1=Circle(3)\n",
        "print(circle1.get_area())\n",
        "#circle2=Circle(2)\n",
        "#circle1.r=1\n",
        "#circle2.r=2\n",
        "#print(circle1.r)\n",
        "#print(circle2.r)\n",
        "#print(\"--未修改前—\")\n",
        "#print(\"pi=\\t\",Circle.pi)\n",
        "#print(\"circle1.pi=\\t\",circle1.pi)\n",
        "#print(\"circle2.pi=\\t\",circle2.pi)"
      ],
      "execution_count": null,
      "outputs": [
        {
          "output_type": "stream",
          "name": "stdout",
          "text": [
            "28.26\n"
          ]
        }
      ]
    },
    {
      "cell_type": "code",
      "metadata": {
        "id": "-cWrBWszQDnN"
      },
      "source": [
        ""
      ],
      "execution_count": null,
      "outputs": []
    },
    {
      "cell_type": "code",
      "metadata": {
        "colab": {
          "base_uri": "https://localhost:8080/"
        },
        "id": "m-N7xKnBPVye",
        "outputId": "5e1fc2ae-2107-4231-aa5d-bfcc9a34d9c4"
      },
      "source": [
        "class Circle(): #object\n",
        "  pi=3.14\n",
        "  def __init__(self,r): #self表示类对象，初始化时必须提供self以外的参数\n",
        "    self.r=r\n",
        "\n",
        "  def get_area(self):\n",
        "    # s=self.r**2*self.pi\n",
        "    return self.r**2*self.pi\n",
        "\"\"\"类中函数同函数不同点是类函数第一个参数必须为self表示类的对象\"\"\"      \n",
        "circle1=Circle(4)\n",
        "print(circle1.get_area()) #调用方法self不需要传入参数。"
      ],
      "execution_count": null,
      "outputs": [
        {
          "output_type": "stream",
          "name": "stdout",
          "text": [
            "50.24\n"
          ]
        }
      ]
    },
    {
      "cell_type": "code",
      "metadata": {
        "colab": {
          "base_uri": "https://localhost:8080/"
        },
        "id": "jFAiXl15hnSZ",
        "outputId": "b58f8695-6bc1-4248-b070-4f61133b2887"
      },
      "source": [
        "#制作一个机器，可以批量制作鸭子形状的玩具\n",
        "def makeDuckMoth():\n",
        "  print(\"鸭子嘴巴制作完成\")\n",
        "def makeDuckEar():\n",
        "  print(\"鸭子耳朵制作完成\")\n",
        "def makeDuckEye():\n",
        "  print(\"鸭眼睛制作完成\")\n",
        "def makeDuckHead():\n",
        "  print(\"鸭头制作完成\")\n",
        "def makeDuckBody():\n",
        "  print(\"鸭身体制作完毕\")\n",
        "def makeDuckFoot():\n",
        "  print(\"鸭脚制作完毕\")\n",
        "def makeDuckMerge():\n",
        "  print(\"鸭子组装完毕\")\n",
        "makeDuckMoth()\n",
        "makeDuckEar()\n",
        "makeDuckEye()\n",
        "makeDuckHead()\n",
        "makeDuckBody()\n",
        "makeDuckFoot()\n",
        "makeDuckMerge()"
      ],
      "execution_count": null,
      "outputs": [
        {
          "output_type": "stream",
          "name": "stdout",
          "text": [
            "鸭子嘴巴制作完成\n",
            "鸭子耳朵制作完成\n",
            "鸭眼睛制作完成\n",
            "鸭头制作完成\n",
            "鸭身体制作完毕\n",
            "鸭脚制作完毕\n",
            "鸭子组装完毕\n"
          ]
        }
      ]
    },
    {
      "cell_type": "code",
      "metadata": {
        "colab": {
          "base_uri": "https://localhost:8080/"
        },
        "id": "LhUcnETrjSwB",
        "outputId": "1a42303e-a663-488a-af65-5e4ea0affcad"
      },
      "source": [
        "#制作一个机器，可以批量制作猪形状的玩具\n",
        "def makePigMoth():\n",
        "  print(\"猪嘴巴制作完成\")\n",
        "def makePigEar():\n",
        "  print(\"猪耳朵制作完成\")\n",
        "def makePigEye():\n",
        "  print(\"猪眼睛制作完成\")\n",
        "def makePigHead():\n",
        "  print(\"猪头制作完成\")\n",
        "def makePigBody():\n",
        "  print(\"猪身体制作完毕\")\n",
        "def makePigFoot():\n",
        "  print(\"猪脚制作完毕\")\n",
        "def makePigMerge():\n",
        "  print(\"猪组装完毕\")\n",
        "makePigMoth()\n",
        "makePigEar()\n",
        "makePigEye()\n",
        "makePigHead()\n",
        "makePigBody()\n",
        "makePigFoot()\n",
        "makePigMerge()"
      ],
      "execution_count": null,
      "outputs": [
        {
          "output_type": "stream",
          "name": "stdout",
          "text": [
            "猪嘴巴制作完成\n",
            "猪耳朵制作完成\n",
            "猪眼睛制作完成\n",
            "猪头制作完成\n",
            "猪身体制作完毕\n",
            "猪脚制作完毕\n",
            "猪组装完毕\n"
          ]
        }
      ]
    },
    {
      "cell_type": "code",
      "metadata": {
        "colab": {
          "base_uri": "https://localhost:8080/"
        },
        "id": "b-J_UvP_kxFi",
        "outputId": "e1f1a4ba-60da-403e-8a75-f56a95eb5a61"
      },
      "source": [
        "class Animal(object):\n",
        "  def __init__(self,name):\n",
        "    self.name=name\n",
        "  def makeMoth(self):\n",
        "    print(self.name+\"的嘴巴 制作完成\")\n",
        "  def makeEar(self):\n",
        "    print(self.name+\"的耳朵 制作完成\")\n",
        "  def makeEye(self):\n",
        "    print(self.name+\"的眼睛 制作完成\")\n",
        "  def makeHead(self):\n",
        "    print(self.name+\"的头 制作完成\")\n",
        "  def makeBody(self):\n",
        "    print(self.name+\"的身体 制作完成\")\n",
        "  def makeMerge(self):\n",
        "    print(self.name+\"合并完成\")\n",
        "  def makeAll(self):\n",
        "    self.makeMoth()\n",
        "    self.makeEar()\n",
        "    self.makeEye()\n",
        "    self.makeHead()\n",
        "    self.makeBody()\n",
        "    self.makeMerge()\n",
        "\n",
        "Pig=Animal(\"鸭\")\n",
        "Pig.makeAll()"
      ],
      "execution_count": null,
      "outputs": [
        {
          "output_type": "stream",
          "name": "stdout",
          "text": [
            "鸭的嘴巴 制作完成\n",
            "鸭的耳朵 制作完成\n",
            "鸭的眼睛 制作完成\n",
            "鸭的头 制作完成\n",
            "鸭的身体 制作完成\n",
            "鸭合并完成\n"
          ]
        }
      ]
    },
    {
      "cell_type": "code",
      "metadata": {
        "colab": {
          "base_uri": "https://localhost:8080/"
        },
        "id": "p_BJMd7Uswtl",
        "outputId": "ee4eec97-1ecd-4198-a1c8-7d0d19aa510c"
      },
      "source": [
        "class Duck(Animal):\n",
        "  def makeMoth(self):\n",
        "    print(self.name+\"的嘴巴 制作完成\")\n",
        "  def makeEar(self):\n",
        "    print(self.name+\"的耳朵 制作完成\")\n",
        "  def makeEye(self):\n",
        "    print(self.name+\"的眼睛 制作完成\")\n",
        "  def makeHead(self):\n",
        "    print(self.name+\"的头 制作完成\")\n",
        "  def makeFoot(self):\n",
        "    print(self.name+\"的脚 制作完成\")\n",
        "  def makeMerge(self):\n",
        "    print(self.name+\"合并完成\")\n",
        "  def makeWing(self):\n",
        "    print(self.name+\"的翅膀 制作完成\")\n",
        "  def makeAll(self):\n",
        "    self.makeMoth()\n",
        "    self.makeEar()\n",
        "    self.makeEye()\n",
        "    self.makeHead()\n",
        "    self.makeFoot()\n",
        "    self.makeMerge()\n",
        "    self.makeWing()\n",
        "\n",
        "duck1=Duck(\"Duck\")\n",
        "duck1.makeAll()   #以后要制作狗/鸡/牛/企鹅都可以从Animal继承"
      ],
      "execution_count": null,
      "outputs": [
        {
          "output_type": "stream",
          "name": "stdout",
          "text": [
            "Duck的嘴巴 制作完成\n",
            "Duck的耳朵 制作完成\n",
            "Duck的眼睛 制作完成\n",
            "Duck的头 制作完成\n",
            "Duck的脚 制作完成\n",
            "Duck合并完成\n",
            "Duck的翅膀 制作完成\n"
          ]
        }
      ]
    },
    {
      "cell_type": "code",
      "metadata": {
        "colab": {
          "base_uri": "https://localhost:8080/"
        },
        "id": "JAz4xn3Fuiir",
        "outputId": "f572b2ea-b159-439e-f970-5872adaa346e"
      },
      "source": [
        "#如果要做个别的，建立一个足够通用基类，慢慢扩展\n",
        "class Weishengwu(object):\n",
        "  def __init__(self,name):\n",
        "    self.name=name\n",
        "  def eat(self):\n",
        "    print(\"吃东西\")\n",
        "\n",
        "class Fish(Weishengwu):\n",
        "  def move(self):\n",
        "    print(self.name+\"会移动\")\n",
        "    \n",
        "\n",
        "class Monkey(Fish):\n",
        "  def __init__(self,name,love):\n",
        "    self.name=name\n",
        "    self.love=love\n",
        "  def eat(self):\n",
        "    print(self.name+\"牙齿吃东西\")\n",
        "    print(self.love+\"会爱\")\n",
        "  def move(self):\n",
        "    print(self.name+\"脚移动\")\n",
        "  def Pashu(self):\n",
        "    print(self.name+\"会爬树\")\n",
        "\n",
        "\n",
        "#fish=Fish(\"鱼\")\n",
        "#fish.move()\n",
        "\n",
        "monkey1=Monkey(\"猴子的\",\"love\")\n",
        "monkey1.eat()\n"
      ],
      "execution_count": null,
      "outputs": [
        {
          "output_type": "stream",
          "name": "stdout",
          "text": [
            "猴子的牙齿吃东西\n",
            "love会爱\n"
          ]
        }
      ]
    },
    {
      "cell_type": "code",
      "metadata": {
        "colab": {
          "base_uri": "https://localhost:8080/"
        },
        "id": "dOJTgvQyoGdU",
        "outputId": "ee3cf51d-1e69-4683-e6bf-e2d6c7bc10f2"
      },
      "source": [
        "class TestSelf:\n",
        "  def self_id(self):\n",
        "    return self\n",
        "\n",
        "t1=TestSelf()\n",
        "print(t1)\n",
        "print(t1.self_id())"
      ],
      "execution_count": null,
      "outputs": [
        {
          "output_type": "stream",
          "name": "stdout",
          "text": [
            "<__main__.TestSelf object at 0x7fb2d7071850>\n",
            "<__main__.TestSelf object at 0x7fb2d7071850>\n"
          ]
        }
      ]
    },
    {
      "cell_type": "code",
      "metadata": {
        "colab": {
          "base_uri": "https://localhost:8080/"
        },
        "id": "itdtz-6lsYls",
        "outputId": "35592844-534f-46d3-d44d-3f26a47088bd"
      },
      "source": [
        "class 人:\n",
        "  age=10\n",
        "  def 变老一岁(对象自己):\n",
        "    对象自己.age=对象自己.age+1\n",
        "    return 对象自己.age\n",
        "\n",
        "张三=人()\n",
        "李四=人()\n",
        "print(张三.变老一岁())\n",
        "print(李四.变老一岁())"
      ],
      "execution_count": null,
      "outputs": [
        {
          "output_type": "stream",
          "name": "stdout",
          "text": [
            "11\n",
            "11\n"
          ]
        }
      ]
    },
    {
      "cell_type": "code",
      "metadata": {
        "id": "65u80leOzJcu"
      },
      "source": [
        "\"\"\"Python中为什么要使用类，编程语言和人类语言一样，通过最简单高效的语言告诉电脑，要做什么，\n",
        "换句话说，你是上帝，用编程语言从无到有创造一个世界。我们肯定是一类一类创造，应该有人类、鸟类、鱼类，而不是\n",
        "一个一个创造. 类有属性 身高等，另一个具备的功能如会说话，会数学\"\"\""
      ],
      "execution_count": null,
      "outputs": []
    },
    {
      "cell_type": "code",
      "metadata": {
        "colab": {
          "base_uri": "https://localhost:8080/"
        },
        "id": "pBSerNfyzz6V",
        "outputId": "00068327-80fe-4372-c3f5-60ccee95bc35"
      },
      "source": [
        "class Person(object):\n",
        "  class_name=\"人类\"\n",
        "\n",
        "  def __init__(self,name,birth):\n",
        "    self.name=name\n",
        "    self.birth=birth\n",
        "    self.height=170\n",
        "    self.legs=2\n",
        "  \n",
        "  def say(self):\n",
        "    print(\"我的姓名：\",self.name)\n",
        "    print(\"我出生于:\",self.birth)\n",
        "  def jiafa(self,x,y):\n",
        "    return x+y\n",
        "\n",
        "print(Person.class_name)\n",
        "\n",
        "\n",
        "\n",
        "zhangsan=Person(\"张三\",\"1980-11-21\")\n",
        "\n",
        "print(zhangsan.class_name)\n",
        "zhangsan.say()\n",
        "print(zhangsan.jiafa(1,2))"
      ],
      "execution_count": null,
      "outputs": [
        {
          "output_type": "stream",
          "name": "stdout",
          "text": [
            "人类\n",
            "人类\n",
            "我的姓名： 张三\n",
            "我出生于: 1980-11-21\n",
            "3\n"
          ]
        }
      ]
    },
    {
      "cell_type": "code",
      "metadata": {
        "colab": {
          "base_uri": "https://localhost:8080/"
        },
        "id": "jylDLRQ-Dfw_",
        "outputId": "bd0cf10d-949c-4e1d-ce93-5343a2da2410"
      },
      "source": [
        "a=2\n",
        "print(type(2))\n",
        "dir(a)\n",
        "print(a.numerator)"
      ],
      "execution_count": null,
      "outputs": [
        {
          "output_type": "stream",
          "name": "stdout",
          "text": [
            "<class 'int'>\n",
            "2\n"
          ]
        }
      ]
    },
    {
      "cell_type": "markdown",
      "metadata": {
        "id": "2ZO1mdKcP2zh"
      },
      "source": [
        ""
      ]
    },
    {
      "cell_type": "markdown",
      "metadata": {
        "id": "abJz6_GUP3_u"
      },
      "source": [
        "# Python 解题实例"
      ]
    },
    {
      "cell_type": "markdown",
      "metadata": {
        "id": "YPDxefmCvWiA"
      },
      "source": [
        "# 新段落"
      ]
    },
    {
      "cell_type": "code",
      "metadata": {
        "colab": {
          "base_uri": "https://localhost:8080/"
        },
        "id": "2_jqR_RbQA0w",
        "outputId": "31630beb-8ee7-46ca-a8c3-570b6b553929"
      },
      "source": [
        "num=0\n",
        "for a in range(1,5):\n",
        "  for b in range(1,5):\n",
        "    for c in range(1,5):\n",
        "      if(a!=b)and(a!=c)and(b!=c):\n",
        "        print(a,b,c)\n",
        "        num+=1\n",
        "print(\"总数目为：%d\" %num)\n"
      ],
      "execution_count": null,
      "outputs": [
        {
          "output_type": "stream",
          "name": "stdout",
          "text": [
            "1 2 3\n",
            "1 2 4\n",
            "1 3 2\n",
            "1 3 4\n",
            "1 4 2\n",
            "1 4 3\n",
            "2 1 3\n",
            "2 1 4\n",
            "2 3 1\n",
            "2 3 4\n",
            "2 4 1\n",
            "2 4 3\n",
            "3 1 2\n",
            "3 1 4\n",
            "3 2 1\n",
            "3 2 4\n",
            "3 4 1\n",
            "3 4 2\n",
            "4 1 2\n",
            "4 1 3\n",
            "4 2 1\n",
            "4 2 3\n",
            "4 3 1\n",
            "4 3 2\n",
            "总数目为：24\n"
          ]
        }
      ]
    },
    {
      "cell_type": "code",
      "metadata": {
        "colab": {
          "base_uri": "https://localhost:8080/"
        },
        "id": "AwOhkrnqRf4Z",
        "outputId": "75b06c9a-b3d2-4c8e-eb3c-4ee9e6394c45"
      },
      "source": [
        "probit=int(input(\"当月利润：\\n\"))\n",
        "if(probit<=100000):\n",
        "  jiangjin=probit*0.1\n",
        "elif (100000<probit<200000):\n",
        "  jiangjin=100000*0.1+(probit-100000)*0.075\n",
        "elif (200000<=probit<400000):\n",
        "  jiangjin=100000*0.1+100000*0.075+(probit-200000)*0.05\n",
        "elif (400000<=probit<600000):\n",
        "  jiangjin=100000*0.1+100000*0.075+200000*0.05+(probit-400000)*0.03\n",
        "elif (600000<=probit<1000000):\n",
        "  jiangjin=100000*0.1+100000*0.075+200000*0.05+200000*0.03+(probit-600000)*0.015\n",
        "else :\n",
        "  jiangjin=100000*0.1+100000*0.075+200000*0.05+200000*0.03+400000*0.015+(probit-1000000)*0.01\n",
        "\n",
        "print(\"获取的奖金总数目为：%d\" %jiangjin)"
      ],
      "execution_count": null,
      "outputs": [
        {
          "output_type": "stream",
          "name": "stdout",
          "text": [
            "当月利润：\n",
            "2000000\n",
            "获取的奖金总数目为：49500\n"
          ]
        }
      ]
    },
    {
      "cell_type": "code",
      "metadata": {
        "colab": {
          "base_uri": "https://localhost:8080/"
        },
        "id": "PvYxknj_VNLq",
        "outputId": "8be17fb7-7272-477c-aa09-c23f814ea3da"
      },
      "source": [
        "n=0\n",
        "while (n+1)**2-n*n<=168:\n",
        "  n+=1\n",
        "\n",
        "print(n)\n",
        "\n",
        "for i in range((n+1)**2):\n",
        "  if i**0.5==int(i**0.5) and (i+168)**0.5==int((i+168)**0.5) :\n",
        "    print(i-100)\n"
      ],
      "execution_count": null,
      "outputs": [
        {
          "output_type": "stream",
          "name": "stdout",
          "text": [
            "84\n",
            "-99\n",
            "21\n",
            "261\n",
            "1581\n",
            "17.0\n"
          ]
        }
      ]
    },
    {
      "cell_type": "code",
      "metadata": {
        "colab": {
          "base_uri": "https://localhost:8080/"
        },
        "id": "_sT_azJMZgMS",
        "outputId": "9ed6fa6d-ebe6-4780-9732-13515e9cb847"
      },
      "source": [
        "a=int(input(\"输入第1个数:\\n\"))\n",
        "b=int(input(\"输入第2个数:\\n\"))\n",
        "c=int(input(\"输入第3个数:\\n\"))\n",
        "if(a<b)and(a<c)and(b<c):\n",
        "  print(a,b,c)\n",
        "elif(a<b)and(a<c)and(c<b):\n",
        "  print(a,c,b)\n",
        "elif(b<a)and(b<c)and(a<c):\n",
        "  print(b,a,c)\n",
        "elif(b<a)and(b<c)and(c<a):\n",
        "  print(b,c,a)\n",
        "elif(c<a)and(c<b)and(a<b):\n",
        "  print(c,a,b)\n",
        "else:\n",
        "  print(c,b,a)"
      ],
      "execution_count": null,
      "outputs": [
        {
          "output_type": "stream",
          "name": "stdout",
          "text": [
            "输入第1个数:\n",
            "500\n",
            "输入第2个数:\n",
            "20\n",
            "输入第3个数:\n",
            "30\n",
            "20 30 500\n"
          ]
        }
      ]
    },
    {
      "cell_type": "code",
      "metadata": {
        "colab": {
          "base_uri": "https://localhost:8080/"
        },
        "id": "aHmEwV3icCZm",
        "outputId": "7b85bca5-9250-4a95-f828-dc8691183105"
      },
      "source": [
        "raw=[]\n",
        "for i in range(3):\n",
        "  x=int(input(\"输入的数为:\\n\" ))\n",
        "  raw.append(x)\n",
        "print(sorted(raw))"
      ],
      "execution_count": null,
      "outputs": [
        {
          "output_type": "stream",
          "name": "stdout",
          "text": [
            "输入的数为:\n",
            "11\n",
            "输入的数为:\n",
            "25\n",
            "输入的数为:\n",
            "9\n",
            "[9, 11, 25]\n"
          ]
        }
      ]
    },
    {
      "cell_type": "code",
      "metadata": {
        "colab": {
          "base_uri": "https://localhost:8080/"
        },
        "id": "YHGiMJpr6emw",
        "outputId": "60ac7f09-d827-4e11-d51c-074fcb9012b1"
      },
      "source": [
        "n=int(input(\"输入的数为：\"))\n",
        "for i in range(1,n):\n",
        "  b=i+1\n",
        "  a=b+i\n",
        "  #i=i+1\n",
        "  print(a)"
      ],
      "execution_count": null,
      "outputs": [
        {
          "output_type": "stream",
          "name": "stdout",
          "text": [
            "输入的数为：12\n",
            "3\n",
            "5\n",
            "7\n",
            "9\n",
            "11\n",
            "13\n",
            "15\n",
            "17\n",
            "19\n",
            "21\n",
            "23\n"
          ]
        }
      ]
    },
    {
      "cell_type": "code",
      "metadata": {
        "colab": {
          "base_uri": "https://localhost:8080/"
        },
        "id": "YwJYHPeo86Y2",
        "outputId": "dcdc7a4a-8ff6-40f9-c6ac-45f90ad6f270"
      },
      "source": [
        "raw=[]\n",
        "for i in range(3):\n",
        "  x=input()\n",
        "  raw.append(x)\n",
        "\n",
        "print(raw)\n",
        "b=raw\n",
        "print(b)\n",
        "c=raw[:]\n",
        "print(c)"
      ],
      "execution_count": null,
      "outputs": [
        {
          "output_type": "stream",
          "name": "stdout",
          "text": [
            "2\n",
            "3\n",
            "1\n",
            "['2', '3', '1']\n",
            "['2', '3', '1']\n",
            "['2', '3', '1']\n"
          ]
        }
      ]
    },
    {
      "cell_type": "code",
      "metadata": {
        "colab": {
          "base_uri": "https://localhost:8080/"
        },
        "id": "06nh1uo9-1Ke",
        "outputId": "9498d611-9d71-486c-a6f8-c167269aca26"
      },
      "source": [
        "for i in range(1,10):\n",
        "  for j in range(1,i+1):\n",
        "    print(\"%dx%d=%d\\t\" %(j,i,i*j),end='')\n",
        "  print(\"\\n\")"
      ],
      "execution_count": null,
      "outputs": [
        {
          "output_type": "stream",
          "name": "stdout",
          "text": [
            "1x1=1\t\n",
            "\n",
            "1x2=2\t2x2=4\t\n",
            "\n",
            "1x3=3\t2x3=6\t3x3=9\t\n",
            "\n",
            "1x4=4\t2x4=8\t3x4=12\t4x4=16\t\n",
            "\n",
            "1x5=5\t2x5=10\t3x5=15\t4x5=20\t5x5=25\t\n",
            "\n",
            "1x6=6\t2x6=12\t3x6=18\t4x6=24\t5x6=30\t6x6=36\t\n",
            "\n",
            "1x7=7\t2x7=14\t3x7=21\t4x7=28\t5x7=35\t6x7=42\t7x7=49\t\n",
            "\n",
            "1x8=8\t2x8=16\t3x8=24\t4x8=32\t5x8=40\t6x8=48\t7x8=56\t8x8=64\t\n",
            "\n",
            "1x9=9\t2x9=18\t3x9=27\t4x9=36\t5x9=45\t6x9=54\t7x9=63\t8x9=72\t9x9=81\t\n",
            "\n"
          ]
        }
      ]
    },
    {
      "cell_type": "code",
      "metadata": {
        "colab": {
          "base_uri": "https://localhost:8080/"
        },
        "id": "RUstaeXqOv-9",
        "outputId": "7012614a-6bbc-4509-8801-af955e780914"
      },
      "source": [
        "tuzi_1=1\n",
        "tuzi_2=0\n",
        "tuzi_3=0\n",
        "tuzi_ender=0\n",
        "month=int(input(\"繁殖的月份数为：\"))\n",
        "for i in range(month):\n",
        "  #tuzi_1=tuzi_ender+tuzi_3\n",
        "  #tuzi_2=tuzi_1\n",
        "  #tuzi_3=tuzi_2\n",
        "  #tuzi_ender=tuzi_ender+tuzi_3 平衡加法和顺序加法的区别\n",
        "  tuzi_1,tuzi_2,tuzi_3,tuzi_ender=tuzi_ender+tuzi_3,tuzi_1,tuzi_2,tuzi_ender+tuzi_3\n",
        "print(\"第%d个月共:\"%(i+1),tuzi_1+tuzi_2+tuzi_3+tuzi_ender,\"对兔子\")\n",
        "print(\"其中1月兔有：\",tuzi_1)\n",
        "print(\"其中2月兔有：\",tuzi_2)\n",
        "print(\"其中3月兔有：\",tuzi_3)\n",
        "print(\"其中4月兔有：\",tuzi_ender)\n",
        "\n"
      ],
      "execution_count": null,
      "outputs": [
        {
          "output_type": "stream",
          "name": "stdout",
          "text": [
            "繁殖的月份数为：100\n",
            "第100个月共: 24382819596721629 对兔子\n",
            "其中1月兔有： 7745743850155768\n",
            "其中2月兔有： 5285136390291172\n",
            "其中3月兔有： 3606195506118921\n",
            "其中4月兔有： 7745743850155768\n"
          ]
        }
      ]
    },
    {
      "cell_type": "code",
      "metadata": {
        "id": "9CrpMqnCY5a3"
      },
      "source": [
        "\n",
        "#j=int (200**0.5) #跳出循环的用法\n",
        "\n",
        "for i in range(101,200):\n",
        "  flag=0\n",
        "  for j in range(2,int (200**0.5)):\n",
        "    if i%j==0:\n",
        "      flag=1\n",
        "      break\n",
        "  if flag:\n",
        "    continue\n",
        "  print(i)"
      ],
      "execution_count": null,
      "outputs": []
    },
    {
      "cell_type": "code",
      "metadata": {
        "colab": {
          "base_uri": "https://localhost:8080/"
        },
        "id": "tR20XkUm2unB",
        "outputId": "3e3cf967-f21e-41d3-97ad-44f191408805"
      },
      "source": [
        "for i in range(101,200):\n",
        "  \n",
        "  for j in range(2,int (200**0.5)):\n",
        "    if i%j==0:\n",
        "      \n",
        "      break\n",
        "  else:\n",
        "    print(i)"
      ],
      "execution_count": null,
      "outputs": [
        {
          "output_type": "stream",
          "name": "stdout",
          "text": [
            "101\n",
            "103\n",
            "107\n",
            "109\n",
            "113\n",
            "127\n",
            "131\n",
            "137\n",
            "139\n",
            "149\n",
            "151\n",
            "157\n",
            "163\n",
            "167\n",
            "173\n",
            "179\n",
            "181\n",
            "191\n",
            "193\n",
            "197\n",
            "199\n"
          ]
        }
      ]
    },
    {
      "cell_type": "code",
      "metadata": {
        "colab": {
          "base_uri": "https://localhost:8080/"
        },
        "id": "FiDChpms3MJy",
        "outputId": "d5fc23c6-db12-4a2c-fbf8-6c96200e7992"
      },
      "source": [
        "for i in range(100,1000):\n",
        "  x=i//100\n",
        "  y=(i//10)%10\n",
        "  z=i%10\n",
        "  if x**3+y**3+z**3==i :\n",
        "    print(i)\n"
      ],
      "execution_count": null,
      "outputs": [
        {
          "output_type": "stream",
          "name": "stdout",
          "text": [
            "153\n",
            "370\n",
            "371\n",
            "407\n"
          ]
        }
      ]
    },
    {
      "cell_type": "code",
      "metadata": {
        "colab": {
          "base_uri": "https://localhost:8080/"
        },
        "id": "YLHJsiyJTXqQ",
        "outputId": "9e21acb6-55be-40c2-a836-5e90ea02f272"
      },
      "source": [
        "tar=int(input(\"输入的数是：\"))\n",
        "type(tar)\n",
        "print(tar,\"=\",end='')\n",
        "flag=0\n",
        "while True:\n",
        "  if flag==1:\n",
        "    break\n",
        "  for i in range(2,int(tar+1)):\n",
        "    if tar%i==0:\n",
        "      print(i ,end='')\n",
        "      if tar==i:\n",
        "        flag=1\n",
        "        break\n",
        "      print(\"*\",end='')\n",
        "      tar=tar/i\n",
        "      break\n",
        "      "
      ],
      "execution_count": null,
      "outputs": [
        {
          "output_type": "stream",
          "name": "stdout",
          "text": [
            "输入的数是：90\n",
            "90 =2*3*3*5"
          ]
        }
      ]
    },
    {
      "cell_type": "code",
      "metadata": {
        "colab": {
          "base_uri": "https://localhost:8080/"
        },
        "id": "2h5kobIKftbl",
        "outputId": "45d509b4-6955-470b-9c5b-241b13623960"
      },
      "source": [
        "tar=int(input(\"输入的分数是：\"))\n",
        "if tar>=90:\n",
        "  print(\"A\")\n",
        "elif 60<=tar<90:\n",
        "  print(\"B\")\n",
        "else:\n",
        "  print(\"C\")"
      ],
      "execution_count": null,
      "outputs": [
        {
          "output_type": "stream",
          "name": "stdout",
          "text": [
            "输入的分数是：96\n",
            "A\n"
          ]
        }
      ]
    },
    {
      "cell_type": "code",
      "metadata": {
        "colab": {
          "base_uri": "https://localhost:8080/"
        },
        "id": "lF5ZP6Ny6i9E",
        "outputId": "d97537ac-8044-4f15-8a9e-7c25fbe8ec45"
      },
      "source": [
        "string=input(\"输入的字符串为：\")\n",
        "print(string)\n",
        "zimu=0\n",
        "shuzi=0\n",
        "kongge=0\n",
        "qita=0\n",
        "for i in range(len(string)):\n",
        "  if string[i].isalpha()==True:\n",
        "    zimu=zimu+1\n",
        "  elif string[i].isdigit()==True:\n",
        "    shuzi+=1\n",
        "  elif string[i].isspace()==True:\n",
        "    kongge+=1\n",
        "  else:\n",
        "    qita+=1\n",
        "\n",
        "print(zimu,shuzi,kongge,qita)"
      ],
      "execution_count": null,
      "outputs": [
        {
          "output_type": "stream",
          "name": "stdout",
          "text": [
            "输入的字符串为：sadf123456   safd...,,,'''\n",
            "sadf123456   safd...,,,'''\n",
            "8 6 3 9\n"
          ]
        }
      ]
    },
    {
      "cell_type": "code",
      "metadata": {
        "id": "-Vphy5oIebPL"
      },
      "source": [
        ""
      ],
      "execution_count": null,
      "outputs": []
    },
    {
      "cell_type": "code",
      "metadata": {
        "colab": {
          "base_uri": "https://localhost:8080/"
        },
        "id": "Y_cujFZ-ea_C",
        "outputId": "db180fb6-fc19-4c9d-8107-0baf5a38f2e3"
      },
      "source": [
        "a=input(\"输入的数为：\")\n",
        "#type(a)\n",
        "b=0\n",
        "n=int(input(\"输入的几个数相加\"))\n",
        "for i in range(n):\n",
        "  b=b+int(a) #每个数相加\n",
        "  a=a+a[0]#生成每个数\n",
        "  print(\"%s\\n\" %a)\n",
        "print(b)\n"
      ],
      "execution_count": null,
      "outputs": [
        {
          "output_type": "stream",
          "name": "stdout",
          "text": [
            "输入的数为：2\n",
            "输入的几个数相加5\n",
            "22\n",
            "\n",
            "222\n",
            "\n",
            "2222\n",
            "\n",
            "22222\n",
            "\n",
            "222222\n",
            "\n",
            "24690\n"
          ]
        }
      ]
    },
    {
      "cell_type": "markdown",
      "metadata": {
        "id": "FqjjYM3kvdwu"
      },
      "source": [
        "# 新段落"
      ]
    },
    {
      "cell_type": "code",
      "metadata": {
        "colab": {
          "base_uri": "https://localhost:8080/"
        },
        "id": "1iIGSU_CuqlE",
        "outputId": "24d930de-bac4-46ee-aff3-ef201d0c905e"
      },
      "source": [
        "def factor (num):\n",
        "\n",
        "  jieguo=set()\n",
        "  for i in range(1,int(num+1)):\n",
        "    if num%i==0:\n",
        "      jieguo.add(i)\n",
        "      #jieguo.add(num/i)\n",
        "  return jieguo\n",
        "factor(6)\n",
        "\n",
        "for i in range(2,1001):\n",
        "  if i==sum(factor(i))-i:\n",
        "    print(\"%d \\t\" %i)"
      ],
      "execution_count": null,
      "outputs": [
        {
          "output_type": "stream",
          "name": "stdout",
          "text": [
            "6 \t\n",
            "28 \t\n",
            "496 \t\n"
          ]
        }
      ]
    },
    {
      "cell_type": "code",
      "metadata": {
        "colab": {
          "base_uri": "https://localhost:8080/"
        },
        "id": "yo63VHi-xeWc",
        "outputId": "0211cc3b-e05b-4f41-ddce-ace37acfdbe6"
      },
      "source": [
        "high=100\n",
        "total=100\n",
        "for i in range(10):\n",
        "  high=high/2\n",
        "  total=total+2*high\n",
        "  print(high)\n",
        "print(\"总长：\",total)"
      ],
      "execution_count": null,
      "outputs": [
        {
          "output_type": "stream",
          "name": "stdout",
          "text": [
            "50.0\n",
            "25.0\n",
            "12.5\n",
            "6.25\n",
            "3.125\n",
            "1.5625\n",
            "0.78125\n",
            "0.390625\n",
            "0.1953125\n",
            "0.09765625\n",
            "总长： 299.8046875\n"
          ]
        }
      ]
    },
    {
      "cell_type": "code",
      "metadata": {
        "colab": {
          "base_uri": "https://localhost:8080/"
        },
        "id": "XZ_4jbCKH3T_",
        "outputId": "741447f3-83dd-45a2-b422-0a6f1dd77cde"
      },
      "source": [
        "total=1\n",
        "for i in range(9):\n",
        "  total=total*2+1\n",
        "print(total)"
      ],
      "execution_count": null,
      "outputs": [
        {
          "output_type": "stream",
          "name": "stdout",
          "text": [
            "1023\n"
          ]
        }
      ]
    },
    {
      "cell_type": "code",
      "metadata": {
        "colab": {
          "base_uri": "https://localhost:8080/"
        },
        "id": "Gch1fv1TIgpb",
        "outputId": "7884b293-b5db-4a0e-e90a-3daf63d8ac7b"
      },
      "source": [
        "a=set(['x','y','z'])\n",
        "b=set(['x','y','z'])\n",
        "c=set(['x','y','z'])\n",
        "c=c-set(['x','z'])\n",
        "a=a-set('x')\n",
        "for i in a:\n",
        "  for j in b:\n",
        "    for k in c:\n",
        "      if len(set((i,j,k)))==3:\n",
        "        #print(i,j,k)\n",
        "        print(\"a=%s,b=%s,c=%s\" %(i,j,k))"
      ],
      "execution_count": null,
      "outputs": [
        {
          "output_type": "stream",
          "name": "stdout",
          "text": [
            "a=z,b=x,c=y\n"
          ]
        }
      ]
    },
    {
      "cell_type": "code",
      "metadata": {
        "colab": {
          "base_uri": "https://localhost:8080/"
        },
        "id": "Sf5ac8vjsKLW",
        "outputId": "1b4ba169-c78b-41ce-ac8a-ba9c908784fe"
      },
      "source": [
        "def sum_cycle(n):\n",
        "  sum=0\n",
        "  for i in range(n+1):\n",
        "    sum=sum+i\n",
        "  return (sum)\n",
        "sum_cycle(100)"
      ],
      "execution_count": null,
      "outputs": [
        {
          "output_type": "execute_result",
          "data": {
            "text/plain": [
              "5050"
            ]
          },
          "metadata": {},
          "execution_count": 2
        }
      ]
    },
    {
      "cell_type": "code",
      "metadata": {
        "colab": {
          "base_uri": "https://localhost:8080/"
        },
        "id": "2f07TjSZsl0g",
        "outputId": "18ae3083-f117-43e4-bd3f-bb5c00fa1864"
      },
      "source": [
        "def sum_recu(n):\n",
        "  if n>0:\n",
        "    return n+sum_recu(n-1)\n",
        "  else:\n",
        "    return 0\n",
        "sum_recu(100) "
      ],
      "execution_count": null,
      "outputs": [
        {
          "output_type": "execute_result",
          "data": {
            "text/plain": [
              "5050"
            ]
          },
          "metadata": {},
          "execution_count": 12
        }
      ]
    },
    {
      "cell_type": "code",
      "metadata": {
        "colab": {
          "base_uri": "https://localhost:8080/"
        },
        "id": "3xN9d4Weua13",
        "outputId": "d0fa6038-8648-4495-fed3-09ccb27a5bd7"
      },
      "source": [
        "a=\"b\"*(2*(4-1)+1)\n",
        "print(a)"
      ],
      "execution_count": null,
      "outputs": [
        {
          "output_type": "stream",
          "name": "stdout",
          "text": [
            "bbbbbbb\n"
          ]
        }
      ]
    },
    {
      "cell_type": "code",
      "metadata": {
        "colab": {
          "base_uri": "https://localhost:8080/",
          "height": 35
        },
        "id": "Eh8ECpTQ6Elo",
        "outputId": "d625b691-776f-49ba-be81-1d9efc368e69"
      },
      "source": [
        "str=\"aasbs\"\n",
        "str.center(20,' ')"
      ],
      "execution_count": null,
      "outputs": [
        {
          "output_type": "execute_result",
          "data": {
            "application/vnd.google.colaboratory.intrinsic+json": {
              "type": "string"
            },
            "text/plain": [
              "'       aasbs        '"
            ]
          },
          "metadata": {},
          "execution_count": 18
        }
      ]
    },
    {
      "cell_type": "code",
      "metadata": {
        "colab": {
          "base_uri": "https://localhost:8080/"
        },
        "id": "okkVXhzE6yS0",
        "outputId": "7fdcbe58-51c9-4769-d03d-f686799f563f"
      },
      "source": [
        "def draw(num):\n",
        "  a=\"*\"*(2*(4-num)+1)\n",
        "  print(a.center(9,' '))\n",
        "  if num!=1:\n",
        "    draw(num-1)\n",
        "    print(a.center(9,'a'))\n",
        "draw(4)\n"
      ],
      "execution_count": null,
      "outputs": [
        {
          "output_type": "stream",
          "name": "stdout",
          "text": [
            "    *    \n",
            "   ***   \n",
            "  *****  \n",
            " ******* \n",
            "aa*****aa\n",
            "aaa***aaa\n",
            "aaaa*aaaa\n"
          ]
        }
      ]
    },
    {
      "cell_type": "code",
      "metadata": {
        "colab": {
          "base_uri": "https://localhost:8080/"
        },
        "id": "0yk2cB5P-Pcp",
        "outputId": "af79c084-40c2-454d-a753-778b680f8d5e"
      },
      "source": [
        "sum=0\n",
        "a=2.0\n",
        "b=1.0\n",
        "s=0.0\n",
        "for i in range(1,21):\n",
        "  sum=sum+a/b\n",
        "  #a,b=a+b,a\n",
        "  #a=a+b\n",
        "  #b=a\n",
        "  s=a\n",
        "  a=a+b\n",
        "  b=s\n",
        "print(sum)"
      ],
      "execution_count": null,
      "outputs": [
        {
          "output_type": "stream",
          "name": "stdout",
          "text": [
            "32.66026079864164\n"
          ]
        }
      ]
    },
    {
      "cell_type": "code",
      "metadata": {
        "colab": {
          "base_uri": "https://localhost:8080/"
        },
        "id": "aRH3kt81Cz5G",
        "outputId": "0d5d1375-f190-4384-b5fe-5a4b19701954"
      },
      "source": [
        "def rec(n):\n",
        "  if n==1:\n",
        "    return 1\n",
        "  else:\n",
        "    return rec(n-1)*n\n",
        "rec(3)\n",
        "\n",
        "sum=0\n",
        "for i in range(1,21):\n",
        "  sum+=rec(i)\n",
        "print(sum)"
      ],
      "execution_count": null,
      "outputs": [
        {
          "output_type": "stream",
          "name": "stdout",
          "text": [
            "2561327494111820313\n"
          ]
        }
      ]
    },
    {
      "cell_type": "code",
      "metadata": {
        "colab": {
          "base_uri": "https://localhost:8080/"
        },
        "id": "OHXeBhr1Fy_7",
        "outputId": "3e2d3d6e-9357-45b3-84b6-9bc83d8b9268"
      },
      "source": [
        "def rec(n):\n",
        "  if n==1:\n",
        "    return 1\n",
        "  else:\n",
        "    return rec(n-1)*n\n",
        "rec(5)"
      ],
      "execution_count": null,
      "outputs": [
        {
          "output_type": "execute_result",
          "data": {
            "text/plain": [
              "120"
            ]
          },
          "metadata": {},
          "execution_count": 57
        }
      ]
    },
    {
      "cell_type": "code",
      "metadata": {
        "colab": {
          "base_uri": "https://localhost:8080/"
        },
        "id": "6l3T38X8Xtmw",
        "outputId": "0f501939-d913-46e1-8f13-c5c8a467e23c"
      },
      "source": [
        "string=\"abcdef\"\n",
        "print(string)\n",
        "print(string[1:])"
      ],
      "execution_count": null,
      "outputs": [
        {
          "output_type": "stream",
          "name": "stdout",
          "text": [
            "abcdef\n",
            "bcdef\n"
          ]
        }
      ]
    },
    {
      "cell_type": "code",
      "metadata": {
        "colab": {
          "base_uri": "https://localhost:8080/"
        },
        "id": "9EeQ7-QPYACZ",
        "outputId": "96da8dba-dd9b-43f5-eb41-d8d3cd252c55"
      },
      "source": [
        "def rec(str):\n",
        "  if len(str)!=0:\n",
        "    rec(str[1:])\n",
        "    print(str[0])\n",
        "rec(input(\"输入的字符串为：\"))"
      ],
      "execution_count": null,
      "outputs": [
        {
          "output_type": "stream",
          "name": "stdout",
          "text": [
            "输入的字符串为：123456\n",
            "6\n",
            "5\n",
            "4\n",
            "3\n",
            "2\n",
            "1\n"
          ]
        }
      ]
    },
    {
      "cell_type": "code",
      "metadata": {
        "colab": {
          "base_uri": "https://localhost:8080/"
        },
        "id": "07GyJ53KZslF",
        "outputId": "d5141ecf-fa8d-428b-afa8-92b6431ca54d"
      },
      "source": [
        "def rec(n):\n",
        "  if n==1:\n",
        "    return 10\n",
        "  return rec(n-1)+2\n",
        "\n",
        "print(rec(5))"
      ],
      "execution_count": null,
      "outputs": [
        {
          "output_type": "stream",
          "name": "stdout",
          "text": [
            "18\n"
          ]
        }
      ]
    },
    {
      "cell_type": "code",
      "metadata": {
        "colab": {
          "base_uri": "https://localhost:8080/"
        },
        "id": "oePsw4hYazye",
        "outputId": "247392f5-54a9-4643-99f4-0e5090ccf10c"
      },
      "source": [
        "def rec(str):\n",
        "  if len(str)!=0:\n",
        "    rec(str[1:])\n",
        "    print(str[0],end=' ')\n",
        "num=input(\"输入的数据为：\")\n",
        "num1=len(num)\n",
        "print(num1)\n",
        "rec(num)"
      ],
      "execution_count": null,
      "outputs": [
        {
          "output_type": "stream",
          "name": "stdout",
          "text": [
            "输入的数据为：123456\n",
            "6\n",
            "6 5 4 3 2 1 "
          ]
        }
      ]
    },
    {
      "cell_type": "code",
      "metadata": {
        "colab": {
          "base_uri": "https://localhost:8080/"
        },
        "id": "m01jYfZxb_3z",
        "outputId": "22eeae7b-b09c-4dd7-e1cd-5c44e26bc70f"
      },
      "source": [
        "num=input(\"输入的数据为：\")\n",
        "num1=len(num)\n",
        "print(num[-1:0:-1])\n"
      ],
      "execution_count": null,
      "outputs": [
        {
          "output_type": "stream",
          "name": "stdout",
          "text": [
            "输入的数据为：abcdef\n",
            "fedcb\n"
          ]
        }
      ]
    },
    {
      "cell_type": "code",
      "metadata": {
        "colab": {
          "base_uri": "https://localhost:8080/"
        },
        "id": "oxyiB6H5MQ26",
        "outputId": "81073d70-a3aa-4882-92dc-2fc706fbead4"
      },
      "source": [
        "n=input(\"输入的数为：\")\n",
        "a=0\n",
        "b=len(n)\n",
        "flag=True\n",
        "while a<b:\n",
        "  if n[a]!=n[b-1]:\n",
        "    print(\"非回文数\")\n",
        "    flag=False\n",
        "    break\n",
        "  a=a+1\n",
        "  b=b-1\n",
        "if flag:\n",
        "  print(\"回文数\")"
      ],
      "execution_count": null,
      "outputs": [
        {
          "output_type": "stream",
          "name": "stdout",
          "text": [
            "输入的数为：123456\n",
            "非回文数\n"
          ]
        }
      ]
    },
    {
      "cell_type": "code",
      "metadata": {
        "id": "X3eTBXK0dLbW"
      },
      "source": [
        "#Monday WednesdayFriday Tuesday  Thursday Saturday Sunday"
      ],
      "execution_count": null,
      "outputs": []
    },
    {
      "cell_type": "code",
      "metadata": {
        "colab": {
          "base_uri": "https://localhost:8080/"
        },
        "id": "9AgVjQ2t2Gxp",
        "outputId": "2de87e5c-36ef-4fad-fd36-51d08fbd20c4"
      },
      "source": [
        "T={'h':'thursday','u':'Tuesday'}\n",
        "T1={'s':'saturday','u':'sunday'}\n",
        "T2={'m':'monday','w':'wednesday','f':'friday','t':'T','s':'T1'}\n",
        "a=T2[str(input(\"输入的字符为：\"))]\n",
        "if a=='T' or a=='T1':\n",
        "  \n",
        "    b=input(\"输入的第二个字符为:\")\n",
        "    if a=='T':\n",
        "      print(T[b])\n",
        "    else:\n",
        "      print(T1[b])\n",
        "else:\n",
        "    print(a)"
      ],
      "execution_count": null,
      "outputs": [
        {
          "output_type": "stream",
          "name": "stdout",
          "text": [
            "输入的字符为：f\n",
            "friday\n"
          ]
        }
      ]
    },
    {
      "cell_type": "code",
      "metadata": {
        "colab": {
          "base_uri": "https://localhost:8080/"
        },
        "id": "07DEo42sDOWE",
        "outputId": "2caef6b7-8150-4930-84ec-8d64ce5cf305"
      },
      "source": [
        "a=eval(input())\n",
        "print(a)\n"
      ],
      "execution_count": null,
      "outputs": [
        {
          "output_type": "stream",
          "name": "stdout",
          "text": [
            "['a','b','d']\n",
            "['a', 'b', 'd']\n"
          ]
        }
      ]
    },
    {
      "cell_type": "code",
      "metadata": {
        "colab": {
          "base_uri": "https://localhost:8080/"
        },
        "id": "wuJTMbw5EZ1s",
        "outputId": "acc1bf1d-8eef-4acd-b2e4-5ba63a0077a4"
      },
      "source": [
        "a=['a','b','2','d']\n",
        "print(a[::-1])"
      ],
      "execution_count": null,
      "outputs": [
        {
          "output_type": "stream",
          "name": "stdout",
          "text": [
            "['d', '2', 'b', 'a']\n"
          ]
        }
      ]
    },
    {
      "cell_type": "code",
      "metadata": {
        "colab": {
          "base_uri": "https://localhost:8080/"
        },
        "id": "ideWT4cLFFTw",
        "outputId": "19522a57-1251-4fc7-f7f1-ca884b2e0502"
      },
      "source": [
        "def hello():\n",
        "  print(\"hello world!\")\n",
        "def hello1():\n",
        "  print(\"hello,hello!\")\n",
        "  for i in range(2):\n",
        "    hello()\n",
        "#if __name__=='__main__':\n",
        "hello1()"
      ],
      "execution_count": null,
      "outputs": [
        {
          "output_type": "stream",
          "name": "stdout",
          "text": [
            "hello,hello!\n",
            "hello world!\n",
            "hello world!\n"
          ]
        }
      ]
    },
    {
      "cell_type": "code",
      "metadata": {
        "id": "zyBi_vEGH0c-"
      },
      "source": [
        "import requests\n",
        "url='http://www.baidu.com/'\n",
        "Test=requests.get(url)\n",
        "Test.encoding='utf-8'\n",
        "\n",
        "\n",
        "#print(Test.status_code)\n",
        "#print(Test.url)\n",
        "#print(Test.headers)\n",
        "#print(Test.text)\n",
        "\n",
        "print(Test.content)"
      ],
      "execution_count": null,
      "outputs": []
    },
    {
      "cell_type": "code",
      "metadata": {
        "colab": {
          "base_uri": "https://localhost:8080/"
        },
        "id": "Ukmh8fzJppws",
        "outputId": "62f59025-6941-412a-9db5-fde6e9db23f2"
      },
      "source": [
        "flag=True\n",
        "for i in range(2,101):\n",
        "  for j in range(2,i):\n",
        "    if i%j==0:\n",
        "      flag=False\n",
        "      break\n",
        "    else:\n",
        "      flag=True\n",
        "  if flag==True:\n",
        "    print(i)"
      ],
      "execution_count": null,
      "outputs": [
        {
          "output_type": "stream",
          "name": "stdout",
          "text": [
            "2\n",
            "3\n",
            "5\n",
            "7\n",
            "11\n",
            "13\n",
            "17\n",
            "19\n",
            "23\n",
            "29\n",
            "31\n",
            "37\n",
            "41\n",
            "43\n",
            "47\n",
            "53\n",
            "59\n",
            "61\n",
            "67\n",
            "71\n",
            "73\n",
            "79\n",
            "83\n",
            "89\n",
            "97\n"
          ]
        }
      ]
    },
    {
      "cell_type": "code",
      "metadata": {
        "colab": {
          "base_uri": "https://localhost:8080/"
        },
        "id": "tVLBG8oyrsKb",
        "outputId": "0978e8be-553b-481e-e08d-de34f756f9d1"
      },
      "source": [
        "list=[]\n",
        "for i in range(6):\n",
        "  x=int(input(\"输入数%d为:\" %(i)))\n",
        "  list.append(x)\n",
        " # print(list)\n",
        "print(list)\n",
        "for i in range(len(list)):\n",
        "  for j in range(i,len(list)):\n",
        "    if list[i]>list[j]:\n",
        "      list[i],list[j]=list[j],list[i]\n",
        "print(list)\n"
      ],
      "execution_count": null,
      "outputs": [
        {
          "output_type": "stream",
          "name": "stdout",
          "text": [
            "输入数0为:13\n",
            "输入数1为:2\n",
            "输入数2为:1\n",
            "输入数3为:6\n",
            "输入数4为:5\n",
            "输入数5为:4\n",
            "[13, 2, 1, 6, 5, 4]\n",
            "[1, 2, 4, 5, 6, 13]\n"
          ]
        }
      ]
    },
    {
      "cell_type": "code",
      "metadata": {
        "colab": {
          "base_uri": "https://localhost:8080/"
        },
        "id": "qjbKemyCyYvt",
        "outputId": "b0846b02-daea-4c2b-ea66-04cfc29ab7f7"
      },
      "source": [
        "mat=[[1,2,3],[4,5,6],[7,8,9]]\n",
        "#print(mat[1][1])\n",
        "sum=0\n",
        "for i in range(len(mat)):\n",
        "  sum=sum+mat[i][i]\n",
        "print(sum)"
      ],
      "execution_count": null,
      "outputs": [
        {
          "output_type": "stream",
          "name": "stdout",
          "text": [
            "15\n"
          ]
        }
      ]
    },
    {
      "cell_type": "code",
      "metadata": {
        "colab": {
          "base_uri": "https://localhost:8080/"
        },
        "id": "cZ7VWSi5zVBG",
        "outputId": "393b6a34-b3bf-49c1-8ca3-9e44d123e188"
      },
      "source": [
        "s=\"abcde\"\n",
        "print(s[-1])\n",
        "print(s[:-1])\n",
        "print(s[::-1])\n",
        "\n",
        "list=[1,10,100,1000,100000]"
      ],
      "execution_count": null,
      "outputs": [
        {
          "output_type": "stream",
          "name": "stdout",
          "text": [
            "e\n",
            "abcd\n",
            "edcba\n"
          ]
        }
      ]
    },
    {
      "cell_type": "code",
      "metadata": {
        "colab": {
          "base_uri": "https://localhost:8080/"
        },
        "id": "54_KUAae2Cdm",
        "outputId": "297570ee-6c96-4349-90ce-473c9a7998cb"
      },
      "source": [
        "list=[1,10,100,1000,100000]\n",
        "print(len(list))\n",
        "n=int(input(\"输入的数为：\"))\n",
        "list.append(n)\n",
        "print(list)\n",
        "print(len(list))\n",
        "for i in range(len(list)):\n",
        "  for j in range(i,len(list)):\n",
        "    if list[i]>list[j]:\n",
        "      list[i],list[j]=list[j],list[i]\n",
        "print(list)"
      ],
      "execution_count": null,
      "outputs": [
        {
          "output_type": "stream",
          "name": "stdout",
          "text": [
            "5\n",
            "输入的数为：4\n",
            "[1, 10, 100, 1000, 100000, 4]\n",
            "6\n",
            "[1, 4, 10, 100, 1000, 100000]\n"
          ]
        }
      ]
    },
    {
      "cell_type": "code",
      "metadata": {
        "colab": {
          "base_uri": "https://localhost:8080/"
        },
        "id": "V0vUCF1b3TTp",
        "outputId": "09421330-08a3-4523-a944-bf3aebf767df"
      },
      "source": [
        "list=[1,10,100,1000,100000]\n",
        "list.reverse()\n",
        "print(list)"
      ],
      "execution_count": null,
      "outputs": [
        {
          "output_type": "stream",
          "name": "stdout",
          "text": [
            "[100000, 1000, 100, 10, 1]\n"
          ]
        }
      ]
    },
    {
      "cell_type": "code",
      "metadata": {
        "colab": {
          "base_uri": "https://localhost:8080/"
        },
        "id": "qd0YkAX0OgVU",
        "outputId": "72cc0d08-f27a-402c-b79e-9d0553841deb"
      },
      "source": [
        "class Student():\n",
        "  def __init__(self,name):\n",
        "    self.name=name\n",
        "    print(\"hello\")\n",
        "num=Student(\"nihao\")"
      ],
      "execution_count": null,
      "outputs": [
        {
          "output_type": "stream",
          "name": "stdout",
          "text": [
            "hello\n"
          ]
        }
      ]
    },
    {
      "cell_type": "code",
      "metadata": {
        "id": "NSW5HUJJ5huW"
      },
      "source": [
        "class Student(object):\n",
        "  count=0\n",
        "  books=[]\n",
        "  def __init__(self,name,age):\n",
        "    self.name=name\n",
        "    self.age=age\n",
        "    pass\n",
        "Student.books.extend([\"python\",\"javascript\"])\n",
        "#print(Student.books)\n",
        "Student.hobbies=[\"reading\",\"jogging\",\"swimming\"]\n",
        "#print(Student.hobbies)\n",
        "#print(dir(Student))\n",
        "wilber=Student(\"Wilber\",28)\n",
        "print(wilber.name,wilber.age)\n",
        "wilber.gender=\"male\"\n",
        "print(wilber.name,wilber.gender)\n",
        "dir(wilber)\n"
      ],
      "execution_count": null,
      "outputs": []
    },
    {
      "cell_type": "code",
      "metadata": {
        "colab": {
          "base_uri": "https://localhost:8080/"
        },
        "id": "T3r2DTTuW9Sa",
        "outputId": "b2eeaffc-0816-4aa4-ae8d-830e4dd8d02b"
      },
      "source": [
        "class Student(object):\n",
        "  count=0\n",
        "  books=[]\n",
        "  def __init__(self,name,age):\n",
        "    self.name=name\n",
        "    self.age=age\n",
        "\n",
        "    pass\n",
        "print (Student.__name__)\n",
        "print (Student.__bases__)\n",
        "print (Student.__dict__)\n",
        "print (Student.__module__)\n",
        "print (Student.__class__)"
      ],
      "execution_count": null,
      "outputs": [
        {
          "output_type": "stream",
          "name": "stdout",
          "text": [
            "Student\n",
            "(<class 'object'>,)\n",
            "{'__module__': '__main__', 'count': 0, 'books': [], '__init__': <function Student.__init__ at 0x7f1fc677d7a0>, '__dict__': <attribute '__dict__' of 'Student' objects>, '__weakref__': <attribute '__weakref__' of 'Student' objects>, '__doc__': None}\n",
            "__main__\n",
            "<class 'type'>\n"
          ]
        }
      ]
    },
    {
      "cell_type": "code",
      "metadata": {
        "id": "jBJg0tRbN1SO"
      },
      "source": [
        "#静态方法同类方法的区别，加一个自己 self\n",
        "def dummy(i):\n",
        "   i+=1\n",
        "   print(i)\n",
        "class cls:\n",
        "  def dummy(self,i):\n",
        "    self.i=i+1\n",
        "    print(self.i)\n",
        "\n",
        "a=cls()\n",
        "\n",
        "for i in range(5):\n",
        "  dummy(i)\n",
        "  a.dummy(i)\n",
        "\n",
        "#b=dummy(2)\n",
        "#a.dummy(2)"
      ],
      "execution_count": null,
      "outputs": []
    },
    {
      "cell_type": "code",
      "metadata": {
        "colab": {
          "base_uri": "https://localhost:8080/"
        },
        "id": "u88h1O0SWeqj",
        "outputId": "f5a4f60a-e189-4170-8669-ab6844b10633"
      },
      "source": [
        "def add(i):\n",
        "  i=i+1\n",
        "  print(i)\n",
        "class Add():\n",
        "  def add(self,i):\n",
        "    self.i=i\n",
        "    print(self.i)\n",
        "a=Add()\n",
        "add(1)\n",
        "a.add(1)"
      ],
      "execution_count": null,
      "outputs": [
        {
          "output_type": "stream",
          "name": "stdout",
          "text": [
            "2\n",
            "1\n"
          ]
        }
      ]
    },
    {
      "cell_type": "code",
      "metadata": {
        "id": "X185vx2XX-jS"
      },
      "source": [
        "i=0\n",
        "def add():\n",
        "  i=2\n",
        "  print(i)\n",
        "  i=i+1\n",
        "for j in range(5):\n",
        "  print(i)\n",
        "  add()\n",
        "  i=i+10"
      ],
      "execution_count": null,
      "outputs": []
    },
    {
      "cell_type": "code",
      "metadata": {
        "colab": {
          "base_uri": "https://localhost:8080/"
        },
        "id": "Ywxl1uYobHka",
        "outputId": "10e616ef-85e1-488f-a2f0-ceb64446d1bc"
      },
      "source": [
        "class dummy:\n",
        "  num=1\n",
        "  def sum(self):\n",
        "    #self.num=num+1\n",
        "    print(self.num)\n",
        "    print(num)\n",
        "    self.num=num+1\n",
        "    \n",
        "a=dummy()\n",
        "num=6\n",
        "for i in range(2):\n",
        "  num=num*5\n",
        "  a.sum()"
      ],
      "execution_count": null,
      "outputs": [
        {
          "output_type": "stream",
          "name": "stdout",
          "text": [
            "1\n",
            "30\n",
            "31\n",
            "150\n"
          ]
        }
      ]
    },
    {
      "cell_type": "code",
      "metadata": {
        "colab": {
          "base_uri": "https://localhost:8080/"
        },
        "id": "pOvzOBdptjav",
        "outputId": "8004c67a-66cd-4fdb-8b4c-9bee69b6f8b9"
      },
      "source": [
        "X=[[1,2,3],[4,5,6],[7,8,9]]\n",
        "Y=[[2,4,6],[3,5,7],[4,6,8]]\n",
        "res=[[0,0,0],[0,0,0],[0,0,0]]\n",
        "for i in range(len(res)):\n",
        "  for j in range(len(res[0])):\n",
        "    res[i][j]=X[i][j]+Y[i][j]\n",
        "    print(res[i][j])\n",
        "print(res)"
      ],
      "execution_count": null,
      "outputs": [
        {
          "output_type": "stream",
          "name": "stdout",
          "text": [
            "3\n",
            "6\n",
            "9\n",
            "7\n",
            "10\n",
            "13\n",
            "11\n",
            "14\n",
            "17\n",
            "[[3, 6, 9], [7, 10, 13], [11, 14, 17]]\n"
          ]
        }
      ]
    },
    {
      "cell_type": "code",
      "metadata": {
        "colab": {
          "base_uri": "https://localhost:8080/"
        },
        "id": "fmjdqL-iuazD",
        "outputId": "107b3005-4c64-4efd-c12c-f4f040838eef"
      },
      "source": [
        "sum=0\n",
        "for i in range(1,101):\n",
        "  sum+=i\n",
        "print(sum)"
      ],
      "execution_count": null,
      "outputs": [
        {
          "output_type": "stream",
          "name": "stdout",
          "text": [
            "5050\n"
          ]
        }
      ]
    },
    {
      "cell_type": "code",
      "metadata": {
        "colab": {
          "base_uri": "https://localhost:8080/"
        },
        "id": "GcKCYkzU4UwW",
        "outputId": "6d43f1b7-344c-4e1c-d017-752038df3dd4"
      },
      "source": [
        "while True:\n",
        "  number=int(input(\"输入的数字为：\"))\n",
        "  if number**2<50:\n",
        "    break"
      ],
      "execution_count": null,
      "outputs": [
        {
          "name": "stdout",
          "output_type": "stream",
          "text": [
            "输入的数字为：12\n",
            "输入的数字为：13\n",
            "输入的数字为：12\n",
            "输入的数字为：5\n"
          ]
        }
      ]
    },
    {
      "cell_type": "code",
      "metadata": {
        "colab": {
          "base_uri": "https://localhost:8080/"
        },
        "id": "QRRe1BjN44rw",
        "outputId": "900f2525-842a-42e7-81aa-b99b9c3c31a0"
      },
      "source": [
        "def rec(a,b):\n",
        "  return(b,a)\n",
        "a=1\n",
        "b=3\n",
        "a,b=rec(a,b)\n",
        "print(\"(a,b)为：\",rec(1,3))"
      ],
      "execution_count": null,
      "outputs": [
        {
          "output_type": "stream",
          "name": "stdout",
          "text": [
            "(a,b)为： (3, 1)\n"
          ]
        }
      ]
    },
    {
      "cell_type": "code",
      "metadata": {
        "colab": {
          "base_uri": "https://localhost:8080/"
        },
        "id": "Q02Qi1wY63z4",
        "outputId": "7a9c6f38-b173-417e-ba76-dd67b8d72174"
      },
      "source": [
        "a=int(input())\n",
        "b=int(input())\n",
        "if a>=b:\n",
        "  print(\"a>=b\")\n",
        "else:\n",
        "  print(\"a<b\")"
      ],
      "execution_count": null,
      "outputs": [
        {
          "output_type": "stream",
          "name": "stdout",
          "text": [
            "1\n",
            "3\n",
            "a<b\n"
          ]
        }
      ]
    },
    {
      "cell_type": "code",
      "metadata": {
        "colab": {
          "base_uri": "https://localhost:8080/"
        },
        "id": "xmfYIyq97iZP",
        "outputId": "5b3befb0-1bb8-4991-f2b9-8b54e32ff707"
      },
      "source": [
        "sum=lambda x:x+2\n",
        "sum(2)"
      ],
      "execution_count": null,
      "outputs": [
        {
          "output_type": "execute_result",
          "data": {
            "text/plain": [
              "4"
            ]
          },
          "metadata": {},
          "execution_count": 27
        }
      ]
    },
    {
      "cell_type": "code",
      "metadata": {
        "colab": {
          "base_uri": "https://localhost:8080/"
        },
        "id": "EGsYYupV7zmA",
        "outputId": "6d94327a-6d12-4664-fe51-911b786ab136"
      },
      "source": [
        "import random\n",
        "print(random.uniform(10,200))"
      ],
      "execution_count": null,
      "outputs": [
        {
          "output_type": "stream",
          "name": "stdout",
          "text": [
            "40.65003088025972\n"
          ]
        }
      ]
    },
    {
      "cell_type": "code",
      "metadata": {
        "colab": {
          "base_uri": "https://localhost:8080/"
        },
        "id": "xPcX_ME_9Ic5",
        "outputId": "7269b48e-a12d-47fd-fae9-0066062a40b0"
      },
      "source": [
        "a=0o77\n",
        "print(a)\n",
        "b=a&3\n",
        "print(b)"
      ],
      "execution_count": null,
      "outputs": [
        {
          "output_type": "stream",
          "name": "stdout",
          "text": [
            "63\n",
            "3\n"
          ]
        }
      ]
    },
    {
      "cell_type": "code",
      "metadata": {
        "colab": {
          "base_uri": "https://localhost:8080/"
        },
        "id": "Jzl8Wgcc91-d",
        "outputId": "8138ccb4-e680-4ed2-ff47-0f1b5a264759"
      },
      "source": [
        "a=int(input())\n",
        "b=0\n",
        "b=~b\n",
        "b=b<<4\n",
        "b=~b\n",
        "c=a>>4\n",
        "d=c&b\n",
        "print(\"a:\",bin(a))\n",
        "print(\"b:\",bin(b))\n",
        "print(\"c:\",bin(c))\n",
        "print(\"d:\",bin(d))"
      ],
      "execution_count": null,
      "outputs": [
        {
          "output_type": "stream",
          "name": "stdout",
          "text": [
            "20\n",
            "a: 0b10100\n",
            "b: 0b1111\n",
            "c: 0b10100\n",
            "d: 0b100\n"
          ]
        }
      ]
    },
    {
      "cell_type": "code",
      "metadata": {
        "colab": {
          "base_uri": "https://localhost:8080/"
        },
        "id": "NryymfiW_Ot6",
        "outputId": "83f42e95-415f-4967-96d8-62e92b04b93e"
      },
      "source": [
        "print(~~234)"
      ],
      "execution_count": null,
      "outputs": [
        {
          "output_type": "stream",
          "name": "stdout",
          "text": [
            "234\n"
          ]
        }
      ]
    },
    {
      "cell_type": "code",
      "metadata": {
        "colab": {
          "base_uri": "https://localhost:8080/"
        },
        "id": "Wy_3d6s5_sj_",
        "outputId": "3074e8ad-c26c-46f2-cfbd-fb971247d041"
      },
      "source": [
        "s=\"asdfah123\"\n",
        "print(len(s))"
      ],
      "execution_count": null,
      "outputs": [
        {
          "output_type": "stream",
          "name": "stdout",
          "text": [
            "9\n"
          ]
        }
      ]
    },
    {
      "cell_type": "code",
      "metadata": {
        "id": "V0WNhATqJoZu",
        "colab": {
          "base_uri": "https://localhost:8080/"
        },
        "outputId": "7e4ecfbf-b326-4ccd-9e68-2a3d3f0193fa"
      },
      "source": [
        "#map(functon,iterable,...)\n",
        "def square(x):\n",
        "  return x**2\n",
        "map(square,[1,2,3])\n",
        "list(map(square,[1,2,3,4,5]))\n"
      ],
      "execution_count": null,
      "outputs": [
        {
          "output_type": "execute_result",
          "data": {
            "text/plain": [
              "[1, 4, 9, 16, 25]"
            ]
          },
          "metadata": {},
          "execution_count": 52
        }
      ]
    },
    {
      "cell_type": "code",
      "metadata": {
        "colab": {
          "base_uri": "https://localhost:8080/"
        },
        "id": "fh3SfP3PahNU",
        "outputId": "dc956d0d-0d7f-4b4e-86cb-d9b00777f59a"
      },
      "source": [
        "list(map(lambda x:x**2,[1,2,3,4,5]))"
      ],
      "execution_count": null,
      "outputs": [
        {
          "output_type": "execute_result",
          "data": {
            "text/plain": [
              "[1, 4, 9, 16, 25]"
            ]
          },
          "metadata": {},
          "execution_count": 53
        }
      ]
    },
    {
      "cell_type": "code",
      "metadata": {
        "colab": {
          "base_uri": "https://localhost:8080/"
        },
        "id": "5X3kCGF6azJc",
        "outputId": "4959e55a-09b7-41e2-cfaa-e7fd814922cc"
      },
      "source": [
        "def generate(numRows):\n",
        "  r=[[1]]\n",
        "  for i in range(1,numRows):\n",
        "    r.append(list(map(lambda x,y:x+y,[0]+r[-1],r[-1]+[0])))\n",
        "  print(r[:numRows])\n",
        "  return r[:numRows]\n",
        "\n",
        "a=generate(3)\n",
        "\n",
        "for i in a:\n",
        "  print(i)"
      ],
      "execution_count": null,
      "outputs": [
        {
          "output_type": "stream",
          "name": "stdout",
          "text": [
            "[[1], [1, 1], [1, 2, 1]]\n",
            "[1]\n",
            "[1, 1]\n",
            "[1, 2, 1]\n"
          ]
        }
      ]
    },
    {
      "cell_type": "code",
      "metadata": {
        "colab": {
          "base_uri": "https://localhost:8080/"
        },
        "id": "8fWkPY2acYNd",
        "outputId": "d35c0fe1-9d39-47ac-868b-286c588569d2"
      },
      "source": [
        "\n",
        "#for i in range(2):\n",
        "list(map(lambda x,y:x+y,[1],[4]))"
      ],
      "execution_count": null,
      "outputs": [
        {
          "output_type": "execute_result",
          "data": {
            "text/plain": [
              "[5]"
            ]
          },
          "metadata": {},
          "execution_count": 72
        }
      ]
    },
    {
      "cell_type": "code",
      "metadata": {
        "colab": {
          "base_uri": "https://localhost:8080/"
        },
        "id": "xLTPBMETeM1t",
        "outputId": "afdf1397-3aca-4fb4-f08c-6a8628ef8335"
      },
      "source": [
        "#列表加法是合并列表，并不是数字相加\n",
        "r=[[1]]\n",
        "#print(r[-1]+[0])\n",
        "for i in range(2):\n",
        "  r.append(list(map(lambda x,y:x+y,r[-1]+[1],[0,2])))\n",
        "print(r)\n",
        "  "
      ],
      "execution_count": null,
      "outputs": [
        {
          "output_type": "stream",
          "name": "stdout",
          "text": [
            "[[1], [1, 3], [1, 5]]\n"
          ]
        }
      ]
    },
    {
      "cell_type": "code",
      "metadata": {
        "colab": {
          "base_uri": "https://localhost:8080/"
        },
        "id": "jVlyunh5hH7W",
        "outputId": "cf475b4d-eff1-4b0d-8901-38d563c03dae"
      },
      "source": [
        ""
      ],
      "execution_count": null,
      "outputs": [
        {
          "output_type": "stream",
          "name": "stdout",
          "text": [
            "[0]\n"
          ]
        }
      ]
    },
    {
      "cell_type": "code",
      "metadata": {
        "colab": {
          "base_uri": "https://localhost:8080/"
        },
        "id": "AkTfVSCemdiJ",
        "outputId": "912031ef-04b4-4afc-b09e-14c9393c6523"
      },
      "source": [
        "s=\"abcdefqgh\"\n",
        "s1=\"fq\"\n",
        "s2=\"ad\"\n",
        "print(s.find(s1))"
      ],
      "execution_count": null,
      "outputs": [
        {
          "output_type": "stream",
          "name": "stdout",
          "text": [
            "5\n"
          ]
        }
      ]
    },
    {
      "cell_type": "code",
      "metadata": {
        "colab": {
          "base_uri": "https://localhost:8080/"
        },
        "id": "xkOOZrIRpcsG",
        "outputId": "463be7ae-569f-4f73-ac19-119f1d254222"
      },
      "source": [
        "li=[2,3,1,5,9,7]\n",
        "print(li.index(min(li)))\n",
        "print(li.index(max(li)))\n",
        "li[li.index(min(li))],li[-1]=li[-1],li[li.index(min(li))]\n",
        "m=li[0]\n",
        "ind=li.index(max(li))\n",
        "print(li[0])\n",
        "li[0]=li[ind]\n",
        "print(li[0])\n",
        "li[ind]=m\n",
        "print(li)"
      ],
      "execution_count": null,
      "outputs": [
        {
          "output_type": "stream",
          "name": "stdout",
          "text": [
            "2\n",
            "4\n",
            "2\n",
            "9\n",
            "[9, 3, 7, 5, 2, 1]\n"
          ]
        }
      ]
    },
    {
      "cell_type": "code",
      "metadata": {
        "colab": {
          "base_uri": "https://localhost:8080/"
        },
        "id": "hwWWqIW9CBkN",
        "outputId": "bbfe1bd4-899d-40ba-ddb8-7ac2c4359960"
      },
      "source": [
        "from collections import*\n",
        "li=[1,2,3,4,5,6,7,8,9]\n",
        "deq=deque(li,maxlen=len(li))\n",
        "print(li)\n",
        "deq.rotate(int(input(\"rotate:\")))\n",
        "print(list(deq))"
      ],
      "execution_count": null,
      "outputs": [
        {
          "output_type": "stream",
          "name": "stdout",
          "text": [
            "[1, 2, 3, 4, 5, 6, 7, 8, 9]\n",
            "rotate:4\n",
            "[6, 7, 8, 9, 1, 2, 3, 4, 5]\n"
          ]
        }
      ]
    },
    {
      "cell_type": "code",
      "metadata": {
        "colab": {
          "base_uri": "https://localhost:8080/"
        },
        "id": "Qx-fZKcFGfIM",
        "outputId": "37e3cb71-e125-49e2-82dc-d706cdce602e"
      },
      "source": [
        "from collections import deque\n",
        "d=deque()\n",
        "d.append(3)\n",
        "d.append(5)\n",
        "d.append(1)\n",
        "print(d)\n",
        "len(d)"
      ],
      "execution_count": null,
      "outputs": [
        {
          "output_type": "stream",
          "name": "stdout",
          "text": [
            "deque([3, 5, 1])\n"
          ]
        },
        {
          "output_type": "execute_result",
          "data": {
            "text/plain": [
              "3"
            ]
          },
          "metadata": {},
          "execution_count": 8
        }
      ]
    },
    {
      "cell_type": "code",
      "metadata": {
        "colab": {
          "base_uri": "https://localhost:8080/"
        },
        "id": "IUqOuhghGy_3",
        "outputId": "cd108f52-9136-4b9b-f377-d33684af91fb"
      },
      "source": [
        "from collections import deque\n",
        "d=deque('12345')\n",
        "print(d)\n",
        "d.pop()\n",
        "print(d)\n",
        "dir(d)\n",
        "d.popleft()\n",
        "print(d)\n"
      ],
      "execution_count": null,
      "outputs": [
        {
          "output_type": "stream",
          "name": "stdout",
          "text": [
            "deque(['1', '2', '3', '4', '5'])\n",
            "deque(['1', '2', '3', '4'])\n",
            "deque(['2', '3', '4'])\n"
          ]
        }
      ]
    },
    {
      "cell_type": "code",
      "metadata": {
        "colab": {
          "base_uri": "https://localhost:8080/"
        },
        "id": "nCcBNHVoIlB4",
        "outputId": "e1533890-b538-4eff-a682-12061a50534c"
      },
      "source": [
        "from collections import deque\n",
        "d=deque('12345')\n",
        "d.rotate(2)\n",
        "print(d)"
      ],
      "execution_count": null,
      "outputs": [
        {
          "output_type": "stream",
          "name": "stdout",
          "text": [
            "['4', '5', '1', '2', '3']\n"
          ]
        }
      ]
    },
    {
      "cell_type": "code",
      "metadata": {
        "colab": {
          "base_uri": "https://localhost:8080/"
        },
        "id": "Xxw9fFrbI9L7",
        "outputId": "c7b9a9c5-b1aa-4e7a-fb21-7ee17247057b"
      },
      "source": [
        "from collections import deque\n",
        "li=[1,2,3,4,5,6,7,8]\n",
        "d=deque(li,maxlen=len(li))\n",
        "print(d)\n",
        "d.rotate(int(input(\"rotate:\")))\n",
        "print(d)"
      ],
      "execution_count": null,
      "outputs": [
        {
          "output_type": "stream",
          "name": "stdout",
          "text": [
            "deque([1, 2, 3, 4, 5, 6, 7, 8], maxlen=8)\n",
            "rotate:5\n",
            "deque([4, 5, 6, 7, 8, 1, 2, 3], maxlen=8)\n"
          ]
        }
      ]
    },
    {
      "cell_type": "code",
      "metadata": {
        "colab": {
          "base_uri": "https://localhost:8080/"
        },
        "id": "PLeWXxNvZU1o",
        "outputId": "f681fc17-678f-4b1d-f83c-8beeb617f74f"
      },
      "source": [
        "n=int(input(\"输入的人数为：\"))\n",
        "num=[]\n",
        "for i in range(1,n+1):\n",
        "  num.append(i)\n",
        "print(num)\n",
        "i=0\n",
        "k=0\n",
        "m=0\n",
        "while m<(n-1):\n",
        "\n",
        "  if num[i]!=0:\n",
        "    k=k+1\n",
        "  if k==3:\n",
        "    num[i]=0\n",
        "    k=0\n",
        "    m=m+1\n",
        "  i=i+1\n",
        "  if i==n:\n",
        "    i=0\n",
        "i=0\n",
        "while num[i]==0:\n",
        "  i=i+1\n",
        "print(num[i])"
      ],
      "execution_count": null,
      "outputs": [
        {
          "output_type": "stream",
          "name": "stdout",
          "text": [
            "输入的人数为：3\n",
            "[1, 2, 3]\n",
            "2\n"
          ]
        }
      ]
    },
    {
      "cell_type": "code",
      "metadata": {
        "colab": {
          "base_uri": "https://localhost:8080/"
        },
        "id": "8e1Tlb2epg_L",
        "outputId": "b7b39007-d025-477b-e3f8-70af64985cff"
      },
      "source": [
        "def str1(s):\n",
        "  return len(s)\n",
        "\n",
        "print(str1(\"abcdef\"))"
      ],
      "execution_count": null,
      "outputs": [
        {
          "output_type": "stream",
          "name": "stdout",
          "text": [
            "6\n"
          ]
        }
      ]
    },
    {
      "cell_type": "code",
      "metadata": {
        "colab": {
          "base_uri": "https://localhost:8080/"
        },
        "id": "vtTOfA8sqsdb",
        "outputId": "6a3c9a19-ca7f-4255-8f30-f6cba5937d87"
      },
      "source": [
        "student=[]\n",
        "for i in range(5):\n",
        "  student.append([\"\",\"\",[]])\n",
        "print(student)\n",
        "def input_stu(stu):\n",
        "  for i in range(3):\n",
        "    stu[i][0]=input(\"num:\\n\")\n",
        "    stu[i][1]=input(\"name:\\n\")\n",
        "    for j in range(3):\n",
        "      stu[i][2].append(int(input(\"score:\\n\")))\n",
        "  \n",
        "def output_stu(stu):\n",
        "  for i in range(3):\n",
        "    print(\"%-6s%-10s\"%(stu[i][0],stu[i][1]),end='')\n",
        "    for j in range(3):\n",
        "      print(\"%-8d\"%stu[i][2][j],end='')\n",
        "\n",
        "      5\n",
        "\n",
        "\n",
        "input_stu(student)\n",
        "print(student)\n",
        "output_stu(student)"
      ],
      "execution_count": null,
      "outputs": [
        {
          "output_type": "stream",
          "name": "stdout",
          "text": [
            "[['', '', []], ['', '', []], ['', '', []], ['', '', []], ['', '', []]]\n",
            "num:\n",
            "1\n",
            "name:\n",
            "1\n",
            "score:\n",
            "1\n",
            "score:\n",
            "1\n",
            "score:\n",
            "1\n",
            "num:\n",
            "1\n",
            "name:\n",
            "1\n",
            "score:\n",
            "2\n",
            "score:\n",
            "2\n",
            "score:\n",
            "2\n",
            "num:\n",
            "3\n",
            "name:\n",
            "3\n",
            "score:\n",
            "4\n",
            "score:\n",
            "4\n",
            "score:\n",
            "4\n",
            "[['1', '1', [1, 1, 1]], ['1', '1', [2, 2, 2]], ['3', '3', [4, 4, 4]], ['', '', []], ['', '', []]]\n",
            "1     1         1       1       1       1     1         2       2       2       3     3         4       4       4       "
          ]
        }
      ]
    },
    {
      "cell_type": "code",
      "metadata": {
        "colab": {
          "base_uri": "https://localhost:8080/"
        },
        "id": "m2h23u-VuB3d",
        "outputId": "21000141-443d-4205-f403-db75034f9d6a"
      },
      "source": [
        "i=5\n",
        "j=7\n",
        "print(\"%6d%10d\" %(i,j))"
      ],
      "execution_count": null,
      "outputs": [
        {
          "output_type": "stream",
          "name": "stdout",
          "text": [
            "     5         7\n"
          ]
        }
      ]
    },
    {
      "cell_type": "code",
      "metadata": {
        "id": "Sy1xJA_65fyh"
      },
      "source": [
        ""
      ],
      "execution_count": null,
      "outputs": []
    },
    {
      "cell_type": "code",
      "metadata": {
        "id": "8OIDQX2CGJtt"
      },
      "source": [
        "\n",
        "\n"
      ],
      "execution_count": null,
      "outputs": []
    },
    {
      "cell_type": "code",
      "metadata": {
        "colab": {
          "base_uri": "https://localhost:8080/"
        },
        "id": "LhoiUUBlMQLz",
        "outputId": "161d8b95-d9cd-4a10-a6a4-8e17da4ad3ea"
      },
      "source": [
        "class Node(object):\n",
        "  def __init__(self,item):\n",
        "    self.item=item\n",
        "    self.next=None\n",
        "class LinkList(object):\n",
        "  def __init__(self):\n",
        "    self.head=None   #核心是头指针始终是节点1    \n",
        "\n",
        "\n",
        "  def is_empty(self):\n",
        "    cur=self.head\n",
        "    count=0\n",
        "    while cur is not None:\n",
        "      count+=1\n",
        "      cur=cur.next\n",
        "    return count\n",
        "  def items(self):\n",
        "    cur=self.head\n",
        "    while cur is not None:\n",
        "      yield cur.item #lei shi return\n",
        "      cur=cur.next\n",
        "  def add(self,item):\n",
        "    node=Node(item)\n",
        "    node.next=self.head  #node1 第一个节点 self.head=node1\n",
        "    self.head=node\n",
        "  def append(self,item):\n",
        "    node=Node(item)\n",
        "    if self.is_empty():\n",
        "      self.head=node\n",
        "    else:\n",
        "      cur=self.head\n",
        "      while cur.next is not None:\n",
        "        cur=cur.next\n",
        "      cur.next=node\n",
        "\n",
        "\n",
        "link1=LinkList()\n",
        "node1=Node(235)\n",
        "node2=Node(777)\n",
        "link1.head=node1\n",
        "node1.next=node2\n",
        "print(link1.head.item)\n",
        "print(link1.head.next.item)"
      ],
      "execution_count": null,
      "outputs": [
        {
          "output_type": "stream",
          "name": "stdout",
          "text": [
            "235\n",
            "777\n"
          ]
        }
      ]
    },
    {
      "cell_type": "code",
      "metadata": {
        "colab": {
          "base_uri": "https://localhost:8080/"
        },
        "id": "GuCAf243d6gZ",
        "outputId": "4cdb44b3-4ffc-4cf4-949d-5aa7852fb20b"
      },
      "source": [
        "class Node(object):\n",
        "  def __init__(self,item):\n",
        "    self.item=item\n",
        "    self.next=None #指针可以指向节点\n",
        "class LinkList(object):\n",
        "  def __init__(self):\n",
        "    self.head=None   #核心是头指针始终是节点1 link.head=node1 节点1的指针指向节点2\n",
        "\n",
        "\n",
        "  def is_empty(self):\n",
        "    return self.head is None\n",
        "  def length(self):\n",
        "    cur=self.head\n",
        "    count=0\n",
        "    while cur is not None:\n",
        "      count+=1\n",
        "      cur=cur.next\n",
        "    return count\n",
        "\n",
        "  def items(self):\n",
        "    cur=self.head\n",
        "    while cur is not None:\n",
        "      yield cur.item #lei shi return\n",
        "      cur=cur.next\n",
        "  def add(self,item):\n",
        "    node=Node(item)\n",
        "    node.next=self.head  #node1 第一个节点 self.head=node1\n",
        "    self.head=node\n",
        "  def append(self,item):\n",
        "    node=Node(item)\n",
        "    if self.is_empty():\n",
        "      self.head=node\n",
        "    else:\n",
        "      cur=self.head\n",
        "      while cur.next is not None:\n",
        "        cur=cur.next\n",
        "      cur.next=node\n",
        "\n",
        "  def insert(self,index,item):\n",
        "    if index<=0:\n",
        "      self.add(item)\n",
        "    elif index>(self.length()-1):\n",
        "      self.append(item)\n",
        "    else:\n",
        "      node=Node(item)\n",
        "      cur=self.head\n",
        "      for i in range(index-1):\n",
        "        cur=cur.next\n",
        "      node.next=cur.next\n",
        "      cur.next=node\n",
        "  def remove(self,item):\n",
        "    cur=self.head\n",
        "    pre=None\n",
        "    while cur is not None:\n",
        "      if cur.item==item:\n",
        "        if not pre:\n",
        "          self.head=cur.next\n",
        "        else:\n",
        "          pre.next=cur.next\n",
        "        return True\n",
        "      else:\n",
        "        pre=cur\n",
        "        cur=cur.next\n",
        "  \n",
        "  def find(self,item):\n",
        "    return item in self.items()\n",
        "  \n",
        "  def reverse(self,head):\n",
        "    if head in None and head.next is None:\n",
        "      return head\n",
        "    pre=head\n",
        "    cur=head.next\n",
        "    while cur is not None:\n",
        "      temp=cur.next\n",
        "      cur.next=pre\n",
        "      pre=cur\n",
        "      cur=temp\n",
        "    head.next=None\n",
        "    return pre\n",
        "      \n",
        "\n",
        "\n",
        "link1=LinkList()\n",
        "head=Node(\"head\")\n",
        "#node1=Node(235)\n",
        "#\n",
        "#link1.head=node1\n",
        "#node1.next=node2\n",
        "#print(link1.head.next.item)\n",
        "for i in range(5):\n",
        "  link1.append(i)\n",
        "print(list(link1.items()))\n",
        "\n",
        "link1.add(6)\n",
        "for i in link1.items():\n",
        "  print(i,end='\\t')\n",
        "link1.insert(3,9)\n",
        "print(\"\\n\",list(link1.items()))\n",
        "link1.remove(0)\n",
        "print(\"\\n\",list(link1.items()))\n",
        "print(link1.find(4))"
      ],
      "execution_count": null,
      "outputs": [
        {
          "output_type": "stream",
          "name": "stdout",
          "text": [
            "[0, 1, 2, 3, 4]\n",
            "6\t0\t1\t2\t3\t4\t\n",
            " [6, 0, 1, 9, 2, 3, 4]\n",
            "\n",
            " [6, 1, 9, 2, 3, 4]\n",
            "True\n"
          ]
        }
      ]
    },
    {
      "cell_type": "code",
      "metadata": {
        "id": "gC6FXms_N-0C"
      },
      "source": [
        "# is_empty() length() items() add(item) append(item) insert(pos,item) remove(item) find(item)"
      ],
      "execution_count": null,
      "outputs": []
    },
    {
      "cell_type": "code",
      "metadata": {
        "id": "LJzGUGnXv-Eo"
      },
      "source": [
        "import pdb\n",
        "a=\"a string\"\n",
        "b=\"b string\"\n",
        "pdb.set_trace()\n",
        "print(\"next step\")"
      ],
      "execution_count": null,
      "outputs": []
    },
    {
      "cell_type": "code",
      "metadata": {
        "colab": {
          "base_uri": "https://localhost:8080/"
        },
        "id": "iKJjFzFdt5mV",
        "outputId": "e2247b9b-db47-4082-a191-1a6afcad4b7c"
      },
      "source": [
        "a=[2,4,6]\n",
        "b=[7,0,8]\n",
        "a=a+b\n",
        "print(a)\n",
        "a.sort()\n",
        "print(a)"
      ],
      "execution_count": null,
      "outputs": [
        {
          "output_type": "stream",
          "name": "stdout",
          "text": [
            "[2, 4, 6, 7, 0, 8]\n",
            "[0, 2, 4, 6, 7, 8]\n"
          ]
        }
      ]
    },
    {
      "cell_type": "code",
      "metadata": {
        "colab": {
          "base_uri": "https://localhost:8080/"
        },
        "id": "AhorwY_VueMb",
        "outputId": "0b378921-28e4-41b1-c6ab-aed3e970f21f"
      },
      "source": [
        "def peven(n):\n",
        "  s=0\n",
        "  for i in range(2,n+1,2):\n",
        "    s+=1/i\n",
        "  return s\n",
        "\n",
        "def podd(n):\n",
        "  s=0\n",
        "  for i in range(1,n+1,2):\n",
        "    s+=1/i\n",
        "  return s\n",
        "\n",
        "a=int(input(\"输入的数为：\"))\n",
        "if a%2==0:\n",
        "  print(peven(a))\n",
        "  \n",
        "else:\n",
        "  print(podd(a))"
      ],
      "execution_count": null,
      "outputs": [
        {
          "output_type": "stream",
          "name": "stdout",
          "text": [
            "输入的数为：9\n",
            "1.7873015873015872\n"
          ]
        }
      ]
    },
    {
      "cell_type": "code",
      "metadata": {
        "colab": {
          "base_uri": "https://localhost:8080/"
        },
        "id": "kg_0QDHsyWuU",
        "outputId": "daaf3a22-48cc-495a-e95d-ea9068162f76"
      },
      "source": [
        "list1=['1','b','c','d','2','3']\n",
        "for i in range(len(list1)):\n",
        "  print(list1[i],end='\\t')"
      ],
      "execution_count": null,
      "outputs": [
        {
          "output_type": "stream",
          "name": "stdout",
          "text": [
            "1\tb\tc\td\t2\t3\t"
          ]
        }
      ]
    },
    {
      "cell_type": "code",
      "metadata": {
        "colab": {
          "base_uri": "https://localhost:8080/"
        },
        "id": "eWNXGnfC1SGz",
        "outputId": "92df3ee0-563e-4bdd-8219-c46201041f72"
      },
      "source": [
        "person={'a':18,'b':20,'c':90,'d':80}\n",
        "m='a'\n",
        "for key in person.keys():\n",
        "  if person[m]<person[key]:\n",
        "    person[m]=person[key]\n",
        "    m=key\n",
        "print(\"%s %d\" %(m,person[m]))\n",
        "print(\"%s\" %m)\n",
        "print(m)\n",
        "print(\"%d\" %person[m])"
      ],
      "execution_count": null,
      "outputs": [
        {
          "output_type": "stream",
          "name": "stdout",
          "text": [
            "c 90\n",
            "c\n",
            "c\n",
            "90\n"
          ]
        }
      ]
    },
    {
      "cell_type": "code",
      "metadata": {
        "id": "VjII6-lA--n9"
      },
      "source": [
        ""
      ],
      "execution_count": null,
      "outputs": []
    },
    {
      "cell_type": "code",
      "metadata": {
        "colab": {
          "base_uri": "https://localhost:8080/"
        },
        "id": "wolU4eXZ9Lwt",
        "outputId": "bf9af89c-ebe1-4520-ea03-086bea68ac54"
      },
      "source": [
        "str1=['cca','bbe','aac','hhh']\n",
        "str1.sort()\n",
        "print(str1)"
      ],
      "execution_count": null,
      "outputs": [
        {
          "output_type": "stream",
          "name": "stdout",
          "text": [
            "['aac', 'bbe', 'cca', 'hhh']\n"
          ]
        }
      ]
    },
    {
      "cell_type": "code",
      "metadata": {
        "colab": {
          "base_uri": "https://localhost:8080/",
          "height": 395
        },
        "id": "IQF1MYo_-ba0",
        "outputId": "96fbed48-254c-427c-b062-aa01ba19a3a4"
      },
      "source": [
        "import random\n",
        "from tkinter import*\n",
        "class Window:\n",
        "  def __init__(self,title='游戏',width=300,height=120,staFunc=bool,stoFunc=bool):\n",
        "    self.w=width\n",
        "    self.h=height\n",
        "    self.stat=True\n",
        "    self.staFunc=staFunc\n",
        "    self.stoFunc=stoFunc\n",
        "    self.staIco=None\n",
        "    self.StoIco=None\n",
        "    self.root=Tk(className=title)\n",
        "    \n",
        "  def drawCenter(self):\n",
        "    ws=self.root.winfo_screenwidth()\n",
        "    hs=self.root.winfo_screenheight()\n",
        "    x=int((ws/2)-(self.w/2))\n",
        "    y=int((hs/2)-(self.h/2))\n",
        "    self.root.geometry('{}x{}+{}+{}'.format(self.w,self.h,x,y))\n",
        "\n",
        "  def createWidgets(self):\n",
        "    Label(self.root,text=\"实验次数：\").grid(row=0,sticky=E)\n",
        "    Label(self.root,text=\"正面出现的次数：\").grid(row=1,sticky=E)\n",
        "    Label(self.root,text=\"反面出现的次数：\").grid(row=2,sticky=E)\n",
        "    self.e1=Entry(self.root)\n",
        "    self.hc=StringVar()\n",
        "    self.e2=Entry(self.root,textvariable=self.hc)\n",
        "    self.p=StringVar()\n",
        "    self.e3=Entry(self.root,textvariable=self.p)\n",
        "    self.e1.grid(row=0,column=1)\n",
        "    self.e2.grid(row=1,column=1)\n",
        "    self.e3.grid(row=2,column=1)\n",
        "    self.btnSer=Button(self.root,command=self.click,width=3,height=1,text='运行')\n",
        "    self.btnSer.grid(row=3,column=1,sticky=E)\n",
        "    btnQuit=Button(self.root,text='关闭窗口',command=self.root.quit,width=8,height=1)\n",
        "    btnQuit.grid(row=3,column=2)\n",
        "\n",
        "  def click(self):\n",
        "    h=0\n",
        "    t=0\n",
        "    allcount=0\n",
        "    count=int(self.e1.get())\n",
        "    for i in range(count):\n",
        "      num=random.randint(0,1)\n",
        "      if num==0:\n",
        "        h=h+1\n",
        "      else:\n",
        "        t=t+1\n",
        "      allcount+=1\n",
        "    print(allcount)\n",
        "    self.hc.set(str(h))\n",
        "    self.p.set(str(h/count))\n",
        "  \n",
        "  def loop(self):\n",
        "    self.root.resizable(False,False)\n",
        "    self.createWidgets()\n",
        "    self.drawCenter()\n",
        "    self.root.mainloop()\n",
        "\n",
        "if __name__=='__main__':\n",
        "  w=Window(width=350,height=150)\n",
        "  w.loop()\n"
      ],
      "execution_count": null,
      "outputs": [
        {
          "output_type": "error",
          "ename": "TclError",
          "evalue": "ignored",
          "traceback": [
            "\u001b[0;31m---------------------------------------------------------------------------\u001b[0m",
            "\u001b[0;31mTclError\u001b[0m                                  Traceback (most recent call last)",
            "\u001b[0;32m<ipython-input-2-814b8d3dd396>\u001b[0m in \u001b[0;36m<module>\u001b[0;34m()\u001b[0m\n\u001b[1;32m     59\u001b[0m \u001b[0;34m\u001b[0m\u001b[0m\n\u001b[1;32m     60\u001b[0m \u001b[0;32mif\u001b[0m \u001b[0m__name__\u001b[0m\u001b[0;34m==\u001b[0m\u001b[0;34m'__main__'\u001b[0m\u001b[0;34m:\u001b[0m\u001b[0;34m\u001b[0m\u001b[0;34m\u001b[0m\u001b[0m\n\u001b[0;32m---> 61\u001b[0;31m   \u001b[0mw\u001b[0m\u001b[0;34m=\u001b[0m\u001b[0mWindow\u001b[0m\u001b[0;34m(\u001b[0m\u001b[0mwidth\u001b[0m\u001b[0;34m=\u001b[0m\u001b[0;36m350\u001b[0m\u001b[0;34m,\u001b[0m\u001b[0mheight\u001b[0m\u001b[0;34m=\u001b[0m\u001b[0;36m150\u001b[0m\u001b[0;34m)\u001b[0m\u001b[0;34m\u001b[0m\u001b[0;34m\u001b[0m\u001b[0m\n\u001b[0m\u001b[1;32m     62\u001b[0m   \u001b[0mw\u001b[0m\u001b[0;34m.\u001b[0m\u001b[0mloop\u001b[0m\u001b[0;34m(\u001b[0m\u001b[0;34m)\u001b[0m\u001b[0;34m\u001b[0m\u001b[0;34m\u001b[0m\u001b[0m\n",
            "\u001b[0;32m<ipython-input-2-814b8d3dd396>\u001b[0m in \u001b[0;36m__init__\u001b[0;34m(self, title, width, height, staFunc, stoFunc)\u001b[0m\n\u001b[1;32m     10\u001b[0m     \u001b[0mself\u001b[0m\u001b[0;34m.\u001b[0m\u001b[0mstaIco\u001b[0m\u001b[0;34m=\u001b[0m\u001b[0;32mNone\u001b[0m\u001b[0;34m\u001b[0m\u001b[0;34m\u001b[0m\u001b[0m\n\u001b[1;32m     11\u001b[0m     \u001b[0mself\u001b[0m\u001b[0;34m.\u001b[0m\u001b[0mStoIco\u001b[0m\u001b[0;34m=\u001b[0m\u001b[0;32mNone\u001b[0m\u001b[0;34m\u001b[0m\u001b[0;34m\u001b[0m\u001b[0m\n\u001b[0;32m---> 12\u001b[0;31m     \u001b[0mself\u001b[0m\u001b[0;34m.\u001b[0m\u001b[0mroot\u001b[0m\u001b[0;34m=\u001b[0m\u001b[0mTk\u001b[0m\u001b[0;34m(\u001b[0m\u001b[0mclassName\u001b[0m\u001b[0;34m=\u001b[0m\u001b[0mtitle\u001b[0m\u001b[0;34m)\u001b[0m\u001b[0;34m\u001b[0m\u001b[0;34m\u001b[0m\u001b[0m\n\u001b[0m\u001b[1;32m     13\u001b[0m \u001b[0;34m\u001b[0m\u001b[0m\n\u001b[1;32m     14\u001b[0m   \u001b[0;32mdef\u001b[0m \u001b[0mdrawCenter\u001b[0m\u001b[0;34m(\u001b[0m\u001b[0mself\u001b[0m\u001b[0;34m)\u001b[0m\u001b[0;34m:\u001b[0m\u001b[0;34m\u001b[0m\u001b[0;34m\u001b[0m\u001b[0m\n",
            "\u001b[0;32m/usr/lib/python3.7/tkinter/__init__.py\u001b[0m in \u001b[0;36m__init__\u001b[0;34m(self, screenName, baseName, className, useTk, sync, use)\u001b[0m\n\u001b[1;32m   2021\u001b[0m                 \u001b[0mbaseName\u001b[0m \u001b[0;34m=\u001b[0m \u001b[0mbaseName\u001b[0m \u001b[0;34m+\u001b[0m \u001b[0mext\u001b[0m\u001b[0;34m\u001b[0m\u001b[0;34m\u001b[0m\u001b[0m\n\u001b[1;32m   2022\u001b[0m         \u001b[0minteractive\u001b[0m \u001b[0;34m=\u001b[0m \u001b[0;36m0\u001b[0m\u001b[0;34m\u001b[0m\u001b[0;34m\u001b[0m\u001b[0m\n\u001b[0;32m-> 2023\u001b[0;31m         \u001b[0mself\u001b[0m\u001b[0;34m.\u001b[0m\u001b[0mtk\u001b[0m \u001b[0;34m=\u001b[0m \u001b[0m_tkinter\u001b[0m\u001b[0;34m.\u001b[0m\u001b[0mcreate\u001b[0m\u001b[0;34m(\u001b[0m\u001b[0mscreenName\u001b[0m\u001b[0;34m,\u001b[0m \u001b[0mbaseName\u001b[0m\u001b[0;34m,\u001b[0m \u001b[0mclassName\u001b[0m\u001b[0;34m,\u001b[0m \u001b[0minteractive\u001b[0m\u001b[0;34m,\u001b[0m \u001b[0mwantobjects\u001b[0m\u001b[0;34m,\u001b[0m \u001b[0museTk\u001b[0m\u001b[0;34m,\u001b[0m \u001b[0msync\u001b[0m\u001b[0;34m,\u001b[0m \u001b[0muse\u001b[0m\u001b[0;34m)\u001b[0m\u001b[0;34m\u001b[0m\u001b[0;34m\u001b[0m\u001b[0m\n\u001b[0m\u001b[1;32m   2024\u001b[0m         \u001b[0;32mif\u001b[0m \u001b[0museTk\u001b[0m\u001b[0;34m:\u001b[0m\u001b[0;34m\u001b[0m\u001b[0;34m\u001b[0m\u001b[0m\n\u001b[1;32m   2025\u001b[0m             \u001b[0mself\u001b[0m\u001b[0;34m.\u001b[0m\u001b[0m_loadtk\u001b[0m\u001b[0;34m(\u001b[0m\u001b[0;34m)\u001b[0m\u001b[0;34m\u001b[0m\u001b[0;34m\u001b[0m\u001b[0m\n",
            "\u001b[0;31mTclError\u001b[0m: no display name and no $DISPLAY environment variable"
          ]
        }
      ]
    },
    {
      "cell_type": "code",
      "metadata": {
        "colab": {
          "base_uri": "https://localhost:8080/",
          "height": 389
        },
        "id": "039isGy_YEZy",
        "outputId": "a09173c4-7fe0-4385-d898-73e16f514cfa"
      },
      "source": [
        "import tkinter\n",
        "import messagebox\n",
        "\n",
        "top=tkinter.TK()\n",
        "def helloCallBack():\n",
        "  messagebox.showinfo(\"Hello Python\",\"Hello Runoob\")\n",
        "\n",
        "B=tkinter.Button(top,text=\"点我\",command=helloCallBack())\n",
        "\n",
        "B.pack()\n",
        "top.mainloop()"
      ],
      "execution_count": null,
      "outputs": [
        {
          "output_type": "error",
          "ename": "ModuleNotFoundError",
          "evalue": "ignored",
          "traceback": [
            "\u001b[0;31m---------------------------------------------------------------------------\u001b[0m",
            "\u001b[0;31mModuleNotFoundError\u001b[0m                       Traceback (most recent call last)",
            "\u001b[0;32m<ipython-input-4-f3cacaa078f8>\u001b[0m in \u001b[0;36m<module>\u001b[0;34m()\u001b[0m\n\u001b[1;32m      1\u001b[0m \u001b[0;32mimport\u001b[0m \u001b[0mtkinter\u001b[0m\u001b[0;34m\u001b[0m\u001b[0;34m\u001b[0m\u001b[0m\n\u001b[0;32m----> 2\u001b[0;31m \u001b[0;32mimport\u001b[0m \u001b[0mmessagebox\u001b[0m\u001b[0;34m\u001b[0m\u001b[0;34m\u001b[0m\u001b[0m\n\u001b[0m\u001b[1;32m      3\u001b[0m \u001b[0;34m\u001b[0m\u001b[0m\n\u001b[1;32m      4\u001b[0m \u001b[0mtop\u001b[0m\u001b[0;34m=\u001b[0m\u001b[0mtkinter\u001b[0m\u001b[0;34m.\u001b[0m\u001b[0mTK\u001b[0m\u001b[0;34m(\u001b[0m\u001b[0;34m)\u001b[0m\u001b[0;34m\u001b[0m\u001b[0;34m\u001b[0m\u001b[0m\n\u001b[1;32m      5\u001b[0m \u001b[0;32mdef\u001b[0m \u001b[0mhelloCallBack\u001b[0m\u001b[0;34m(\u001b[0m\u001b[0;34m)\u001b[0m\u001b[0;34m:\u001b[0m\u001b[0;34m\u001b[0m\u001b[0;34m\u001b[0m\u001b[0m\n",
            "\u001b[0;31mModuleNotFoundError\u001b[0m: No module named 'messagebox'",
            "",
            "\u001b[0;31m---------------------------------------------------------------------------\u001b[0;32m\nNOTE: If your import is failing due to a missing package, you can\nmanually install dependencies using either !pip or !apt.\n\nTo view examples of installing some common dependencies, click the\n\"Open Examples\" button below.\n\u001b[0;31m---------------------------------------------------------------------------\u001b[0m\n"
          ],
          "errorDetails": {
            "actions": [
              {
                "action": "open_url",
                "actionText": "Open Examples",
                "url": "/notebooks/snippets/importing_libraries.ipynb"
              }
            ]
          }
        }
      ]
    },
    {
      "cell_type": "code",
      "metadata": {
        "colab": {
          "base_uri": "https://localhost:8080/"
        },
        "id": "td3v71rVfxDL",
        "outputId": "7e281b76-0af5-4e1f-e5f4-9137991c276e"
      },
      "source": [
        "import random\n",
        "for i in range(100):\n",
        "  print(\"%d \\t \" %random.randint(0,1),end='')"
      ],
      "execution_count": null,
      "outputs": [
        {
          "output_type": "stream",
          "name": "stdout",
          "text": [
            "0 \t 1 \t 1 \t 0 \t 1 \t 0 \t 1 \t 1 \t 1 \t 1 \t 0 \t 1 \t 0 \t 1 \t 1 \t 0 \t 1 \t 0 \t 1 \t 1 \t 1 \t 0 \t 0 \t 0 \t 0 \t 1 \t 0 \t 0 \t 0 \t 0 \t 1 \t 1 \t 0 \t 1 \t 0 \t 1 \t 1 \t 1 \t 1 \t 0 \t 1 \t 0 \t 1 \t 0 \t 1 \t 0 \t 1 \t 1 \t 0 \t 0 \t 1 \t 0 \t 1 \t 0 \t 0 \t 0 \t 0 \t 0 \t 0 \t 1 \t 0 \t 1 \t 1 \t 0 \t 0 \t 0 \t 0 \t 0 \t 1 \t 0 \t 0 \t 0 \t 0 \t 0 \t 0 \t 1 \t 0 \t 0 \t 1 \t 0 \t 1 \t 1 \t 0 \t 0 \t 0 \t 0 \t 0 \t 0 \t 1 \t 0 \t 0 \t 1 \t 1 \t 0 \t 1 \t 0 \t 1 \t 1 \t 1 \t 1 \t "
          ]
        }
      ]
    },
    {
      "cell_type": "code",
      "metadata": {
        "id": "OUCm9VFBPpWk"
      },
      "source": [
        "\n",
        "i=0\n",
        "j=1\n",
        "x=0\n",
        "\n",
        "while(i<5):\n",
        "  x=4*j\n",
        "  for i in range(0,5):\n",
        "    if(x%4!=0):\n",
        "      break\n",
        "    else:\n",
        "      i+=1\n",
        "    x=(x/4)*5+1\n",
        "  j=j+1\n",
        "  print(j)\n",
        "print(x)\n",
        "\n",
        "for p in range(5):\n",
        "  x=(x-1)/5*4\n",
        "print(x)"
      ],
      "execution_count": null,
      "outputs": []
    },
    {
      "cell_type": "code",
      "metadata": {
        "colab": {
          "base_uri": "https://localhost:8080/"
        },
        "id": "Hus9mnpGUtp0",
        "outputId": "c609f634-9f16-43c2-d79f-d8c91da4b227"
      },
      "source": [
        "a=809\n",
        "for i in range(9,100):\n",
        "  b=i*a\n",
        "  if b>=1000 and b<=1000 and 8*i<100 and 9*i>=100:\n",
        "\n",
        "    print(b,'=800*',i,'+9*',i)\n",
        "  else:\n",
        "    pass\n",
        "for i in range(10,100):\n",
        "  if 8*i>99 or 9*i<100:\n",
        "    continue\n",
        "  if 809*i==800*i+9*i:\n",
        "    print(i)\n",
        "    "
      ],
      "execution_count": null,
      "outputs": [
        {
          "output_type": "stream",
          "name": "stdout",
          "text": [
            "12\n"
          ]
        }
      ]
    },
    {
      "cell_type": "code",
      "metadata": {
        "colab": {
          "base_uri": "https://localhost:8080/"
        },
        "id": "PwyhYnRnZ2nr",
        "outputId": "f517a241-68ea-43d5-ec58-f6f6595c61d1"
      },
      "source": [
        "n=eval('0o'+str(int(input(\"输入数：\"))))\n",
        "print(n)"
      ],
      "execution_count": null,
      "outputs": [
        {
          "output_type": "stream",
          "name": "stdout",
          "text": [
            "输入数：10\n",
            "8\n"
          ]
        }
      ]
    },
    {
      "cell_type": "code",
      "metadata": {
        "id": "tZc_PDsge3vq",
        "colab": {
          "base_uri": "https://localhost:8080/"
        },
        "outputId": "ff2e91cb-8e6c-475f-e7f3-ebb55976a626"
      },
      "source": [
        "a=int(input(\"输入的奇数为：\"))\n",
        "n=1\n",
        "c=0\n",
        "m=9\n",
        "sum=9\n",
        "while n==1:\n",
        "  if sum%a==0:\n",
        "    n=0\n",
        "    print(sum)\n",
        "    break\n",
        "  else:\n",
        "    m=m*10\n",
        "\n",
        "    sum+=m\n",
        "    c+=1\n"
      ],
      "execution_count": null,
      "outputs": [
        {
          "output_type": "stream",
          "name": "stdout",
          "text": [
            "输入的奇数为：13\n",
            "999999\n"
          ]
        }
      ]
    },
    {
      "cell_type": "code",
      "metadata": {
        "id": "IaXNKhPm61XN"
      },
      "source": [
        "class Student(object):\n",
        "  __init__(self):\n",
        "  "
      ],
      "execution_count": null,
      "outputs": []
    },
    {
      "cell_type": "code",
      "metadata": {
        "colab": {
          "base_uri": "https://localhost:8080/"
        },
        "id": "FpqqTLKM7X0l",
        "outputId": "768044f0-4cd4-41c0-b5bb-cc982d1e5a26"
      },
      "source": [
        "class Circle(object):\n",
        "  pass\n",
        "\n",
        "\n",
        "circle1=Circle()\n",
        "circle2=Circle()\n",
        "circle1.r=1\n",
        "circle2.R=2\n",
        "print(circle1.r)\n",
        "print(circle2.R)"
      ],
      "execution_count": 5,
      "outputs": [
        {
          "output_type": "stream",
          "name": "stdout",
          "text": [
            "1\n",
            "2\n"
          ]
        }
      ]
    },
    {
      "cell_type": "code",
      "metadata": {
        "colab": {
          "base_uri": "https://localhost:8080/"
        },
        "id": "Ip1Yk0JbCgm6",
        "outputId": "2f9e6816-55cd-4238-c76a-f84aef2ef25c"
      },
      "source": [
        "class Circle(object):\n",
        "  pi=3.14\n",
        "  def __init__(self,r):\n",
        "    self.r=r\n",
        "\n",
        "circle1=Circle(1)\n",
        "circle2=Circle(2)\n",
        "\n",
        "print(\"----w未修改前----\")\n",
        "print('pi=\\t',Circle.pi)\n",
        "print('circle1.pi\\t',circle1.pi)\n",
        "print('circle2.pi\\t',circle2.pi)\n",
        "print(\"----修改----\")\n",
        "Circle.pi=3.14159\n",
        "print('pi=\\t',Circle.pi)\n",
        "print('circle1.pi\\t',circle1.pi)\n",
        "print('circle2.pi\\t',circle2.pi)\n",
        "print(\"----通过实例修改----\")\n",
        "circle1.pi=3.15555\n",
        "print('pi=\\t',Circle.pi)\n",
        "print('circle1.pi\\t',circle1.pi)\n",
        "print('circle2.pi\\t',circle2.pi)\n"
      ],
      "execution_count": 10,
      "outputs": [
        {
          "output_type": "stream",
          "name": "stdout",
          "text": [
            "----w未修改前----\n",
            "pi=\t 3.14\n",
            "circle1.pi\t 3.14\n",
            "circle2.pi\t 3.14\n",
            "----修改----\n",
            "pi=\t 3.14159\n",
            "circle1.pi\t 3.14159\n",
            "circle2.pi\t 3.14159\n",
            "----通过实例修改----\n",
            "pi=\t 3.14159\n",
            "circle1.pi\t 3.15555\n",
            "circle2.pi\t 3.14159\n"
          ]
        }
      ]
    },
    {
      "cell_type": "code",
      "metadata": {
        "colab": {
          "base_uri": "https://localhost:8080/"
        },
        "id": "nsF5xXiwJ_1z",
        "outputId": "790e5e74-0f00-4d72-de78-3b77b0817636"
      },
      "source": [
        "class Circle(object):\n",
        "  pi=3.14\n",
        "  def __init__(self,r):\n",
        "    self.r=r\n",
        "  def area(self):\n",
        "    return self.r**2*Circle.pi\n",
        "\n",
        "circle1=Circle(2)\n",
        "print(circle1.area())\n"
      ],
      "execution_count": 21,
      "outputs": [
        {
          "output_type": "stream",
          "name": "stdout",
          "text": [
            "12.56\n"
          ]
        }
      ]
    },
    {
      "cell_type": "code",
      "metadata": {
        "colab": {
          "base_uri": "https://localhost:8080/"
        },
        "id": "PRg9Kgb8kuko",
        "outputId": "b2386094-bb18-477f-c5f2-6d8050a3c42b"
      },
      "source": [
        "for i in range(3):\n",
        "  print('*'*int(input('input a number:')))"
      ],
      "execution_count": 22,
      "outputs": [
        {
          "output_type": "stream",
          "name": "stdout",
          "text": [
            "input a number:2\n",
            "**\n",
            "input a number:3\n",
            "***\n",
            "input a number:6\n",
            "******\n"
          ]
        }
      ]
    },
    {
      "cell_type": "code",
      "metadata": {
        "colab": {
          "base_uri": "https://localhost:8080/"
        },
        "id": "hXCUY5jYC0jn",
        "outputId": "0e6abd38-52c8-4240-e35b-d0777d8bd709"
      },
      "source": [
        "n=input()\n",
        "n=str(n)\n",
        "a=[]\n",
        "for i in range(4):\n",
        "  a.append(((int(n[i]))+5)%10)\n",
        "a[0],a[3]=a[3],a[0]\n",
        "a[1],a[2]=a[2],a[1]\n",
        "print(\"\".join(\"%s\"%s for s in a))"
      ],
      "execution_count": 1,
      "outputs": [
        {
          "output_type": "stream",
          "name": "stdout",
          "text": [
            "1234\n",
            "9876\n"
          ]
        }
      ]
    },
    {
      "cell_type": "code",
      "metadata": {
        "colab": {
          "base_uri": "https://localhost:8080/"
        },
        "id": "EcLSIE1IEHRn",
        "outputId": "7f13b994-ab36-49cc-8a77-cb469bb2b895"
      },
      "source": [
        "list1=[10086,'abd',[1,2,3,4]]\n",
        "#print(len(list1))\n",
        "#print(list1[1:])\n",
        "list1.append('i\\'m new here!')\n",
        "print(list1[0:])\n",
        "print(len(list1))\n",
        "print(list1[-1])\n",
        "print(list1.pop(-1))\n",
        "print(list1)\n"
      ],
      "execution_count": 14,
      "outputs": [
        {
          "output_type": "stream",
          "name": "stdout",
          "text": [
            "[10086, 'abd', [1, 2, 3, 4], \"i'm new here!\"]\n",
            "4\n",
            "i'm new here!\n",
            "i'm new here!\n",
            "[10086, 'abd', [1, 2, 3, 4]]\n"
          ]
        }
      ]
    },
    {
      "cell_type": "code",
      "metadata": {
        "colab": {
          "base_uri": "https://localhost:8080/"
        },
        "id": "BhLi1iA3GeNa",
        "outputId": "c6f02d10-4e3f-4b31-d673-3c0a5a9fea31"
      },
      "source": [
        "matrix=[[1,2,3],[4,5,6],[7,8,9]]\n",
        "print(matrix)\n",
        "print(matrix[1])\n",
        "col2=[row[0] for row in matrix if row[0]%2==0]\n",
        "print(col2)"
      ],
      "execution_count": 19,
      "outputs": [
        {
          "output_type": "stream",
          "name": "stdout",
          "text": [
            "[[1, 2, 3], [4, 5, 6], [7, 8, 9]]\n",
            "[4, 5, 6]\n",
            "[4]\n"
          ]
        }
      ]
    },
    {
      "cell_type": "code",
      "metadata": {
        "colab": {
          "base_uri": "https://localhost:8080/"
        },
        "id": "KUboUcs8WBW2",
        "outputId": "c76f9a7f-20e6-4745-d676-a11bc560cbe5"
      },
      "source": [
        "import random\n",
        "def gailv(n):\n",
        "  count=0\n",
        "  #gailv=0.0\n",
        "  for i in range(n):\n",
        "    num=random.randint(0,1)\n",
        "    if num==1:\n",
        "      count+=1\n",
        "  gailv=count/n\n",
        "  return(gailv)\n",
        "\n",
        "gailv(50000)\n"
      ],
      "execution_count": 26,
      "outputs": [
        {
          "output_type": "execute_result",
          "data": {
            "text/plain": [
              "0.50004"
            ]
          },
          "metadata": {},
          "execution_count": 26
        }
      ]
    },
    {
      "cell_type": "code",
      "metadata": {
        "colab": {
          "base_uri": "https://localhost:8080/"
        },
        "id": "DjDZmzHNdsq7",
        "outputId": "1cb851ed-094f-4f3d-b02c-d9eb46892834"
      },
      "source": [
        "\n",
        "c=1\n",
        "b=6\n",
        "while c:\n",
        "  if(c%2==0):\n",
        "    c+=1\n",
        "    continue\n",
        "  elif c>=b:\n",
        "    break\n",
        "  print(\" \"*int((b-c)/2)+'*'*c)\n",
        "  c+=1\n",
        "else:\n",
        "  print('结束')\n"
      ],
      "execution_count": 49,
      "outputs": [
        {
          "output_type": "stream",
          "name": "stdout",
          "text": [
            "  *\n",
            " ***\n",
            "*****\n"
          ]
        }
      ]
    },
    {
      "cell_type": "code",
      "metadata": {
        "colab": {
          "base_uri": "https://localhost:8080/"
        },
        "id": "2esvFI98fRnF",
        "outputId": "54e4c7d2-f546-4e1f-f068-0f6f3eb97b23"
      },
      "source": [
        "for i in range(0,12):\n",
        "  if i%2==0:\n",
        "    continue\n",
        "  else:\n",
        "    print(\" \"*int((12-i)/2),end='')\n",
        "    print('*'*(i))"
      ],
      "execution_count": 55,
      "outputs": [
        {
          "output_type": "stream",
          "name": "stdout",
          "text": [
            "     *\n",
            "    ***\n",
            "   *****\n",
            "  *******\n",
            " *********\n",
            "***********\n"
          ]
        }
      ]
    },
    {
      "cell_type": "code",
      "metadata": {
        "colab": {
          "base_uri": "https://localhost:8080/"
        },
        "id": "11AtwWPqgzu6",
        "outputId": "eff73247-4646-47f2-f0dd-27d1b2c5e010"
      },
      "source": [
        "print(int(5.9))"
      ],
      "execution_count": 44,
      "outputs": [
        {
          "output_type": "stream",
          "name": "stdout",
          "text": [
            "5\n"
          ]
        }
      ]
    },
    {
      "cell_type": "code",
      "metadata": {
        "colab": {
          "base_uri": "https://localhost:8080/"
        },
        "id": "1qgvpcDHlbvn",
        "outputId": "5226df50-e3c0-4ae3-d124-7b0bdc22de71"
      },
      "source": [
        "for i in range(0,12):\n",
        "  if i%2==0:\n",
        "    continue\n",
        "  else:\n",
        "    print(\" \"*int((12-i)/2),'*'*(i))\n",
        "   # print('*'*(i))"
      ],
      "execution_count": 58,
      "outputs": [
        {
          "output_type": "stream",
          "name": "stdout",
          "text": [
            "      *\n",
            "     ***\n",
            "    *****\n",
            "   *******\n",
            "  *********\n",
            " ***********\n"
          ]
        }
      ]
    },
    {
      "cell_type": "code",
      "metadata": {
        "colab": {
          "base_uri": "https://localhost:8080/"
        },
        "id": "6dj3EkD4fRqF",
        "outputId": "d4f78b6b-26e7-41d9-f281-86d165798ae5"
      },
      "source": [
        "import time\n",
        "print(time.ctime(time.time()))\n",
        "print(time.asctime(time.localtime(time.time())))"
      ],
      "execution_count": 2,
      "outputs": [
        {
          "output_type": "stream",
          "name": "stdout",
          "text": [
            "Sat Oct 16 14:28:00 2021\n",
            "Sat Oct 16 14:28:00 2021\n"
          ]
        }
      ]
    },
    {
      "cell_type": "code",
      "metadata": {
        "colab": {
          "base_uri": "https://localhost:8080/"
        },
        "id": "um4rtv-agNAn",
        "outputId": "0f7d0e9d-28e4-42ef-eea1-765e14873ed2"
      },
      "source": [
        "import time\n",
        "start=time.process_time ()\n",
        "for i in range(50):\n",
        "  print(i)\n",
        "end=time.process_time ()\n",
        "print('different is %6.3f'%(end-start))"
      ],
      "execution_count": 5,
      "outputs": [
        {
          "output_type": "stream",
          "name": "stdout",
          "text": [
            "0\n",
            "1\n",
            "2\n",
            "3\n",
            "4\n",
            "5\n",
            "6\n",
            "7\n",
            "8\n",
            "9\n",
            "10\n",
            "11\n",
            "12\n",
            "13\n",
            "14\n",
            "15\n",
            "16\n",
            "17\n",
            "18\n",
            "19\n",
            "20\n",
            "21\n",
            "22\n",
            "23\n",
            "24\n",
            "25\n",
            "26\n",
            "27\n",
            "28\n",
            "29\n",
            "30\n",
            "31\n",
            "32\n",
            "33\n",
            "34\n",
            "35\n",
            "36\n",
            "37\n",
            "38\n",
            "39\n",
            "40\n",
            "41\n",
            "42\n",
            "43\n",
            "44\n",
            "45\n",
            "46\n",
            "47\n",
            "48\n",
            "49\n",
            "different is  0.009\n"
          ]
        }
      ]
    },
    {
      "cell_type": "code",
      "metadata": {
        "colab": {
          "base_uri": "https://localhost:8080/"
        },
        "id": "xLPaVU1ohNmY",
        "outputId": "87c90e92-efeb-42e3-9ab4-2d830e60535d"
      },
      "source": [
        "s1='abcdefgabcdefgabcderg'\n",
        "s2='cde'\n",
        "print(s1.count(s2))\n",
        "dir(s1)"
      ],
      "execution_count": 7,
      "outputs": [
        {
          "output_type": "stream",
          "name": "stdout",
          "text": [
            "3\n"
          ]
        },
        {
          "output_type": "execute_result",
          "data": {
            "text/plain": [
              "['__add__',\n",
              " '__class__',\n",
              " '__contains__',\n",
              " '__delattr__',\n",
              " '__dir__',\n",
              " '__doc__',\n",
              " '__eq__',\n",
              " '__format__',\n",
              " '__ge__',\n",
              " '__getattribute__',\n",
              " '__getitem__',\n",
              " '__getnewargs__',\n",
              " '__gt__',\n",
              " '__hash__',\n",
              " '__init__',\n",
              " '__init_subclass__',\n",
              " '__iter__',\n",
              " '__le__',\n",
              " '__len__',\n",
              " '__lt__',\n",
              " '__mod__',\n",
              " '__mul__',\n",
              " '__ne__',\n",
              " '__new__',\n",
              " '__reduce__',\n",
              " '__reduce_ex__',\n",
              " '__repr__',\n",
              " '__rmod__',\n",
              " '__rmul__',\n",
              " '__setattr__',\n",
              " '__sizeof__',\n",
              " '__str__',\n",
              " '__subclasshook__',\n",
              " 'capitalize',\n",
              " 'casefold',\n",
              " 'center',\n",
              " 'count',\n",
              " 'encode',\n",
              " 'endswith',\n",
              " 'expandtabs',\n",
              " 'find',\n",
              " 'format',\n",
              " 'format_map',\n",
              " 'index',\n",
              " 'isalnum',\n",
              " 'isalpha',\n",
              " 'isascii',\n",
              " 'isdecimal',\n",
              " 'isdigit',\n",
              " 'isidentifier',\n",
              " 'islower',\n",
              " 'isnumeric',\n",
              " 'isprintable',\n",
              " 'isspace',\n",
              " 'istitle',\n",
              " 'isupper',\n",
              " 'join',\n",
              " 'ljust',\n",
              " 'lower',\n",
              " 'lstrip',\n",
              " 'maketrans',\n",
              " 'partition',\n",
              " 'replace',\n",
              " 'rfind',\n",
              " 'rindex',\n",
              " 'rjust',\n",
              " 'rpartition',\n",
              " 'rsplit',\n",
              " 'rstrip',\n",
              " 'split',\n",
              " 'splitlines',\n",
              " 'startswith',\n",
              " 'strip',\n",
              " 'swapcase',\n",
              " 'title',\n",
              " 'translate',\n",
              " 'upper',\n",
              " 'zfill']"
            ]
          },
          "metadata": {},
          "execution_count": 7
        }
      ]
    },
    {
      "cell_type": "code",
      "metadata": {
        "colab": {
          "base_uri": "https://localhost:8080/"
        },
        "id": "5aP3pDdqhudJ",
        "outputId": "b3d7eb19-72f4-4e70-bb9c-d7a7ee1d5d60"
      },
      "source": [
        "from sys import stdout\n",
        "filename=input('输入文件名：\\n')\n",
        "fp=open(filename,\"w\")\n",
        "ch=input(\"输入字符串\\n\")\n",
        "while ch!=\"#\":\n",
        "  fp.write(ch)\n",
        "  stdout.write(ch)\n",
        "  ch=input('')\n",
        "fp.close"
      ],
      "execution_count": 8,
      "outputs": [
        {
          "name": "stdout",
          "output_type": "stream",
          "text": [
            "输入文件名：\n",
            "abc\n",
            "输入字符串\n",
            "sa\n",
            "sasd\n",
            "sdd\n",
            "daaa\n",
            "aaaaaa\n",
            "aaabbb\n",
            "bbbbbb\n",
            "bbbcc\n",
            "cc#\n"
          ]
        },
        {
          "output_type": "execute_result",
          "data": {
            "text/plain": [
              "<function TextIOWrapper.close>"
            ]
          },
          "metadata": {},
          "execution_count": 8
        }
      ]
    },
    {
      "cell_type": "code",
      "metadata": {
        "colab": {
          "base_uri": "https://localhost:8080/"
        },
        "id": "T4WoywevkPFC",
        "outputId": "a70de523-3c6b-4415-ac1c-6e36201a8999"
      },
      "source": [
        "fp=open('text.txt','w')\n",
        "string=input('input a string:\\n')\n",
        "string=string.upper()\n",
        "fp.write(string)\n",
        "fp=open('text.txt','r')\n",
        "print(fp.read())\n",
        "fp.close()"
      ],
      "execution_count": 10,
      "outputs": [
        {
          "output_type": "stream",
          "name": "stdout",
          "text": [
            "input a string:\n",
            "abcdef\n",
            "ABCDEF\n"
          ]
        }
      ]
    },
    {
      "cell_type": "code",
      "metadata": {
        "colab": {
          "base_uri": "https://localhost:8080/"
        },
        "id": "KE8ALIkhk-pV",
        "outputId": "2c7b1c0c-ba94-41fa-d6d6-2b82adef2786"
      },
      "source": [
        "i=['a','b']\n",
        "j=[1,2]\n",
        "print(dict(zip(i,j)))"
      ],
      "execution_count": 11,
      "outputs": [
        {
          "output_type": "stream",
          "name": "stdout",
          "text": [
            "{'a': 1, 'b': 2}\n"
          ]
        }
      ]
    }
  ]
}